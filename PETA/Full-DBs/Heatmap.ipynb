{
 "cells": [
  {
   "cell_type": "code",
   "execution_count": null,
   "id": "e0f7d0f5",
   "metadata": {
    "scrolled": true
   },
   "outputs": [],
   "source": [
    "%matplotlib inline\n",
    "\n",
    "OCCLUSION_SIZES = [ # occlusion size, occlusion stride\n",
    "    [16, 16],\n",
    "    [4, 2]\n",
    "]\n",
    "\n",
    "# Import the required modules\n",
    "import nibabel as nib\n",
    "from ipywidgets import interact\n",
    "from matplotlib import pyplot as plt\n",
    "import numpy as np\n",
    "import nibabel as nib\n",
    "from mpl_toolkits.mplot3d import Axes3D\n",
    "from scipy import ndimage as ndi\n",
    "\n",
    "heatmap = np.load('/Users/hugom/PET-IA/MedicalTransformer/2_Pretraining_Masked_Encoding_Vector_Prediction/occlusions/I347770-4x4x4-s2_heatmap.npy')\n",
    "\n",
    "print(heatmap.max())\n",
    "print(heatmap.min())\n",
    "\n",
    "# Dividimos por heatmap.max() porque los valores NO están entre 0 y 1 ya que son sumas.\n",
    "# A su vez, no queremos normalizar, porque queremos mantener el cambio neutro en 0.\n",
    "# heatmap /= max(heatmap.max(), -heatmap.min())\n",
    "\n",
    "print(heatmap.shape)\n",
    "\n",
    "# Convert the image data as a NumPy array\n",
    "array = np.load('/Users/hugom/PET-IA/MedicalTransformer/2_Pretraining_Masked_Encoding_Vector_Prediction/occlusions/I347770-4x4x4-s2_original.npy')\n",
    "\n",
    "print(array.shape)"
   ]
  },
  {
   "cell_type": "code",
   "execution_count": null,
   "id": "430eb8e6",
   "metadata": {
    "scrolled": true
   },
   "outputs": [],
   "source": [
    "def show_axial(heatmap, array, metadata, slice_threhsold = 0.5, show = True, save = False):\n",
    "    heatmap = heatmap.copy()\n",
    "    array = array.copy()\n",
    "    \n",
    "    # Display metadata information at the top\n",
    "    metadata_str = f'Truth Label: {metadata[\"truthLabel\"]}\\n' \\\n",
    "                   f'Predicted Label: {metadata[\"predictedLabel\"]}\\n' \\\n",
    "                   f'Occlusion Stride: {metadata[\"occlusionStride\"]}\\n' \\\n",
    "                   f'Occlusion Size: {metadata[\"occlusionSize\"]}\\n' \\\n",
    "                   f'Study ID: {metadata[\"studyID\"]}\\n' \\\n",
    "                   f'Truth Label Category: {metadata[\"truthLabelCategory\"]}\\n\\n'\n",
    "    \n",
    "    # Rotation\n",
    "    for i in range(heatmap.shape[2]):  # Assuming axial slices are along the z-axis\n",
    "        heatmap[:, :, i] = ndi.rotate(heatmap[:, :, i], 90, reshape=False)\n",
    "    for i in range(array.shape[2]):  # Assuming axial slices are along the z-axis\n",
    "        array[:, :, i] = ndi.rotate(array[:, :, i], 90, reshape=False)\n",
    "        \n",
    "    # Filter slices with values equal to 0\n",
    "    non_zero_slices = np.any(array != -1, axis=(0, 1)) # The tensor is normalized -1, 1\n",
    "\n",
    "    # Filter the image data\n",
    "    array = array[:, :, non_zero_slices]\n",
    "\n",
    "    # Filter the heatmap\n",
    "    heatmap = heatmap[:, :, non_zero_slices]\n",
    "\n",
    "    print(array.shape)\n",
    "    \n",
    "    # Filter slices with less than N occlusion change as max\n",
    "    # threshold = slice_threhsold\n",
    "    # thresholded_slices = np.any((heatmap > threshold) | (heatmap < - threshold), axis=(0, 1))\n",
    "    # print(non_zero_slices)\n",
    "\n",
    "    # Filter the image data\n",
    "    # array = array[:, :, thresholded_slices]\n",
    "\n",
    "    # Filter the heatmap\n",
    "    # heatmap = heatmap[:, :, thresholded_slices]\n",
    "    \n",
    "    stride = 4 # Este debería ser el stride que usamos en el occlusion\n",
    "    print(array.shape[2]//stride)\n",
    "    fig, axs = plt.subplots(nrows=array.shape[2]//stride, ncols=2, figsize=(10, 5*(array.shape[2]//stride)))\n",
    "    \n",
    "    #fig.text(0.5, 0.95, metadata_str, horizontalalignment='center', verticalalignment='top', fontsize=10)\n",
    "    \n",
    "    fig.suptitle(metadata_str, fontsize=10, va='top')\n",
    "    \n",
    "    rang = max(heatmap.max(), -heatmap.min())\n",
    "    \n",
    "    for i, ax in enumerate(axs):\n",
    "        # Left column: Image with heatmap overlay\n",
    "        im = ax[0].imshow(array[:, :, i * stride], cmap='gray', origin='lower')\n",
    "        im_overlay = ax[0].imshow(heatmap[:, :, i * stride], cmap='coolwarm', alpha=0.8, origin='lower', vmin=-rang, vmax=rang)\n",
    "        ax[0].set_title(f'Axial Slice {i * stride}')\n",
    "\n",
    "        # Add color bar for the heatmap overlay\n",
    "        cbar = fig.colorbar(im_overlay, ax=ax[0], fraction=0.046, pad=0.04)\n",
    "        cbar.set_label('Heatmap Intensity')\n",
    "\n",
    "        # Right column: Original image\n",
    "        ax[1].imshow(array[:, :, i * stride], cmap='gray', origin='lower')\n",
    "        ax[1].set_title(f'Original Axial Slice {i * stride}')\n",
    "        \n",
    "    if save:\n",
    "        plt.savefig(f\"/Users/hugom/Tesis/Fleni/Occlusions/MedicalTransformer/{metadata['truthLabel']}-{metadata['studyID']}-occlusion{metadata['occlusionSize']}-stride{metadata['occlusionStride']}-axial\", dpi=96)\n",
    "        \n",
    "    if show:\n",
    "        # Adjust layout\n",
    "        plt.tight_layout()\n",
    "        # Show the plot\n",
    "        plt.show()"
   ]
  },
  {
   "cell_type": "markdown",
   "id": "a6ac17d0",
   "metadata": {},
   "source": [
    "AD: I347770"
   ]
  },
  {
   "cell_type": "code",
   "execution_count": null,
   "id": "5a0a8461",
   "metadata": {
    "scrolled": false
   },
   "outputs": [],
   "source": [
    "metadata = {\n",
    "    \"truthLabel\": \"Label1\",\n",
    "    \"predictedLabel\": \"Label2\",\n",
    "    \"occlusionStride\": 2,\n",
    "    \"occlusionSize\": 4,\n",
    "    \"studyID\": \"123456\",\n",
    "    \"truthLabelCategory\": \"visit953\"\n",
    "}\n",
    "\n",
    "show_axial(heatmap, array, metadata, show = False, save = True)"
   ]
  },
  {
   "cell_type": "code",
   "execution_count": null,
   "id": "abf21d88",
   "metadata": {
    "scrolled": false
   },
   "outputs": [],
   "source": [
    "def show_coronal(heatmap, array, metadata, slice_threhsold = 0.5, show = True, save = False):\n",
    "    heatmap = heatmap.copy()\n",
    "    array = array.copy()\n",
    "    \n",
    "    # Rotation\n",
    "    for i in range(heatmap.shape[1]):  # Assuming axial slices are along the z-axis\n",
    "        heatmap[:, i, :] = ndi.rotate(heatmap[:, i, :], -90, reshape=False, mode = 'constant', cval = 0)\n",
    "    for i in range(array.shape[1]):  # Assuming axial slices are along the z-axis\n",
    "        array[:, i, :] = ndi.rotate(array[:, i, :], -90, reshape=False, mode = 'constant', cval = -1)\n",
    "        \n",
    "    # Filter slices with values equal to 0\n",
    "    non_zero_slices = np.any(array != -1, axis=(0, 2)) # The tensor is normalized -1, 1\n",
    "\n",
    "    # Filter the image data\n",
    "    array = array[:, non_zero_slices, :]\n",
    "\n",
    "    # Filter the heatmap\n",
    "    heatmap = heatmap[:, non_zero_slices, :]\n",
    "\n",
    "    print(array.shape)\n",
    "    \n",
    "    rang = max(heatmap.max(), -heatmap.min())\n",
    "    \n",
    "    # Filter slices with less than N occlusion change as max\n",
    "    # threshold = slice_threhsold\n",
    "    # thresholded_slices = np.any((heatmap > threshold) | (heatmap < - threshold), axis=(0, 2))\n",
    "    # print(non_zero_slices)\n",
    "\n",
    "    # Filter the image data\n",
    "    # array = array[:, thresholded_slices, :]\n",
    "\n",
    "    # Filter the heatmap\n",
    "    # heatmap = heatmap[:, thresholded_slices, :]\n",
    "    \n",
    "    stride = 4 # Este debería ser el stride que usamos en el occlusion\n",
    "    fig, axs = plt.subplots(nrows=array.shape[1]//stride, ncols=2, figsize=(10, 5*(array.shape[1]//stride)))\n",
    "    for i, ax in enumerate(axs):\n",
    "        # Left column: Image with heatmap overlay\n",
    "        im = ax[0].imshow(array[:, i * stride, :], cmap='gray', origin='lower')\n",
    "        im_overlay = ax[0].imshow(heatmap[:, i * stride, :], cmap='coolwarm', alpha=0.8, origin='lower', vmin=-rang, vmax=rang)\n",
    "        ax[0].set_title(f'Axial Slice {i * stride}')\n",
    "\n",
    "        # Add color bar for the heatmap overlay\n",
    "        cbar = fig.colorbar(im_overlay, ax=ax[0], fraction=0.046, pad=0.04)\n",
    "        cbar.set_label('Heatmap Intensity')\n",
    "\n",
    "        # Right column: Original image\n",
    "        ax[1].imshow(array[:, i * stride, :], cmap='gray', origin='lower')\n",
    "        ax[1].set_title(f'Original Axial Slice {i * stride}')\n",
    "\n",
    "    if save:\n",
    "        plt.savefig(f\"/Users/hugom/Tesis/Fleni/Occlusions/MedicalTransformer/{metadata['truthLabel']}-{metadata['studyID']}-occlusion{metadata['occlusionSize']}-stride{metadata['occlusionStride']}-coronal\", dpi=96)\n",
    "    \n",
    "    if show:\n",
    "        # Adjust layout\n",
    "        plt.tight_layout()\n",
    "        # Show the plot\n",
    "        plt.show()"
   ]
  },
  {
   "cell_type": "code",
   "execution_count": null,
   "id": "d1c6b4ec",
   "metadata": {
    "scrolled": false
   },
   "outputs": [],
   "source": [
    "show_coronal(heatmap, array, metadata, show = False, save = True)"
   ]
  },
  {
   "cell_type": "code",
   "execution_count": null,
   "id": "eed59b7a",
   "metadata": {
    "scrolled": false
   },
   "outputs": [],
   "source": [
    "def show_saggital(heatmap, array, metadata, slice_threhsold = 0.5, show = True, save = False):\n",
    "    heatmap = heatmap.copy()\n",
    "    array = array.copy()\n",
    "\n",
    "    # Rotation\n",
    "    for i in range(heatmap.shape[0]):  # Assuming axial slices are along the z-axis\n",
    "        heatmap[i, :, :] = ndi.rotate(heatmap[i, :, :], -90, reshape=False, mode = 'constant', cval = 0)\n",
    "    for i in range(array.shape[0]):  # Assuming axial slices are along the z-axis\n",
    "        array[i, :, :] = ndi.rotate(array[i, :, :], -90, reshape=False, mode = 'constant', cval = -1)\n",
    "        \n",
    "    # Filter slices with values equal to 0\n",
    "    non_zero_slices = np.any(array != -1, axis=(1, 2)) # The tensor is normalized -1, 1\n",
    "\n",
    "    # Filter the image data\n",
    "    array = array[non_zero_slices, :, :]\n",
    "\n",
    "    # Filter the heatmap\n",
    "    heatmap = heatmap[non_zero_slices, :, :]\n",
    "\n",
    "    print(array.shape)\n",
    "    \n",
    "    rang = max(heatmap.max(), -heatmap.min())\n",
    "    \n",
    "    # Filter slices with less than N occlusion change as max\n",
    "    # threshold = slice_threhsold\n",
    "    # thresholded_slices = np.any((heatmap > threshold) | (heatmap < - threshold), axis=(1, 2))\n",
    "    # print(non_zero_slices)\n",
    "\n",
    "    # Filter the image data\n",
    "    # array = array[thresholded_slices, :, :]\n",
    "\n",
    "    # Filter the heatmap\n",
    "    # heatmap = heatmap[thresholded_slices, :, :]\n",
    "    \n",
    "    stride = 4 # Este debería ser el stride que usamos en el occlusion\n",
    "    fig, axs = plt.subplots(nrows=array.shape[0]//stride, ncols=2, figsize=(10, 5*(array.shape[0]//stride)))\n",
    "    for i, ax in enumerate(axs):\n",
    "        # Left column: Image with heatmap overlay\n",
    "        im = ax[0].imshow(array[i * stride, :, :], cmap='gray', origin='lower')\n",
    "        im_overlay = ax[0].imshow(heatmap[i * stride, :, :], cmap='coolwarm', alpha=0.8, origin='lower', vmin=-rang, vmax=rang)\n",
    "        ax[0].set_title(f'Axial Slice {i * stride}')\n",
    "\n",
    "        # Add color bar for the heatmap overlay\n",
    "        cbar = fig.colorbar(im_overlay, ax=ax[0], fraction=0.046, pad=0.04)\n",
    "        cbar.set_label('Heatmap Intensity')\n",
    "\n",
    "        # Right column: Original image\n",
    "        ax[1].imshow(array[i * stride, :, :], cmap='gray', origin='lower')\n",
    "        ax[1].set_title(f'Original Axial Slice {i * stride}')\n",
    "\n",
    "    if save:\n",
    "        plt.savefig(f\"/Users/hugom/Tesis/Fleni/Occlusions/MedicalTransformer/{metadata['truthLabel']}-{metadata['studyID']}-occlusion{metadata['occlusionSize']}-stride{metadata['occlusionStride']}-sagittal\", dpi=96)\n",
    "    \n",
    "    if show:\n",
    "        # Adjust layout\n",
    "        plt.tight_layout()\n",
    "        # Show the plot\n",
    "        plt.show()"
   ]
  },
  {
   "cell_type": "code",
   "execution_count": null,
   "id": "8ae059d5",
   "metadata": {
    "scrolled": false
   },
   "outputs": [],
   "source": [
    "show_saggital(heatmap, array, metadata)"
   ]
  },
  {
   "cell_type": "markdown",
   "id": "8ba6c7c6",
   "metadata": {},
   "source": [
    "# CN"
   ]
  },
  {
   "cell_type": "code",
   "execution_count": null,
   "id": "56904e90",
   "metadata": {
    "scrolled": false
   },
   "outputs": [],
   "source": [
    "%matplotlib inline\n",
    "# Load the NIfTI image\n",
    "\n",
    "# Import the required modules\n",
    "import nibabel as nib\n",
    "from ipywidgets import interact\n",
    "from matplotlib import pyplot as plt\n",
    "import numpy as np\n",
    "import nibabel as nib\n",
    "from mpl_toolkits.mplot3d import Axes3D\n",
    "from scipy import ndimage as ndi\n",
    "\n",
    "heatmap = np.load('/Users/hugom/PET-IA/MedicalTransformer/2_Pretraining_Masked_Encoding_Vector_Prediction/occlusions/I77185-4x4x4-s2_heatmap.npy')\n",
    "\n",
    "print(heatmap.max())\n",
    "print(heatmap.min())\n",
    "\n",
    "# Dividimos por heatmap.max() porque los valores NO están entre 0 y 1 ya que son sumas.\n",
    "# A su vez, no queremos normalizar, porque queremos mantener el cambio neutro en 0.\n",
    "# heatmap /= max(heatmap.max(), -heatmap.min())\n",
    "\n",
    "\n",
    "print(heatmap.shape)\n",
    "\n",
    "# Convert the image data as a NumPy array\n",
    "array = np.load('/Users/hugom/PET-IA/MedicalTransformer/2_Pretraining_Masked_Encoding_Vector_Prediction/occlusions/I77185-4x4x4-s2_original.npy')\n",
    "\n",
    "print(array.shape)"
   ]
  },
  {
   "cell_type": "code",
   "execution_count": null,
   "id": "9428dfc9",
   "metadata": {
    "scrolled": false
   },
   "outputs": [],
   "source": [
    "show_axial(heatmap, array, metadata)"
   ]
  },
  {
   "cell_type": "code",
   "execution_count": null,
   "id": "475ffc21",
   "metadata": {
    "scrolled": false
   },
   "outputs": [],
   "source": [
    "show_coronal(heatmap, array, metadata)"
   ]
  },
  {
   "cell_type": "code",
   "execution_count": null,
   "id": "479024f8",
   "metadata": {
    "scrolled": false
   },
   "outputs": [],
   "source": [
    "show_saggital(heatmap, array, metadata)"
   ]
  },
  {
   "cell_type": "code",
   "execution_count": null,
   "id": "8284e7c0",
   "metadata": {},
   "outputs": [],
   "source": [
    "# El confidence en este caso es del modelo nuevo\n",
    "ads = [{\n",
    "    \"studyID\": \"I128833\",\n",
    "    \"confidence\": 1,\n",
    "    \"predictedLabel\": \"AD\",\n",
    "}, {\n",
    "    \"studyID\": \"I47403\",\n",
    "    \"confidence\": 0.9483,\n",
    "    \"predictedLabel\": \"AD\",\n",
    "}, {\n",
    "    \"studyID\": \"I146553\",\n",
    "    \"confidence\": 0.99998,\n",
    "    \"predictedLabel\": \"AD\",\n",
    "}, {\n",
    "    \"studyID\": \"I1334685\",\n",
    "    \"confidence\": 0.9397,\n",
    "    \"predictedLabel\": \"AD\",\n",
    "}, {\n",
    "    \"studyID\": \"I85844\",\n",
    "    \"confidence\": 1,\n",
    "    \"predictedLabel\": \"AD\",\n",
    "}]\n",
    "noAds = [{\n",
    "    \"studyID\": \"I225971\",\n",
    "    \"confidence\": 0.7502,\n",
    "    \"predictedLabel\": \"no-AD\",\n",
    "}, {\n",
    "    \"studyID\": \"I321658\",\n",
    "    \"confidence\": 0.9641,\n",
    "    \"predictedLabel\": \"no-AD\",\n",
    "}, {\n",
    "    \"studyID\": \"I77185\",\n",
    "    \"confidence\": 0.99996,\n",
    "    \"predictedLabel\": \"no-AD\",\n",
    "}, {\n",
    "    \"studyID\": \"I325148\",\n",
    "    \"confidence\": 0.9952,\n",
    "    \"predictedLabel\": \"no-AD\",\n",
    "}, {\n",
    "    \"studyID\": \"I223643\",\n",
    "    \"confidence\": 0.9954,\n",
    "    \"predictedLabel\": \"no-AD\",\n",
    "}]"
   ]
  },
  {
   "cell_type": "code",
   "execution_count": null,
   "id": "e1f88e4b",
   "metadata": {},
   "outputs": [],
   "source": [
    "def showAllMedicalTransformerImages(lst, category, occlusionSize = 4, occlusionStride = 2):\n",
    "    for imageData in lst:\n",
    "        studyID = imageData['studyID']\n",
    "        print(f\"Processing {studyID}\")\n",
    "        metadata = {\n",
    "            \"occlusionSize\": occlusionSize,\n",
    "            \"occlusionStride\": occlusionStride,\n",
    "            \"truthLabel\": category,\n",
    "            \"truthLabelCategory\": \"visit953\"\n",
    "        }\n",
    "        metadata = dict(list(metadata.items()) + list(imageData.items()))\n",
    "        heatmap = np.load(f\"/Users/hugom/PET-IA/MedicalTransformer/2_Pretraining_Masked_Encoding_Vector_Prediction/occlusions/{studyID}-size{occlusionSize}-stride{occlusionStride}_heatmap.npy\")\n",
    "\n",
    "        if heatmap.max() == heatmap.min():\n",
    "            print(\"Warning: empty heatmap\")\n",
    "            \n",
    "        if category != \"AD\":\n",
    "            heatmap *= -1\n",
    "\n",
    "        # Convert the image data as a NumPy array\n",
    "        array = np.load(f\"/Users/hugom/PET-IA/MedicalTransformer/2_Pretraining_Masked_Encoding_Vector_Prediction/occlusions/{studyID}-size{occlusionSize}-stride{occlusionStride}_original.npy\")\n",
    "        \n",
    "        show_axial(heatmap, array, metadata, save = True, show = False)\n",
    "        show_coronal(heatmap, array, metadata, save = True, show = False)\n",
    "        show_saggital(heatmap, array, metadata, save = True, show = False)"
   ]
  },
  {
   "cell_type": "code",
   "execution_count": null,
   "id": "afee7511",
   "metadata": {},
   "outputs": [],
   "source": [
    "# ejecutar en loop para crear todas las imágenes\n",
    "showAllMedicalTransformerImages(ads, \"AD\", 4, 2)\n",
    "showAllMedicalTransformerImages(ads, \"AD\", 16, 16)"
   ]
  },
  {
   "cell_type": "code",
   "execution_count": null,
   "id": "751d3d6b",
   "metadata": {},
   "outputs": [],
   "source": [
    "showAllMedicalTransformerImages(noAds, \"no-AD\", 4, 2)\n",
    "showAllMedicalTransformerImages(noAds, \"no-AD\", 16, 16)"
   ]
  },
  {
   "cell_type": "markdown",
   "id": "a45141b7",
   "metadata": {},
   "source": [
    "# Modelo viejo"
   ]
  },
  {
   "cell_type": "markdown",
   "id": "716cf0c4",
   "metadata": {},
   "source": [
    "no-AD: I77185"
   ]
  },
  {
   "cell_type": "code",
   "execution_count": null,
   "id": "2f128e1e",
   "metadata": {},
   "outputs": [],
   "source": [
    "%matplotlib inline\n",
    "\n",
    "heatmap = np.load('/Users/hugom/PET-IA/src/I77185_heatmap.npy')\n",
    "\n",
    "print(heatmap.max())\n",
    "print(heatmap.min())\n",
    "\n",
    "print(heatmap.shape)\n",
    "\n",
    "# Load the Nifti File\n",
    "# image = nib.load(nifti_path)\n",
    "\n",
    "# Convert the image data as a NumPy array\n",
    "array = np.load('/Users/hugom/PET-IA/src/I77185_original.npy')\n",
    "print(array.min())\n",
    "print(array.max())\n",
    "\n",
    "print(array.shape)"
   ]
  },
  {
   "cell_type": "code",
   "execution_count": null,
   "id": "3e782931",
   "metadata": {},
   "outputs": [],
   "source": [
    "def show_axial_yiming(heatmap, array, metadata, heatmap_axis = 0, save = False):\n",
    "    fig, axs = plt.subplots(nrows=1, ncols=2, figsize=(12, 5))\n",
    "    # Left column: Image with heatmap overlay\n",
    "    im = axs[0].imshow(array[0, :, :], cmap='gray', origin='lower')\n",
    "    rang = max(heatmap.max(), -heatmap.min())\n",
    "    im_overlay = axs[0].imshow(heatmap[heatmap_axis, :, :], cmap='coolwarm', alpha=0.5, origin='lower', vmin = -rang, vmax = rang)\n",
    "    axs[0].set_title(f'Axial Slice')\n",
    "\n",
    "    # Add color bar for the heatmap overlay\n",
    "    cbar = fig.colorbar(im_overlay, ax=axs[0])\n",
    "    cbar.set_label('Heatmap Intensity')\n",
    "    \n",
    "    # Display metadata information\n",
    "    metadata_str = f'Truth Label: {metadata[\"truthLabel\"]}\\n' \\\n",
    "                   f'Predicted Label: {metadata[\"predictedLabel\"]}\\n' \\\n",
    "                   f'Confidence: {metadata[\"confidence\"]}\\n' \\\n",
    "                   f'Occlusion Stride: {metadata[\"occlusionStride\"]}\\n' \\\n",
    "                   f'Occlusion Size: {metadata[\"occlusionSize\"]}\\n' \\\n",
    "                   f'Study ID: {metadata[\"studyID\"]}\\n' \\\n",
    "                   f'Truth Label Category: {metadata[\"truthLabelCategory\"]}'\n",
    "    \n",
    "    axs[0].text(0, 1.5, metadata_str, transform=axs[0].transAxes, verticalalignment='center', fontsize=10)\n",
    "\n",
    "    # Right column: Original image\n",
    "    axs[1].imshow(array[0, :, :], cmap='gray', origin='lower')\n",
    "    axs[1].set_title(f'Original Axial Slice')\n",
    "\n",
    "    # Adjust layout\n",
    "    plt.tight_layout()\n",
    "    \n",
    "    if save:\n",
    "        plt.savefig(f\"/Users/hugom/Tesis/Fleni/Occlusions/Yiming/{metadata['truthLabel']}-{metadata['studyID']}-o{metadata['occlusionSize']}-s{metadata['occlusionStride']}\", dpi=300)\n",
    "\n",
    "    \n",
    "    # Show the plot\n",
    "    plt.show()"
   ]
  },
  {
   "cell_type": "code",
   "execution_count": null,
   "id": "ec801720",
   "metadata": {},
   "outputs": [],
   "source": [
    "metadata = {\n",
    "    \"truthLabel\": \"no-AD\",\n",
    "    \"predictedLabel\": \"no-AD\",\n",
    "    \"confidence\": \"?\",\n",
    "    \"occlusionStride\": 16,\n",
    "    \"occlusionSize\": 16,\n",
    "    \"studyID\": \"I77185\",\n",
    "    \"truthLabelCategory\": \"visit953\"\n",
    "}\n",
    "\n",
    "show_axial_yiming(heatmap, array, metadata, 0)"
   ]
  },
  {
   "cell_type": "markdown",
   "id": "2722e40b",
   "metadata": {},
   "source": [
    "AD: I347770"
   ]
  },
  {
   "cell_type": "code",
   "execution_count": null,
   "id": "3fe6d932",
   "metadata": {},
   "outputs": [],
   "source": [
    "metadata = {\n",
    "    \"truthLabel\": \"AD\",\n",
    "    \"predictedLabel\": \"AD\",\n",
    "    \"occlusionStride\": 16,\n",
    "    \"occlusionSize\": 16,\n",
    "    \"confidence\": \"?\",\n",
    "    \"studyID\": \"I347770\",\n",
    "    \"truthLabelCategory\": \"visit953\"\n",
    "}"
   ]
  },
  {
   "cell_type": "code",
   "execution_count": null,
   "id": "73a8feb7",
   "metadata": {},
   "outputs": [],
   "source": [
    "heatmap = np.load('/Users/hugom/PET-IA/src/I347770_heatmap.npy')\n",
    "\n",
    "print(heatmap.max())\n",
    "print(heatmap.min())\n",
    "\n",
    "print(heatmap.shape)\n",
    "\n",
    "# Load the Nifti File\n",
    "# image = nib.load(nifti_path)\n",
    "\n",
    "# Convert the image data as a NumPy array\n",
    "array = np.load('/Users/hugom/PET-IA/src/I347770_original.npy')\n",
    "print(array.min())\n",
    "print(array.max())\n",
    "\n",
    "print(array.shape)"
   ]
  },
  {
   "cell_type": "code",
   "execution_count": null,
   "id": "b557dfad",
   "metadata": {},
   "outputs": [],
   "source": [
    "show_axial_yiming(heatmap, array, metadata, 0)"
   ]
  },
  {
   "cell_type": "markdown",
   "id": "1eba4ad8",
   "metadata": {},
   "source": [
    "El modelo parece estar sesgado hacia AD. Es decir, predice AD por defecto excepto que encuentre algo que lo haga pensar que NO es AD?"
   ]
  },
  {
   "cell_type": "markdown",
   "id": "89f86f10",
   "metadata": {},
   "source": [
    "# Todo en un for"
   ]
  },
  {
   "cell_type": "code",
   "execution_count": null,
   "id": "0c081535",
   "metadata": {},
   "outputs": [],
   "source": [
    "ads = [\"I128833\", \"I47403\", \"I146553\", \"I1334685\", \"I85844\"]\n",
    "ads = [{\n",
    "    \"studyID\": \"I128833\",\n",
    "    \"confidence\": 1,\n",
    "    \"predictedLabel\": \"AD\",\n",
    "}, {\n",
    "    \"studyID\": \"I47403\",\n",
    "    \"confidence\": 0.9985,\n",
    "    \"predictedLabel\": \"AD\",\n",
    "}, {\n",
    "    \"studyID\": \"I146553\",\n",
    "    \"confidence\": 0.9980,\n",
    "    \"predictedLabel\": \"AD\",\n",
    "}, {\n",
    "    \"studyID\": \"I1334685\",\n",
    "    \"confidence\": 0.9981,\n",
    "    \"predictedLabel\": \"AD\",\n",
    "}, {\n",
    "    \"studyID\": \"I85844\",\n",
    "    \"confidence\": 0.9999,\n",
    "    \"predictedLabel\": \"AD\",\n",
    "}]\n",
    "noAds = [\"I225971\", \"I321658\", \"I77185\", \"I325148\", \"I223643\"]\n",
    "noAds = [{\n",
    "    \"studyID\": \"I225971\",\n",
    "    \"confidence\": 1,\n",
    "    \"predictedLabel\": \"no-AD\",\n",
    "}, {\n",
    "    \"studyID\": \"I321658\",\n",
    "    \"confidence\": 0.99963,\n",
    "    \"predictedLabel\": \"no-AD\",\n",
    "}, {\n",
    "    \"studyID\": \"I77185\",\n",
    "    \"confidence\": 1,\n",
    "    \"predictedLabel\": \"no-AD\",\n",
    "}, {\n",
    "    \"studyID\": \"I325148\",\n",
    "    \"confidence\": 0.9999,\n",
    "    \"predictedLabel\": \"no-AD\",\n",
    "}, {\n",
    "    \"studyID\": \"I223643\",\n",
    "    \"confidence\": 0.99999,\n",
    "    \"predictedLabel\": \"no-AD\",\n",
    "}]"
   ]
  },
  {
   "cell_type": "markdown",
   "id": "7ccbcc4e",
   "metadata": {},
   "source": [
    "## ADs"
   ]
  },
  {
   "cell_type": "code",
   "execution_count": null,
   "id": "8c9556a9",
   "metadata": {},
   "outputs": [],
   "source": [
    "def showAllYimingImages(lst, category):\n",
    "    for imageData in lst:\n",
    "        studyID = imageData['studyID']\n",
    "        metadata = {\n",
    "            \"occlusionStride\": 16,\n",
    "            \"occlusionSize\": 16,\n",
    "            \"truthLabel\": category,\n",
    "            \"truthLabelCategory\": \"visit953\"\n",
    "        }\n",
    "        metadata = dict(list(metadata.items()) + list(imageData.items()))\n",
    "        heatmap = np.load(f\"/Users/hugom/PET-IA/src/{studyID}_heatmap.npy\")\n",
    "\n",
    "        if heatmap.max() == heatmap.min():\n",
    "            print(\"Warning: empty heatmap\")\n",
    "            \n",
    "        if category != \"AD\":\n",
    "            heatmap *= -1\n",
    "\n",
    "        # Convert the image data as a NumPy array\n",
    "        array = np.load(f\"/Users/hugom/PET-IA/src/{studyID}_original.npy\")\n",
    "        \n",
    "        show_axial_yiming(heatmap, array, metadata, 0, save = True)"
   ]
  },
  {
   "cell_type": "code",
   "execution_count": null,
   "id": "f21c1737",
   "metadata": {
    "scrolled": false
   },
   "outputs": [],
   "source": [
    "showAllYimingImages(ads, \"AD\",)"
   ]
  },
  {
   "cell_type": "markdown",
   "id": "4b82bccb",
   "metadata": {},
   "source": [
    "# no-ADs"
   ]
  },
  {
   "cell_type": "code",
   "execution_count": null,
   "id": "701119c0",
   "metadata": {
    "scrolled": false
   },
   "outputs": [],
   "source": [
    "showAllYimingImages(noAds, \"no-AD\")"
   ]
  },
  {
   "cell_type": "code",
   "execution_count": null,
   "id": "6d42497e",
   "metadata": {},
   "outputs": [],
   "source": []
  },
  {
   "cell_type": "code",
   "execution_count": null,
   "id": "ff7b1414",
   "metadata": {},
   "outputs": [],
   "source": []
  }
 ],
 "metadata": {
  "kernelspec": {
   "display_name": "Python 3 (ipykernel)",
   "language": "python",
   "name": "python3"
  },
  "language_info": {
   "codemirror_mode": {
    "name": "ipython",
    "version": 3
   },
   "file_extension": ".py",
   "mimetype": "text/x-python",
   "name": "python",
   "nbconvert_exporter": "python",
   "pygments_lexer": "ipython3",
   "version": "3.9.6"
  }
 },
 "nbformat": 4,
 "nbformat_minor": 5
}
