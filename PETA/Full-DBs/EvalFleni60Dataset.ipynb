{
 "cells": [
  {
   "cell_type": "code",
   "execution_count": 83,
   "id": "c99dee4c",
   "metadata": {},
   "outputs": [],
   "source": [
    "import dicom2nifti\n",
    "import nibabel as nib\n",
    "import nilearn as nil\n",
    "import scipy.ndimage as ndi\n",
    "import matplotlib.pyplot as plt\n",
    "import os\n",
    "import glob\n",
    "from pathlib import Path\n",
    "import SimpleITK as sitk # para calcular rangos\n",
    "import numpy as np\n",
    "import io\n",
    "from PIL import Image\n",
    "import random\n",
    "import sys\n",
    "import pandas as pd\n",
    "import math\n",
    "import pandas as pd\n",
    "import sklearn\n",
    "import sklearn.metrics\n",
    "from sklearn.metrics import roc_curve\n",
    "from sklearn.metrics import roc_auc_score"
   ]
  },
  {
   "cell_type": "code",
   "execution_count": 84,
   "id": "4abd525f",
   "metadata": {},
   "outputs": [],
   "source": [
    "sys.path.append(\"/Users/hugom/PET-IA/src\")"
   ]
  },
  {
   "cell_type": "code",
   "execution_count": 85,
   "id": "6ff277e1",
   "metadata": {},
   "outputs": [],
   "source": [
    "from datasets import ADNIDataset, FleniMyriamDataset, BaseDataset\n",
    "from transforms import TransformGridImage, ToLabelOutputConfigurable\n",
    "from train_lib import train_model, set_parameter_requires_grad, initialize_model\n",
    "from util import collectAllData\n",
    "import torch\n",
    "import torchvision\n",
    "from torchvision import transforms, utils, models, datasets"
   ]
  },
  {
   "cell_type": "code",
   "execution_count": 77,
   "id": "1a0012fc",
   "metadata": {},
   "outputs": [],
   "source": [
    "config = {\n",
    "  \"last_3_classes\": {\n",
    "    \"weights\": \"/Users/hugom/Tesis/ExperimentosServer/muestraFull3700_9/muestraFull3700_9_dxlast_3classes_0_epoch21.pth\",\n",
    "    \"num_classes\": 3\n",
    "  },\n",
    "  \"sev_3_classes\": {\n",
    "    \"weights\": \"/Users/hugom/Tesis/ExperimentosServer/muestraFull3700_9/muestraFull3700_9_dxmost_severe_3classes_0_epoch31.pth\",\n",
    "    \"num_classes\": 3\n",
    "  },\n",
    "  \"visit_3_classes\": {\n",
    "    \"weights\": \"/Users/hugom/Tesis/ExperimentosServer/muestraFull3700_9/muestraFull3700_9_dxvisit_3classes_0_epoch10.pth\",\n",
    "    \"num_classes\": 3\n",
    "  },\n",
    "  \"last_2classes\": {\n",
    "    \"weights\": \"/Users/hugom/Tesis/ExperimentosServer/muestraFull3700_9/muestraFull3700_9_dxlast_2classes_0_epoch18.pth\",\n",
    "    \"num_classes\": 2\n",
    "  },\n",
    "  \"sev_2classes\": {\n",
    "    \"weights\": \"/Users/hugom/Tesis/ExperimentosServer/muestraFull3700_9/muestraFull3700_9_dxmost_severe_2classes_0_epoch16.pth\",\n",
    "    \"num_classes\": 2\n",
    "  },\n",
    "  \"visit_2classes\": {\n",
    "    \"weights\": \"/Users/hugom/Tesis/ExperimentosServer/muestraFull3700_9/muestraFull3700_9_dxvisit_2classes_0_epoch5.pth\",\n",
    "    \"num_classes\": 2\n",
    "  }\n",
    "}\n"
   ]
  },
  {
   "cell_type": "code",
   "execution_count": 87,
   "id": "9fe73657",
   "metadata": {},
   "outputs": [],
   "source": [
    "def executeModel(dataloader, weights, num_classes):\n",
    "    featureExtract = False\n",
    "    dropoutRate = 0.6\n",
    "    auxEnabled = True\n",
    "    usePretrained = False\n",
    "    model_ft, input_size = initialize_model('inception', num_classes, featureExtract, dropoutRate, auxEnabled, use_pretrained=usePretrained)\n",
    "    device = torch.device(deviceName if torch.cuda.is_available() else \"cpu\")\n",
    "    model_state_dict = torch.load(weights, map_location=device)\n",
    "    model_ft.load_state_dict(model_state_dict)\n",
    "\n",
    "    model_ft.to(device)\n",
    "    \n",
    "    testY, predY = collectAllData(dataloader, model_ft, device, num_classes)\n",
    "    \n",
    "    _, preds = torch.max(torch.from_numpy(predY), 1)\n",
    "    preds = preds.cpu().numpy()\n",
    "    \n",
    "    acc = sklearn.metrics.accuracy_score(testY, preds)\n",
    "    bacc = sklearn.metrics.balanced_accuracy_score(testY, preds)\n",
    "    \n",
    "    print(testY)\n",
    "    print(preds)\n",
    "    \n",
    "    print(f\"Accuracy: {acc}\")\n",
    "    print(f\"B acc: {bacc}\")\n",
    "    matrix = sklearn.metrics.confusion_matrix(testY, preds)\n",
    "    \n",
    "    print(\"Confusion matrix:\")\n",
    "    print(matrix)\n",
    "    \n",
    "    if (num_classes == 2):\n",
    "        lr_auc = roc_auc_score(testY, torch.from_numpy(predY[:, 1]), average = None)\n",
    "        print(f\"AUC ROC: {lr_auc}\")\n",
    "        return\n",
    "    \n",
    "    print(\"------------\")\n",
    "    print(\"Merging 2 with 0\")\n",
    "    \n",
    "    predY[:, 0] = predY[:, 0] + predY[:, 2]\n",
    "    predY = predY[:, 0:2]\n",
    "    \n",
    "    _, preds = torch.max(torch.from_numpy(predY), 1)\n",
    "    preds = preds.cpu().numpy()\n",
    "    \n",
    "    acc = sklearn.metrics.accuracy_score(testY, preds)\n",
    "    bacc = sklearn.metrics.balanced_accuracy_score(testY, preds)\n",
    "    \n",
    "    print(f\"Accuracy merged: {acc}\")\n",
    "    print(f\"B acc merged: {bacc}\")\n",
    "    \n",
    "    print(\"Confusion matrix merged:\")\n",
    "    matrix = sklearn.metrics.confusion_matrix(testY, preds)\n",
    "    print(matrix)\n",
    "    \n",
    "    lr_auc = roc_auc_score(testY, torch.from_numpy(predY[:, 1]), average = None)\n",
    "    print(f\"AUC ROC: {lr_auc}\")"
   ]
  },
  {
   "cell_type": "code",
   "execution_count": 81,
   "id": "74e405d4",
   "metadata": {},
   "outputs": [],
   "source": [
    "csvFile = '/Users/hugom/PET-IA/Sets/fleni-PET_clasificados60.csv'\n",
    "imagesFolder = '/Users/hugom/Tesis/Imagenes/fleni-stripped-preprocessed4'\n",
    "#mean = 3364.6066073463076 # Uso el de myriam db\n",
    "#std = 7271.672596534478   # Uso el de myriam db\n",
    "mean = 3864.730224609375\n",
    "std = 8282.332521699427\n",
    "means = [mean, mean, mean]\n",
    "stds = [std, std, std]\n",
    "ebrainsTransforms = torchvision.transforms.Compose([\n",
    "    TransformGridImage(),\n",
    "    torchvision.transforms.ToTensor(),\n",
    "    torchvision.transforms.Normalize(means, stds)\n",
    "])\n",
    "dicti = {\n",
    "    \"AD\": 1,\n",
    "    \"non-AD\": 0\n",
    "}\n",
    "dataset = BaseDataset('fleni60', csvFile, imagesFolder, studyIDLabel = 'anon_id', transform = ebrainsTransforms, target_transform = ToLabelOutputConfigurable(dicti), truthLabel = 'Conclusion PET')\n",
    "dataloader = torch.utils.data.DataLoader(dataset, batch_size=1, shuffle=False, num_workers=0)"
   ]
  },
  {
   "cell_type": "code",
   "execution_count": 82,
   "id": "5a5c4893",
   "metadata": {},
   "outputs": [
    {
     "name": "stdout",
     "output_type": "stream",
     "text": [
      "Ejecutando last_3_classes\n"
     ]
    },
    {
     "name": "stderr",
     "output_type": "stream",
     "text": [
      "/Users/hugom/Library/Python/3.9/lib/python/site-packages/torchvision/models/_utils.py:208: UserWarning: The parameter 'pretrained' is deprecated since 0.13 and may be removed in the future, please use 'weights' instead.\n",
      "  warnings.warn(\n",
      "/Users/hugom/Library/Python/3.9/lib/python/site-packages/torchvision/models/_utils.py:223: UserWarning: Arguments other than a weight enum or `None` for 'weights' are deprecated since 0.13 and may be removed in the future. The current behavior is equivalent to passing `weights=None`.\n",
      "  warnings.warn(msg)\n",
      "/Users/hugom/Library/Python/3.9/lib/python/site-packages/torchvision/models/inception.py:43: FutureWarning: The default weight initialization of inception_v3 will be changed in future releases of torchvision. If you wish to keep the old behavior (which leads to long initialization times due to scipy/scipy#11299), please set init_weights=True.\n",
      "  warnings.warn(\n"
     ]
    },
    {
     "name": "stdout",
     "output_type": "stream",
     "text": [
      "num featurs2048\n",
      "[1. 1. 1. 1. 1. 1. 1. 1. 1. 1. 1. 1. 1. 1. 1. 1. 1. 1. 1. 1. 1. 1. 1. 1.\n",
      " 1. 1. 1. 1. 1. 1. 1. 1. 1. 1. 1. 1. 1. 1. 1. 0. 0. 0. 0. 0. 0. 0. 0. 0.\n",
      " 0. 0. 0. 0. 0. 0. 0. 0. 0. 0. 0. 0.]\n",
      "[1 0 0 1 1 1 1 1 1 0 1 1 0 1 0 1 1 1 1 1 0 0 1 1 1 1 1 1 1 1 1 0 1 0 0 1 0\n",
      " 1 1 1 1 0 1 1 1 1 1 1 1 1 1 1 1 1 1 0 1 1 1 1]\n",
      "Accuracy: 0.5\n",
      "B acc: 0.4065934065934066\n",
      "Confusion matrix:\n",
      "[[ 2 19]\n",
      " [11 28]]\n",
      "------------\n",
      "Merging 2 with 0\n",
      "Accuracy merged: 0.5166666666666667\n",
      "B acc merged: 0.43040293040293043\n",
      "Confusion matrix merged:\n",
      "[[ 3 18]\n",
      " [11 28]]\n",
      "AUC ROC: 0.4694749694749695\n",
      "#################\n",
      "Ejecutando sev_3_classes\n"
     ]
    },
    {
     "name": "stderr",
     "output_type": "stream",
     "text": [
      "/Users/hugom/Library/Python/3.9/lib/python/site-packages/torchvision/models/_utils.py:208: UserWarning: The parameter 'pretrained' is deprecated since 0.13 and may be removed in the future, please use 'weights' instead.\n",
      "  warnings.warn(\n",
      "/Users/hugom/Library/Python/3.9/lib/python/site-packages/torchvision/models/_utils.py:223: UserWarning: Arguments other than a weight enum or `None` for 'weights' are deprecated since 0.13 and may be removed in the future. The current behavior is equivalent to passing `weights=None`.\n",
      "  warnings.warn(msg)\n",
      "/Users/hugom/Library/Python/3.9/lib/python/site-packages/torchvision/models/inception.py:43: FutureWarning: The default weight initialization of inception_v3 will be changed in future releases of torchvision. If you wish to keep the old behavior (which leads to long initialization times due to scipy/scipy#11299), please set init_weights=True.\n",
      "  warnings.warn(\n"
     ]
    },
    {
     "name": "stdout",
     "output_type": "stream",
     "text": [
      "num featurs2048\n"
     ]
    },
    {
     "name": "stderr",
     "output_type": "stream",
     "text": [
      "/Users/hugom/Library/Python/3.9/lib/python/site-packages/sklearn/metrics/_classification.py:2006: UserWarning: y_pred contains classes not in y_true\n",
      "  warnings.warn(\"y_pred contains classes not in y_true\")\n",
      "/Users/hugom/Library/Python/3.9/lib/python/site-packages/torchvision/models/_utils.py:208: UserWarning: The parameter 'pretrained' is deprecated since 0.13 and may be removed in the future, please use 'weights' instead.\n",
      "  warnings.warn(\n",
      "/Users/hugom/Library/Python/3.9/lib/python/site-packages/torchvision/models/_utils.py:223: UserWarning: Arguments other than a weight enum or `None` for 'weights' are deprecated since 0.13 and may be removed in the future. The current behavior is equivalent to passing `weights=None`.\n",
      "  warnings.warn(msg)\n",
      "/Users/hugom/Library/Python/3.9/lib/python/site-packages/torchvision/models/inception.py:43: FutureWarning: The default weight initialization of inception_v3 will be changed in future releases of torchvision. If you wish to keep the old behavior (which leads to long initialization times due to scipy/scipy#11299), please set init_weights=True.\n",
      "  warnings.warn(\n"
     ]
    },
    {
     "name": "stdout",
     "output_type": "stream",
     "text": [
      "[1. 1. 1. 1. 1. 1. 1. 1. 1. 1. 1. 1. 1. 1. 1. 1. 1. 1. 1. 1. 1. 1. 1. 1.\n",
      " 1. 1. 1. 1. 1. 1. 1. 1. 1. 1. 1. 1. 1. 1. 1. 0. 0. 0. 0. 0. 0. 0. 0. 0.\n",
      " 0. 0. 0. 0. 0. 0. 0. 0. 0. 0. 0. 0.]\n",
      "[0 2 2 0 0 1 1 0 1 0 0 0 0 0 2 1 1 1 0 1 2 0 1 1 1 0 1 1 1 1 1 0 0 2 2 1 2\n",
      " 1 1 1 1 0 0 1 1 1 1 0 1 2 1 0 1 0 0 2 0 0 0 1]\n",
      "Accuracy: 0.45\n",
      "B acc: 0.44505494505494503\n",
      "Confusion matrix:\n",
      "[[ 9 10  2]\n",
      " [14 18  7]\n",
      " [ 0  0  0]]\n",
      "------------\n",
      "Merging 2 with 0\n",
      "Accuracy merged: 0.48333333333333334\n",
      "B acc merged: 0.4926739926739927\n",
      "Confusion matrix merged:\n",
      "[[11 10]\n",
      " [21 18]]\n",
      "AUC ROC: 0.4517704517704518\n",
      "#################\n",
      "Ejecutando visit_3_classes\n",
      "num featurs2048\n"
     ]
    },
    {
     "name": "stderr",
     "output_type": "stream",
     "text": [
      "/Users/hugom/Library/Python/3.9/lib/python/site-packages/sklearn/metrics/_classification.py:2006: UserWarning: y_pred contains classes not in y_true\n",
      "  warnings.warn(\"y_pred contains classes not in y_true\")\n",
      "/Users/hugom/Library/Python/3.9/lib/python/site-packages/torchvision/models/_utils.py:208: UserWarning: The parameter 'pretrained' is deprecated since 0.13 and may be removed in the future, please use 'weights' instead.\n",
      "  warnings.warn(\n",
      "/Users/hugom/Library/Python/3.9/lib/python/site-packages/torchvision/models/_utils.py:223: UserWarning: Arguments other than a weight enum or `None` for 'weights' are deprecated since 0.13 and may be removed in the future. The current behavior is equivalent to passing `weights=None`.\n",
      "  warnings.warn(msg)\n",
      "/Users/hugom/Library/Python/3.9/lib/python/site-packages/torchvision/models/inception.py:43: FutureWarning: The default weight initialization of inception_v3 will be changed in future releases of torchvision. If you wish to keep the old behavior (which leads to long initialization times due to scipy/scipy#11299), please set init_weights=True.\n",
      "  warnings.warn(\n"
     ]
    },
    {
     "name": "stdout",
     "output_type": "stream",
     "text": [
      "[1. 1. 1. 1. 1. 1. 1. 1. 1. 1. 1. 1. 1. 1. 1. 1. 1. 1. 1. 1. 1. 1. 1. 1.\n",
      " 1. 1. 1. 1. 1. 1. 1. 1. 1. 1. 1. 1. 1. 1. 1. 0. 0. 0. 0. 0. 0. 0. 0. 0.\n",
      " 0. 0. 0. 0. 0. 0. 0. 0. 0. 0. 0. 0.]\n",
      "[1 2 2 2 1 2 2 1 1 2 2 2 1 0 2 2 2 2 2 2 2 0 2 2 2 1 2 2 2 2 2 1 2 2 2 2 2\n",
      " 2 2 2 2 2 1 2 2 2 2 2 2 2 2 1 2 2 2 2 2 1 2 2]\n",
      "Accuracy: 0.11666666666666667\n",
      "B acc: 0.08974358974358974\n",
      "Confusion matrix:\n",
      "[[ 0  3 18]\n",
      " [ 2  7 30]\n",
      " [ 0  0  0]]\n",
      "------------\n",
      "Merging 2 with 0\n",
      "Accuracy merged: 0.4\n",
      "B acc merged: 0.5274725274725275\n",
      "Confusion matrix merged:\n",
      "[[20  1]\n",
      " [35  4]]\n",
      "AUC ROC: 0.5543345543345544\n",
      "#################\n",
      "Ejecutando last_2classes\n",
      "num featurs2048\n",
      "[1. 1. 1. 1. 1. 1. 1. 1. 1. 1. 1. 1. 1. 1. 1. 1. 1. 1. 1. 1. 1. 1. 1. 1.\n",
      " 1. 1. 1. 1. 1. 1. 1. 1. 1. 1. 1. 1. 1. 1. 1. 0. 0. 0. 0. 0. 0. 0. 0. 0.\n",
      " 0. 0. 0. 0. 0. 0. 0. 0. 0. 0. 0. 0.]\n",
      "[0 0 0 0 0 0 0 0 0 0 0 0 0 0 0 0 0 0 0 0 0 0 0 0 0 0 0 0 0 0 0 0 0 0 0 0 0\n",
      " 0 0 0 0 0 0 0 0 0 0 0 0 0 0 0 0 0 0 0 0 0 0 0]\n",
      "Accuracy: 0.35\n",
      "B acc: 0.5\n",
      "Confusion matrix:\n",
      "[[21  0]\n",
      " [39  0]]\n",
      "AUC ROC: 0.557997557997558\n",
      "#################\n",
      "Ejecutando sev_2classes\n"
     ]
    },
    {
     "name": "stderr",
     "output_type": "stream",
     "text": [
      "/Users/hugom/Library/Python/3.9/lib/python/site-packages/torchvision/models/_utils.py:208: UserWarning: The parameter 'pretrained' is deprecated since 0.13 and may be removed in the future, please use 'weights' instead.\n",
      "  warnings.warn(\n",
      "/Users/hugom/Library/Python/3.9/lib/python/site-packages/torchvision/models/_utils.py:223: UserWarning: Arguments other than a weight enum or `None` for 'weights' are deprecated since 0.13 and may be removed in the future. The current behavior is equivalent to passing `weights=None`.\n",
      "  warnings.warn(msg)\n",
      "/Users/hugom/Library/Python/3.9/lib/python/site-packages/torchvision/models/inception.py:43: FutureWarning: The default weight initialization of inception_v3 will be changed in future releases of torchvision. If you wish to keep the old behavior (which leads to long initialization times due to scipy/scipy#11299), please set init_weights=True.\n",
      "  warnings.warn(\n"
     ]
    },
    {
     "name": "stdout",
     "output_type": "stream",
     "text": [
      "num featurs2048\n",
      "[1. 1. 1. 1. 1. 1. 1. 1. 1. 1. 1. 1. 1. 1. 1. 1. 1. 1. 1. 1. 1. 1. 1. 1.\n",
      " 1. 1. 1. 1. 1. 1. 1. 1. 1. 1. 1. 1. 1. 1. 1. 0. 0. 0. 0. 0. 0. 0. 0. 0.\n",
      " 0. 0. 0. 0. 0. 0. 0. 0. 0. 0. 0. 0.]\n",
      "[1 0 0 1 1 1 1 1 1 1 1 1 0 1 0 1 1 1 1 1 0 1 1 1 1 1 1 1 1 1 1 1 1 0 0 1 0\n",
      " 1 1 1 1 0 1 1 1 1 1 1 1 0 1 1 1 1 1 0 1 1 1 1]\n",
      "Accuracy: 0.5666666666666667\n",
      "B acc: 0.46886446886446886\n",
      "Confusion matrix:\n",
      "[[ 3 18]\n",
      " [ 8 31]]\n",
      "AUC ROC: 0.4725274725274725\n",
      "#################\n",
      "Ejecutando visit_2classes\n"
     ]
    },
    {
     "name": "stderr",
     "output_type": "stream",
     "text": [
      "/Users/hugom/Library/Python/3.9/lib/python/site-packages/torchvision/models/_utils.py:208: UserWarning: The parameter 'pretrained' is deprecated since 0.13 and may be removed in the future, please use 'weights' instead.\n",
      "  warnings.warn(\n",
      "/Users/hugom/Library/Python/3.9/lib/python/site-packages/torchvision/models/_utils.py:223: UserWarning: Arguments other than a weight enum or `None` for 'weights' are deprecated since 0.13 and may be removed in the future. The current behavior is equivalent to passing `weights=None`.\n",
      "  warnings.warn(msg)\n",
      "/Users/hugom/Library/Python/3.9/lib/python/site-packages/torchvision/models/inception.py:43: FutureWarning: The default weight initialization of inception_v3 will be changed in future releases of torchvision. If you wish to keep the old behavior (which leads to long initialization times due to scipy/scipy#11299), please set init_weights=True.\n",
      "  warnings.warn(\n"
     ]
    },
    {
     "name": "stdout",
     "output_type": "stream",
     "text": [
      "num featurs2048\n",
      "[1. 1. 1. 1. 1. 1. 1. 1. 1. 1. 1. 1. 1. 1. 1. 1. 1. 1. 1. 1. 1. 1. 1. 1.\n",
      " 1. 1. 1. 1. 1. 1. 1. 1. 1. 1. 1. 1. 1. 1. 1. 0. 0. 0. 0. 0. 0. 0. 0. 0.\n",
      " 0. 0. 0. 0. 0. 0. 0. 0. 0. 0. 0. 0.]\n",
      "[0 0 0 0 0 0 0 0 0 0 0 0 0 0 0 0 0 0 0 0 0 0 0 0 0 0 0 0 0 0 0 0 0 0 0 0 0\n",
      " 0 0 0 0 0 0 0 0 0 0 0 0 0 0 0 0 0 0 0 0 0 0 0]\n",
      "Accuracy: 0.35\n",
      "B acc: 0.5\n",
      "Confusion matrix:\n",
      "[[21  0]\n",
      " [39  0]]\n",
      "AUC ROC: 0.4444444444444445\n",
      "#################\n"
     ]
    }
   ],
   "source": [
    "for key in config:\n",
    "    print(f\"Ejecutando {key}\")\n",
    "    executeModel(dataloader, **config[key])\n",
    "    print(\"#################\")"
   ]
  },
  {
   "cell_type": "markdown",
   "id": "68a6a313",
   "metadata": {},
   "source": [
    "# Nuevos"
   ]
  },
  {
   "cell_type": "code",
   "execution_count": 91,
   "id": "a1cde9cb",
   "metadata": {},
   "outputs": [],
   "source": [
    "configNew = {\n",
    "  \"last_cn_vs_ad\": {\n",
    "    \"weights\": \"/Users/hugom/Tesis/ExperimentosServer/muestraFull3700_8/muestraFull3700_8_dxlast_2classes_CN,AD_0_epoch42.pth\",\n",
    "    \"num_classes\": 2\n",
    "  },\n",
    "  \"sev_cn_vs_ad\": {\n",
    "    \"weights\": \"/Users/hugom/Tesis/ExperimentosServer/muestraFull3700_8/muestraFull3700_8_dxmost_severe_2classes_CN,AD_0_epoch12.pth\",\n",
    "    \"num_classes\": 2\n",
    "  },\n",
    "  \"visit_cn_vs_ad\": {\n",
    "    \"weights\": \"/Users/hugom/Tesis/ExperimentosServer/muestraFull3700_8/muestraFull3700_8_dxvisit_2classes_CN,AD_0_epoch19.pth\",\n",
    "    \"num_classes\": 2\n",
    "  },\n",
    "  \"last_mci_vs_ad\": {\n",
    "    \"weights\": \"/Users/hugom/Tesis/ExperimentosServer/muestraFull3700_8/muestraFull3700_8_dxlast_2classes_MCI,AD_0_epoch45.pth\",\n",
    "    \"num_classes\": 2\n",
    "  },\n",
    "  \"sev_mci_vs_ad\": {\n",
    "    \"weights\": \"/Users/hugom/Tesis/ExperimentosServer/muestraFull3700_8/muestraFull3700_8_dxmost_severe_2classes_MCI,AD_0_epoch17.pth\",\n",
    "    \"num_classes\": 2\n",
    "  },\n",
    "  \"visit_mci_vs_ad\": {\n",
    "    \"weights\": \"/Users/hugom/Tesis/ExperimentosServer/muestraFull3700_8/muestraFull3700_8_dxvisit_2classes_MCI,AD_0_epoch1.pth\",\n",
    "    \"num_classes\": 2\n",
    "  }\n",
    "}\n"
   ]
  },
  {
   "cell_type": "code",
   "execution_count": 89,
   "id": "2161a14b",
   "metadata": {},
   "outputs": [],
   "source": [
    "csvFile = '/Users/hugom/PET-IA/Sets/fleni-PET_clasificados60.csv'\n",
    "imagesFolder = '/Users/hugom/Tesis/Imagenes/fleni-stripped-preprocessed4'\n",
    "#mean = 3364.6066073463076 # Uso el de myriam db\n",
    "#std = 7271.672596534478   # Uso el de myriam db\n",
    "mean = 3864.730224609375\n",
    "std = 8282.332521699427\n",
    "means = [mean, mean, mean]\n",
    "stds = [std, std, std]\n",
    "ebrainsTransforms = torchvision.transforms.Compose([\n",
    "    TransformGridImage(),\n",
    "    torchvision.transforms.ToTensor(),\n",
    "    torchvision.transforms.Normalize(means, stds)\n",
    "])\n",
    "dicti = {\n",
    "    \"AD\": 1,\n",
    "    \"non-AD\": 0\n",
    "}\n",
    "dataset = BaseDataset('fleni60', csvFile, imagesFolder, studyIDLabel = 'anon_id', transform = ebrainsTransforms, target_transform = ToLabelOutputConfigurable(dicti), truthLabel = 'Conclusion PET')\n",
    "dataloader = torch.utils.data.DataLoader(dataset, batch_size=1, shuffle=False, num_workers=0)"
   ]
  },
  {
   "cell_type": "code",
   "execution_count": 92,
   "id": "eecf1285",
   "metadata": {},
   "outputs": [
    {
     "name": "stdout",
     "output_type": "stream",
     "text": [
      "Ejecutando last_cn_vs_ad\n"
     ]
    },
    {
     "name": "stderr",
     "output_type": "stream",
     "text": [
      "/Users/hugom/Library/Python/3.9/lib/python/site-packages/torchvision/models/_utils.py:208: UserWarning: The parameter 'pretrained' is deprecated since 0.13 and may be removed in the future, please use 'weights' instead.\n",
      "  warnings.warn(\n",
      "/Users/hugom/Library/Python/3.9/lib/python/site-packages/torchvision/models/_utils.py:223: UserWarning: Arguments other than a weight enum or `None` for 'weights' are deprecated since 0.13 and may be removed in the future. The current behavior is equivalent to passing `weights=None`.\n",
      "  warnings.warn(msg)\n",
      "/Users/hugom/Library/Python/3.9/lib/python/site-packages/torchvision/models/inception.py:43: FutureWarning: The default weight initialization of inception_v3 will be changed in future releases of torchvision. If you wish to keep the old behavior (which leads to long initialization times due to scipy/scipy#11299), please set init_weights=True.\n",
      "  warnings.warn(\n"
     ]
    },
    {
     "name": "stdout",
     "output_type": "stream",
     "text": [
      "num featurs2048\n",
      "[1. 1. 1. 1. 1. 1. 1. 1. 1. 1. 1. 1. 1. 1. 1. 1. 1. 1. 1. 1. 1. 1. 1. 1.\n",
      " 1. 1. 1. 1. 1. 1. 1. 1. 1. 1. 1. 1. 1. 1. 1. 0. 0. 0. 0. 0. 0. 0. 0. 0.\n",
      " 0. 0. 0. 0. 0. 0. 0. 0. 0. 0. 0. 0.]\n",
      "[1 1 1 1 1 0 1 1 1 1 1 1 1 1 1 0 0 1 1 0 1 1 1 0 0 1 0 0 0 0 0 1 0 1 1 1 1\n",
      " 0 0 0 0 1 1 0 0 0 0 1 0 1 0 1 0 1 1 1 1 1 1 0]\n",
      "Accuracy: 0.5833333333333334\n",
      "B acc: 0.5586080586080586\n",
      "Confusion matrix:\n",
      "[[10 11]\n",
      " [14 25]]\n",
      "AUC ROC: 0.6300366300366301\n",
      "#################\n",
      "Ejecutando sev_cn_vs_ad\n"
     ]
    },
    {
     "name": "stderr",
     "output_type": "stream",
     "text": [
      "/Users/hugom/Library/Python/3.9/lib/python/site-packages/torchvision/models/_utils.py:208: UserWarning: The parameter 'pretrained' is deprecated since 0.13 and may be removed in the future, please use 'weights' instead.\n",
      "  warnings.warn(\n",
      "/Users/hugom/Library/Python/3.9/lib/python/site-packages/torchvision/models/_utils.py:223: UserWarning: Arguments other than a weight enum or `None` for 'weights' are deprecated since 0.13 and may be removed in the future. The current behavior is equivalent to passing `weights=None`.\n",
      "  warnings.warn(msg)\n",
      "/Users/hugom/Library/Python/3.9/lib/python/site-packages/torchvision/models/inception.py:43: FutureWarning: The default weight initialization of inception_v3 will be changed in future releases of torchvision. If you wish to keep the old behavior (which leads to long initialization times due to scipy/scipy#11299), please set init_weights=True.\n",
      "  warnings.warn(\n"
     ]
    },
    {
     "name": "stdout",
     "output_type": "stream",
     "text": [
      "num featurs2048\n",
      "[1. 1. 1. 1. 1. 1. 1. 1. 1. 1. 1. 1. 1. 1. 1. 1. 1. 1. 1. 1. 1. 1. 1. 1.\n",
      " 1. 1. 1. 1. 1. 1. 1. 1. 1. 1. 1. 1. 1. 1. 1. 0. 0. 0. 0. 0. 0. 0. 0. 0.\n",
      " 0. 0. 0. 0. 0. 0. 0. 0. 0. 0. 0. 0.]\n",
      "[1 1 1 1 1 1 1 1 1 1 1 1 1 1 1 1 1 1 1 1 1 1 1 1 1 1 1 1 1 1 1 1 1 1 1 1 1\n",
      " 1 1 1 1 1 1 1 1 1 1 1 1 1 1 1 1 1 1 1 1 1 1 1]\n",
      "Accuracy: 0.65\n",
      "B acc: 0.5\n",
      "Confusion matrix:\n",
      "[[ 0 21]\n",
      " [ 0 39]]\n",
      "AUC ROC: 0.4761904761904762\n",
      "#################\n",
      "Ejecutando visit_cn_vs_ad\n"
     ]
    },
    {
     "name": "stderr",
     "output_type": "stream",
     "text": [
      "/Users/hugom/Library/Python/3.9/lib/python/site-packages/torchvision/models/_utils.py:208: UserWarning: The parameter 'pretrained' is deprecated since 0.13 and may be removed in the future, please use 'weights' instead.\n",
      "  warnings.warn(\n",
      "/Users/hugom/Library/Python/3.9/lib/python/site-packages/torchvision/models/_utils.py:223: UserWarning: Arguments other than a weight enum or `None` for 'weights' are deprecated since 0.13 and may be removed in the future. The current behavior is equivalent to passing `weights=None`.\n",
      "  warnings.warn(msg)\n",
      "/Users/hugom/Library/Python/3.9/lib/python/site-packages/torchvision/models/inception.py:43: FutureWarning: The default weight initialization of inception_v3 will be changed in future releases of torchvision. If you wish to keep the old behavior (which leads to long initialization times due to scipy/scipy#11299), please set init_weights=True.\n",
      "  warnings.warn(\n"
     ]
    },
    {
     "name": "stdout",
     "output_type": "stream",
     "text": [
      "num featurs2048\n",
      "[1. 1. 1. 1. 1. 1. 1. 1. 1. 1. 1. 1. 1. 1. 1. 1. 1. 1. 1. 1. 1. 1. 1. 1.\n",
      " 1. 1. 1. 1. 1. 1. 1. 1. 1. 1. 1. 1. 1. 1. 1. 0. 0. 0. 0. 0. 0. 0. 0. 0.\n",
      " 0. 0. 0. 0. 0. 0. 0. 0. 0. 0. 0. 0.]\n",
      "[0 0 0 1 1 0 1 1 1 0 0 1 0 0 0 1 0 0 0 0 0 0 1 0 0 0 0 1 0 0 0 0 1 0 0 0 0\n",
      " 1 1 0 0 0 0 0 0 0 0 1 1 0 1 1 0 0 1 0 0 0 1 0]\n",
      "Accuracy: 0.45\n",
      "B acc: 0.510989010989011\n",
      "Confusion matrix:\n",
      "[[15  6]\n",
      " [27 12]]\n",
      "AUC ROC: 0.503052503052503\n",
      "#################\n",
      "Ejecutando last_mci_vs_ad\n"
     ]
    },
    {
     "name": "stderr",
     "output_type": "stream",
     "text": [
      "/Users/hugom/Library/Python/3.9/lib/python/site-packages/torchvision/models/_utils.py:208: UserWarning: The parameter 'pretrained' is deprecated since 0.13 and may be removed in the future, please use 'weights' instead.\n",
      "  warnings.warn(\n",
      "/Users/hugom/Library/Python/3.9/lib/python/site-packages/torchvision/models/_utils.py:223: UserWarning: Arguments other than a weight enum or `None` for 'weights' are deprecated since 0.13 and may be removed in the future. The current behavior is equivalent to passing `weights=None`.\n",
      "  warnings.warn(msg)\n",
      "/Users/hugom/Library/Python/3.9/lib/python/site-packages/torchvision/models/inception.py:43: FutureWarning: The default weight initialization of inception_v3 will be changed in future releases of torchvision. If you wish to keep the old behavior (which leads to long initialization times due to scipy/scipy#11299), please set init_weights=True.\n",
      "  warnings.warn(\n"
     ]
    },
    {
     "name": "stdout",
     "output_type": "stream",
     "text": [
      "num featurs2048\n",
      "[1. 1. 1. 1. 1. 1. 1. 1. 1. 1. 1. 1. 1. 1. 1. 1. 1. 1. 1. 1. 1. 1. 1. 1.\n",
      " 1. 1. 1. 1. 1. 1. 1. 1. 1. 1. 1. 1. 1. 1. 1. 0. 0. 0. 0. 0. 0. 0. 0. 0.\n",
      " 0. 0. 0. 0. 0. 0. 0. 0. 0. 0. 0. 0.]\n",
      "[0 1 1 0 0 0 0 0 0 0 0 0 1 0 1 0 0 0 0 0 0 1 0 0 0 0 0 0 0 0 0 1 0 1 0 0 0\n",
      " 0 0 0 0 0 1 0 0 0 0 0 0 0 0 0 0 0 0 1 0 1 0 0]\n",
      "Accuracy: 0.4166666666666667\n",
      "B acc: 0.5183150183150182\n",
      "Confusion matrix:\n",
      "[[18  3]\n",
      " [32  7]]\n",
      "AUC ROC: 0.5885225885225885\n",
      "#################\n",
      "Ejecutando sev_mci_vs_ad\n"
     ]
    },
    {
     "name": "stderr",
     "output_type": "stream",
     "text": [
      "/Users/hugom/Library/Python/3.9/lib/python/site-packages/torchvision/models/_utils.py:208: UserWarning: The parameter 'pretrained' is deprecated since 0.13 and may be removed in the future, please use 'weights' instead.\n",
      "  warnings.warn(\n",
      "/Users/hugom/Library/Python/3.9/lib/python/site-packages/torchvision/models/_utils.py:223: UserWarning: Arguments other than a weight enum or `None` for 'weights' are deprecated since 0.13 and may be removed in the future. The current behavior is equivalent to passing `weights=None`.\n",
      "  warnings.warn(msg)\n",
      "/Users/hugom/Library/Python/3.9/lib/python/site-packages/torchvision/models/inception.py:43: FutureWarning: The default weight initialization of inception_v3 will be changed in future releases of torchvision. If you wish to keep the old behavior (which leads to long initialization times due to scipy/scipy#11299), please set init_weights=True.\n",
      "  warnings.warn(\n"
     ]
    },
    {
     "name": "stdout",
     "output_type": "stream",
     "text": [
      "num featurs2048\n",
      "[1. 1. 1. 1. 1. 1. 1. 1. 1. 1. 1. 1. 1. 1. 1. 1. 1. 1. 1. 1. 1. 1. 1. 1.\n",
      " 1. 1. 1. 1. 1. 1. 1. 1. 1. 1. 1. 1. 1. 1. 1. 0. 0. 0. 0. 0. 0. 0. 0. 0.\n",
      " 0. 0. 0. 0. 0. 0. 0. 0. 0. 0. 0. 0.]\n",
      "[0 0 0 0 0 1 0 0 0 0 0 0 0 0 0 0 0 1 0 1 0 0 0 0 0 0 1 0 1 1 1 0 0 0 0 0 0\n",
      " 1 0 1 1 0 0 1 1 1 1 0 0 0 0 0 1 0 0 0 0 0 0 1]\n",
      "Accuracy: 0.35\n",
      "B acc: 0.41208791208791207\n",
      "Confusion matrix:\n",
      "[[13  8]\n",
      " [31  8]]\n",
      "AUC ROC: 0.42002442002442003\n",
      "#################\n",
      "Ejecutando visit_mci_vs_ad\n"
     ]
    },
    {
     "name": "stderr",
     "output_type": "stream",
     "text": [
      "/Users/hugom/Library/Python/3.9/lib/python/site-packages/torchvision/models/_utils.py:208: UserWarning: The parameter 'pretrained' is deprecated since 0.13 and may be removed in the future, please use 'weights' instead.\n",
      "  warnings.warn(\n",
      "/Users/hugom/Library/Python/3.9/lib/python/site-packages/torchvision/models/_utils.py:223: UserWarning: Arguments other than a weight enum or `None` for 'weights' are deprecated since 0.13 and may be removed in the future. The current behavior is equivalent to passing `weights=None`.\n",
      "  warnings.warn(msg)\n",
      "/Users/hugom/Library/Python/3.9/lib/python/site-packages/torchvision/models/inception.py:43: FutureWarning: The default weight initialization of inception_v3 will be changed in future releases of torchvision. If you wish to keep the old behavior (which leads to long initialization times due to scipy/scipy#11299), please set init_weights=True.\n",
      "  warnings.warn(\n"
     ]
    },
    {
     "name": "stdout",
     "output_type": "stream",
     "text": [
      "num featurs2048\n",
      "[1. 1. 1. 1. 1. 1. 1. 1. 1. 1. 1. 1. 1. 1. 1. 1. 1. 1. 1. 1. 1. 1. 1. 1.\n",
      " 1. 1. 1. 1. 1. 1. 1. 1. 1. 1. 1. 1. 1. 1. 1. 0. 0. 0. 0. 0. 0. 0. 0. 0.\n",
      " 0. 0. 0. 0. 0. 0. 0. 0. 0. 0. 0. 0.]\n",
      "[0 0 0 0 0 0 0 0 0 0 0 0 0 0 0 0 0 0 0 0 0 0 0 0 0 0 0 0 0 0 0 0 0 0 0 0 0\n",
      " 0 0 0 0 0 0 0 0 0 0 0 0 0 0 0 0 0 0 0 0 0 0 0]\n",
      "Accuracy: 0.35\n",
      "B acc: 0.5\n",
      "Confusion matrix:\n",
      "[[21  0]\n",
      " [39  0]]\n",
      "AUC ROC: 0.6886446886446886\n",
      "#################\n"
     ]
    }
   ],
   "source": [
    "for key in configNew:\n",
    "    print(f\"Ejecutando {key}\")\n",
    "    executeModel(dataloader, **configNew[key])\n",
    "    print(\"#################\")"
   ]
  },
  {
   "cell_type": "code",
   "execution_count": null,
   "id": "187ca3de",
   "metadata": {},
   "outputs": [],
   "source": []
  }
 ],
 "metadata": {
  "kernelspec": {
   "display_name": "Python 3 (ipykernel)",
   "language": "python",
   "name": "python3"
  },
  "language_info": {
   "codemirror_mode": {
    "name": "ipython",
    "version": 3
   },
   "file_extension": ".py",
   "mimetype": "text/x-python",
   "name": "python",
   "nbconvert_exporter": "python",
   "pygments_lexer": "ipython3",
   "version": "3.9.6"
  }
 },
 "nbformat": 4,
 "nbformat_minor": 5
}
