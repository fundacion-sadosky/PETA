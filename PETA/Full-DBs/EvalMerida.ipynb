{
 "cells": [
  {
   "cell_type": "code",
   "execution_count": 1,
   "id": "c99dee4c",
   "metadata": {},
   "outputs": [],
   "source": [
    "import dicom2nifti\n",
    "import nibabel as nib\n",
    "import nilearn as nil\n",
    "import scipy.ndimage as ndi\n",
    "import matplotlib.pyplot as plt\n",
    "import os\n",
    "import glob\n",
    "from pathlib import Path\n",
    "import SimpleITK as sitk # para calcular rangos\n",
    "import numpy as np\n",
    "import io\n",
    "from PIL import Image\n",
    "import random\n",
    "import sys\n",
    "import pandas as pd\n",
    "import math\n",
    "import pandas as pd\n",
    "import sklearn\n",
    "import sklearn.metrics\n",
    "from sklearn.metrics import roc_curve\n",
    "from sklearn.metrics import roc_auc_score"
   ]
  },
  {
   "cell_type": "code",
   "execution_count": 2,
   "id": "4abd525f",
   "metadata": {},
   "outputs": [],
   "source": [
    "sys.path.append(\"/Users/hugom/PET-IA/src\")"
   ]
  },
  {
   "cell_type": "code",
   "execution_count": 3,
   "id": "6ff277e1",
   "metadata": {},
   "outputs": [],
   "source": [
    "from datasets import BaseDataset\n",
    "from transforms import TransformGridImage, ToLabelOutputConfigurable\n",
    "from train_lib import train_model, set_parameter_requires_grad, initialize_model\n",
    "from util import collectAllData\n",
    "import torch\n",
    "import torchvision\n",
    "from torchvision import transforms, utils, models, datasets"
   ]
  },
  {
   "cell_type": "code",
   "execution_count": 4,
   "id": "fba984cb",
   "metadata": {},
   "outputs": [],
   "source": [
    "mean = 2300.842041015625\n",
    "std = 4192.4441558594435"
   ]
  },
  {
   "cell_type": "code",
   "execution_count": 5,
   "id": "1a0012fc",
   "metadata": {},
   "outputs": [],
   "source": [
    "config = {\n",
    "  \"last_3_classes\": {\n",
    "    \"weights\": \"/Users/hugom/Tesis/ExperimentosServer/muestraFull3700_9/muestraFull3700_9_dxlast_3classes_0_epoch21.pth\",\n",
    "    \"num_classes\": 3\n",
    "  },\n",
    "  \"sev_3_classes\": {\n",
    "    \"weights\": \"/Users/hugom/Tesis/ExperimentosServer/muestraFull3700_9/muestraFull3700_9_dxmost_severe_3classes_0_epoch31.pth\",\n",
    "    \"num_classes\": 3\n",
    "  },\n",
    "  \"visit_3_classes\": {\n",
    "    \"weights\": \"/Users/hugom/Tesis/ExperimentosServer/muestraFull3700_9/muestraFull3700_9_dxvisit_3classes_0_epoch10.pth\",\n",
    "    \"num_classes\": 3\n",
    "  },\n",
    "  \"last_2classes\": {\n",
    "    \"weights\": \"/Users/hugom/Tesis/ExperimentosServer/muestraFull3700_9/muestraFull3700_9_dxlast_2classes_0_epoch18.pth\",\n",
    "    \"num_classes\": 2\n",
    "  },\n",
    "  \"sev_2classes\": {\n",
    "    \"weights\": \"/Users/hugom/Tesis/ExperimentosServer/muestraFull3700_9/muestraFull3700_9_dxmost_severe_2classes_0_epoch16.pth\",\n",
    "    \"num_classes\": 2\n",
    "  },\n",
    "  \"visit_2classes\": {\n",
    "    \"weights\": \"/Users/hugom/Tesis/ExperimentosServer/muestraFull3700_9/muestraFull3700_9_dxvisit_2classes_0_epoch5.pth\",\n",
    "    \"num_classes\": 2\n",
    "  }\n",
    "}\n"
   ]
  },
  {
   "cell_type": "code",
   "execution_count": 6,
   "id": "9fe73657",
   "metadata": {},
   "outputs": [],
   "source": [
    "def executeModel(dataloader, weights, num_classes):\n",
    "    featureExtract = False\n",
    "    dropoutRate = 0.6\n",
    "    auxEnabled = True\n",
    "    usePretrained = False\n",
    "    model_ft, input_size = initialize_model('inception', num_classes, featureExtract, dropoutRate, auxEnabled, use_pretrained=usePretrained)\n",
    "    device = torch.device(deviceName if torch.cuda.is_available() else \"cpu\")\n",
    "    model_state_dict = torch.load(weights, map_location=device)\n",
    "    model_ft.load_state_dict(model_state_dict)\n",
    "\n",
    "    model_ft.to(device)\n",
    "    \n",
    "    testY, predY = collectAllData(dataloader, model_ft, device, num_classes)\n",
    "    \n",
    "    _, preds = torch.max(torch.from_numpy(predY), 1)\n",
    "    preds = preds.cpu().numpy()\n",
    "    \n",
    "    acc = sklearn.metrics.accuracy_score(testY, preds)\n",
    "    bacc = sklearn.metrics.balanced_accuracy_score(testY, preds)\n",
    "    \n",
    "    print(testY)\n",
    "    print(preds)\n",
    "    \n",
    "    print(f\"Accuracy: {acc}\")\n",
    "    print(f\"B acc: {bacc}\")\n",
    "    matrix = sklearn.metrics.confusion_matrix(testY, preds)\n",
    "    \n",
    "    print(\"Confusion matrix:\")\n",
    "    print(matrix)\n",
    "    \n",
    "    if (num_classes == 2):\n",
    "        #lr_auc = roc_auc_score(testY, torch.from_numpy(predY[:, 1]), average = None)\n",
    "        #print(f\"AUC ROC: {lr_auc}\")\n",
    "        return\n",
    "    \n",
    "    print(\"------------\")\n",
    "    print(\"Merging 2 with 0\")\n",
    "    \n",
    "    predY[:, 0] = predY[:, 0] + predY[:, 2] #sumo MCI con CN\n",
    "    predY = predY[:, 0:2] # Borro MCI\n",
    "    \n",
    "    _, preds = torch.max(torch.from_numpy(predY), 1)\n",
    "    preds = preds.cpu().numpy()\n",
    "    \n",
    "    acc = sklearn.metrics.accuracy_score(testY, preds)\n",
    "    bacc = sklearn.metrics.balanced_accuracy_score(testY, preds)\n",
    "    \n",
    "    print(f\"Accuracy merged: {acc}\")\n",
    "    print(f\"B acc merged: {bacc}\")\n",
    "    \n",
    "    print(\"Confusion matrix merged:\")\n",
    "    matrix = sklearn.metrics.confusion_matrix(testY, preds)\n",
    "    print(matrix)\n",
    "    \n",
    "    #lr_auc = roc_auc_score(testY, torch.from_numpy(predY[:, 1]), average = None)\n",
    "    #print(f\"AUC ROC: {lr_auc}\")"
   ]
  },
  {
   "cell_type": "code",
   "execution_count": 7,
   "id": "74e405d4",
   "metadata": {},
   "outputs": [],
   "source": [
    "tsvFile = '/Users/hugom/PET-IA/Full-DBs/ines-merida-db/pool/DM/TEP/CERMEP_MXFDG/BASE/DATABASE_SENT/ALL/participants.tsv'\n",
    "imagesFolder = '/Users/hugom/Tesis/Imagenes/merida-preprocessed'\n",
    "meridaTransforms = torchvision.transforms.Compose([\n",
    "    TransformGridImage(),\n",
    "    torchvision.transforms.ToTensor(),\n",
    "    torchvision.transforms.Normalize([mean, mean, mean], [std, std, std])\n",
    "])\n",
    "dicti = {\n",
    "    \"AD\": 1,\n",
    "    \"non-AD\": 0\n",
    "}\n",
    "csv = pd.read_table(tsvFile, index_col = False)\n",
    "csv['Group'] = 'non-AD'\n",
    "dataset = BaseDataset('merida', csv, imagesFolder, studyIDLabel = 'participant_id', transform = meridaTransforms, target_transform = ToLabelOutputConfigurable(dicti), truthLabel = 'Group')\n",
    "dataloader = torch.utils.data.DataLoader(dataset, batch_size=1, shuffle=False, num_workers=0)"
   ]
  },
  {
   "cell_type": "code",
   "execution_count": 8,
   "id": "5a5c4893",
   "metadata": {},
   "outputs": [
    {
     "name": "stdout",
     "output_type": "stream",
     "text": [
      "Ejecutando last_3_classes\n"
     ]
    },
    {
     "name": "stderr",
     "output_type": "stream",
     "text": [
      "/Users/hugom/Library/Python/3.9/lib/python/site-packages/torchvision/models/_utils.py:208: UserWarning: The parameter 'pretrained' is deprecated since 0.13 and may be removed in the future, please use 'weights' instead.\n",
      "  warnings.warn(\n",
      "/Users/hugom/Library/Python/3.9/lib/python/site-packages/torchvision/models/_utils.py:223: UserWarning: Arguments other than a weight enum or `None` for 'weights' are deprecated since 0.13 and may be removed in the future. The current behavior is equivalent to passing `weights=None`.\n",
      "  warnings.warn(msg)\n",
      "/Users/hugom/Library/Python/3.9/lib/python/site-packages/torchvision/models/inception.py:43: FutureWarning: The default weight initialization of inception_v3 will be changed in future releases of torchvision. If you wish to keep the old behavior (which leads to long initialization times due to scipy/scipy#11299), please set init_weights=True.\n",
      "  warnings.warn(\n"
     ]
    },
    {
     "name": "stdout",
     "output_type": "stream",
     "text": [
      "num featurs2048\n"
     ]
    },
    {
     "name": "stderr",
     "output_type": "stream",
     "text": [
      "/Users/hugom/Library/Python/3.9/lib/python/site-packages/sklearn/metrics/_classification.py:2006: UserWarning: y_pred contains classes not in y_true\n",
      "  warnings.warn(\"y_pred contains classes not in y_true\")\n",
      "/Users/hugom/Library/Python/3.9/lib/python/site-packages/sklearn/metrics/_classification.py:2006: UserWarning: y_pred contains classes not in y_true\n",
      "  warnings.warn(\"y_pred contains classes not in y_true\")\n",
      "/Users/hugom/Library/Python/3.9/lib/python/site-packages/torchvision/models/_utils.py:208: UserWarning: The parameter 'pretrained' is deprecated since 0.13 and may be removed in the future, please use 'weights' instead.\n",
      "  warnings.warn(\n",
      "/Users/hugom/Library/Python/3.9/lib/python/site-packages/torchvision/models/_utils.py:223: UserWarning: Arguments other than a weight enum or `None` for 'weights' are deprecated since 0.13 and may be removed in the future. The current behavior is equivalent to passing `weights=None`.\n",
      "  warnings.warn(msg)\n",
      "/Users/hugom/Library/Python/3.9/lib/python/site-packages/torchvision/models/inception.py:43: FutureWarning: The default weight initialization of inception_v3 will be changed in future releases of torchvision. If you wish to keep the old behavior (which leads to long initialization times due to scipy/scipy#11299), please set init_weights=True.\n",
      "  warnings.warn(\n"
     ]
    },
    {
     "name": "stdout",
     "output_type": "stream",
     "text": [
      "[0. 0. 0. 0. 0. 0. 0. 0. 0. 0. 0. 0. 0. 0. 0. 0. 0. 0. 0. 0. 0. 0. 0. 0.\n",
      " 0. 0. 0. 0. 0. 0. 0. 0. 0. 0. 0. 0. 0.]\n",
      "[1 1 1 1 1 1 1 1 1 1 1 1 1 0 1 0 0 0 1 1 0 1 1 1 1 1 1 1 1 1 1 1 1 1 1 1 1]\n",
      "Accuracy: 0.13513513513513514\n",
      "B acc: 0.13513513513513514\n",
      "Confusion matrix:\n",
      "[[ 5 32]\n",
      " [ 0  0]]\n",
      "------------\n",
      "Merging 2 with 0\n",
      "Accuracy merged: 0.13513513513513514\n",
      "B acc merged: 0.13513513513513514\n",
      "Confusion matrix merged:\n",
      "[[ 5 32]\n",
      " [ 0  0]]\n",
      "#################\n",
      "Ejecutando sev_3_classes\n",
      "num featurs2048\n"
     ]
    },
    {
     "name": "stderr",
     "output_type": "stream",
     "text": [
      "/Users/hugom/Library/Python/3.9/lib/python/site-packages/sklearn/metrics/_classification.py:2006: UserWarning: y_pred contains classes not in y_true\n",
      "  warnings.warn(\"y_pred contains classes not in y_true\")\n",
      "/Users/hugom/Library/Python/3.9/lib/python/site-packages/sklearn/metrics/_classification.py:2006: UserWarning: y_pred contains classes not in y_true\n",
      "  warnings.warn(\"y_pred contains classes not in y_true\")\n",
      "/Users/hugom/Library/Python/3.9/lib/python/site-packages/torchvision/models/_utils.py:208: UserWarning: The parameter 'pretrained' is deprecated since 0.13 and may be removed in the future, please use 'weights' instead.\n",
      "  warnings.warn(\n",
      "/Users/hugom/Library/Python/3.9/lib/python/site-packages/torchvision/models/_utils.py:223: UserWarning: Arguments other than a weight enum or `None` for 'weights' are deprecated since 0.13 and may be removed in the future. The current behavior is equivalent to passing `weights=None`.\n",
      "  warnings.warn(msg)\n",
      "/Users/hugom/Library/Python/3.9/lib/python/site-packages/torchvision/models/inception.py:43: FutureWarning: The default weight initialization of inception_v3 will be changed in future releases of torchvision. If you wish to keep the old behavior (which leads to long initialization times due to scipy/scipy#11299), please set init_weights=True.\n",
      "  warnings.warn(\n"
     ]
    },
    {
     "name": "stdout",
     "output_type": "stream",
     "text": [
      "[0. 0. 0. 0. 0. 0. 0. 0. 0. 0. 0. 0. 0. 0. 0. 0. 0. 0. 0. 0. 0. 0. 0. 0.\n",
      " 0. 0. 0. 0. 0. 0. 0. 0. 0. 0. 0. 0. 0.]\n",
      "[1 0 0 0 0 0 1 1 1 0 1 1 0 2 0 0 0 0 1 0 2 0 0 0 0 1 1 0 0 1 0 0 0 0 0 0 1]\n",
      "Accuracy: 0.6486486486486487\n",
      "B acc: 0.6486486486486487\n",
      "Confusion matrix:\n",
      "[[24 11  2]\n",
      " [ 0  0  0]\n",
      " [ 0  0  0]]\n",
      "------------\n",
      "Merging 2 with 0\n",
      "Accuracy merged: 0.8108108108108109\n",
      "B acc merged: 0.8108108108108109\n",
      "Confusion matrix merged:\n",
      "[[30  7]\n",
      " [ 0  0]]\n",
      "#################\n",
      "Ejecutando visit_3_classes\n",
      "num featurs2048\n"
     ]
    },
    {
     "name": "stderr",
     "output_type": "stream",
     "text": [
      "/Users/hugom/Library/Python/3.9/lib/python/site-packages/sklearn/metrics/_classification.py:2006: UserWarning: y_pred contains classes not in y_true\n",
      "  warnings.warn(\"y_pred contains classes not in y_true\")\n",
      "/Users/hugom/Library/Python/3.9/lib/python/site-packages/sklearn/metrics/_classification.py:2006: UserWarning: y_pred contains classes not in y_true\n",
      "  warnings.warn(\"y_pred contains classes not in y_true\")\n",
      "/Users/hugom/Library/Python/3.9/lib/python/site-packages/torchvision/models/_utils.py:208: UserWarning: The parameter 'pretrained' is deprecated since 0.13 and may be removed in the future, please use 'weights' instead.\n",
      "  warnings.warn(\n",
      "/Users/hugom/Library/Python/3.9/lib/python/site-packages/torchvision/models/_utils.py:223: UserWarning: Arguments other than a weight enum or `None` for 'weights' are deprecated since 0.13 and may be removed in the future. The current behavior is equivalent to passing `weights=None`.\n",
      "  warnings.warn(msg)\n",
      "/Users/hugom/Library/Python/3.9/lib/python/site-packages/torchvision/models/inception.py:43: FutureWarning: The default weight initialization of inception_v3 will be changed in future releases of torchvision. If you wish to keep the old behavior (which leads to long initialization times due to scipy/scipy#11299), please set init_weights=True.\n",
      "  warnings.warn(\n"
     ]
    },
    {
     "name": "stdout",
     "output_type": "stream",
     "text": [
      "[0. 0. 0. 0. 0. 0. 0. 0. 0. 0. 0. 0. 0. 0. 0. 0. 0. 0. 0. 0. 0. 0. 0. 0.\n",
      " 0. 0. 0. 0. 0. 0. 0. 0. 0. 0. 0. 0. 0.]\n",
      "[2 2 1 1 0 1 2 2 2 1 2 2 2 2 2 1 2 2 2 1 2 2 2 1 1 2 2 1 1 2 2 2 2 2 2 1 2]\n",
      "Accuracy: 0.02702702702702703\n",
      "B acc: 0.02702702702702703\n",
      "Confusion matrix:\n",
      "[[ 1 11 25]\n",
      " [ 0  0  0]\n",
      " [ 0  0  0]]\n",
      "------------\n",
      "Merging 2 with 0\n",
      "Accuracy merged: 0.9459459459459459\n",
      "B acc merged: 0.9459459459459459\n",
      "Confusion matrix merged:\n",
      "[[35  2]\n",
      " [ 0  0]]\n",
      "#################\n",
      "Ejecutando last_2classes\n",
      "num featurs2048\n",
      "[0. 0. 0. 0. 0. 0. 0. 0. 0. 0. 0. 0. 0. 0. 0. 0. 0. 0. 0. 0. 0. 0. 0. 0.\n",
      " 0. 0. 0. 0. 0. 0. 0. 0. 0. 0. 0. 0. 0.]\n",
      "[0 0 0 0 0 0 0 0 0 0 0 0 0 0 0 0 0 0 0 0 0 0 0 0 0 0 0 0 0 0 0 0 0 0 0 0 0]\n",
      "Accuracy: 1.0\n",
      "B acc: 1.0\n",
      "Confusion matrix:\n",
      "[[37]]\n",
      "#################\n",
      "Ejecutando sev_2classes\n"
     ]
    },
    {
     "name": "stderr",
     "output_type": "stream",
     "text": [
      "/Users/hugom/Library/Python/3.9/lib/python/site-packages/torchvision/models/_utils.py:208: UserWarning: The parameter 'pretrained' is deprecated since 0.13 and may be removed in the future, please use 'weights' instead.\n",
      "  warnings.warn(\n",
      "/Users/hugom/Library/Python/3.9/lib/python/site-packages/torchvision/models/_utils.py:223: UserWarning: Arguments other than a weight enum or `None` for 'weights' are deprecated since 0.13 and may be removed in the future. The current behavior is equivalent to passing `weights=None`.\n",
      "  warnings.warn(msg)\n",
      "/Users/hugom/Library/Python/3.9/lib/python/site-packages/torchvision/models/inception.py:43: FutureWarning: The default weight initialization of inception_v3 will be changed in future releases of torchvision. If you wish to keep the old behavior (which leads to long initialization times due to scipy/scipy#11299), please set init_weights=True.\n",
      "  warnings.warn(\n"
     ]
    },
    {
     "name": "stdout",
     "output_type": "stream",
     "text": [
      "num featurs2048\n"
     ]
    },
    {
     "name": "stderr",
     "output_type": "stream",
     "text": [
      "/Users/hugom/Library/Python/3.9/lib/python/site-packages/sklearn/metrics/_classification.py:2006: UserWarning: y_pred contains classes not in y_true\n",
      "  warnings.warn(\"y_pred contains classes not in y_true\")\n",
      "/Users/hugom/Library/Python/3.9/lib/python/site-packages/torchvision/models/_utils.py:208: UserWarning: The parameter 'pretrained' is deprecated since 0.13 and may be removed in the future, please use 'weights' instead.\n",
      "  warnings.warn(\n",
      "/Users/hugom/Library/Python/3.9/lib/python/site-packages/torchvision/models/_utils.py:223: UserWarning: Arguments other than a weight enum or `None` for 'weights' are deprecated since 0.13 and may be removed in the future. The current behavior is equivalent to passing `weights=None`.\n",
      "  warnings.warn(msg)\n",
      "/Users/hugom/Library/Python/3.9/lib/python/site-packages/torchvision/models/inception.py:43: FutureWarning: The default weight initialization of inception_v3 will be changed in future releases of torchvision. If you wish to keep the old behavior (which leads to long initialization times due to scipy/scipy#11299), please set init_weights=True.\n",
      "  warnings.warn(\n"
     ]
    },
    {
     "name": "stdout",
     "output_type": "stream",
     "text": [
      "[0. 0. 0. 0. 0. 0. 0. 0. 0. 0. 0. 0. 0. 0. 0. 0. 0. 0. 0. 0. 0. 0. 0. 0.\n",
      " 0. 0. 0. 0. 0. 0. 0. 0. 0. 0. 0. 0. 0.]\n",
      "[1 1 1 1 0 1 1 1 1 1 1 1 1 0 1 0 0 0 1 1 0 1 1 1 1 1 1 1 1 1 1 1 1 1 1 1 1]\n",
      "Accuracy: 0.16216216216216217\n",
      "B acc: 0.16216216216216217\n",
      "Confusion matrix:\n",
      "[[ 6 31]\n",
      " [ 0  0]]\n",
      "#################\n",
      "Ejecutando visit_2classes\n",
      "num featurs2048\n",
      "[0. 0. 0. 0. 0. 0. 0. 0. 0. 0. 0. 0. 0. 0. 0. 0. 0. 0. 0. 0. 0. 0. 0. 0.\n",
      " 0. 0. 0. 0. 0. 0. 0. 0. 0. 0. 0. 0. 0.]\n",
      "[0 0 0 0 0 0 0 0 0 0 0 0 0 0 0 0 0 0 0 0 0 0 0 0 0 0 0 0 0 0 0 0 0 0 0 0 0]\n",
      "Accuracy: 1.0\n",
      "B acc: 1.0\n",
      "Confusion matrix:\n",
      "[[37]]\n",
      "#################\n"
     ]
    }
   ],
   "source": [
    "for key in config:\n",
    "    print(f\"Ejecutando {key}\")\n",
    "    executeModel(dataloader, **config[key])\n",
    "    print(\"#################\")"
   ]
  },
  {
   "cell_type": "markdown",
   "id": "585c8a9c",
   "metadata": {},
   "source": [
    "# Nuevos"
   ]
  },
  {
   "cell_type": "code",
   "execution_count": 9,
   "id": "a1cde9cb",
   "metadata": {},
   "outputs": [],
   "source": [
    "configNew = {\n",
    "  \"last_cn_vs_ad\": {\n",
    "    \"weights\": \"/Users/hugom/Tesis/ExperimentosServer/muestraFull3700_8/muestraFull3700_8_dxlast_2classes_CN,AD_0_epoch42.pth\",\n",
    "    \"num_classes\": 2\n",
    "  },\n",
    "  \"sev_cn_vs_ad\": {\n",
    "    \"weights\": \"/Users/hugom/Tesis/ExperimentosServer/muestraFull3700_8/muestraFull3700_8_dxmost_severe_2classes_CN,AD_0_epoch12.pth\",\n",
    "    \"num_classes\": 2\n",
    "  },\n",
    "  \"visit_cn_vs_ad\": {\n",
    "    \"weights\": \"/Users/hugom/Tesis/ExperimentosServer/muestraFull3700_8/muestraFull3700_8_dxvisit_2classes_CN,AD_0_epoch19.pth\",\n",
    "    \"num_classes\": 2\n",
    "  },\n",
    "  \"last_mci_vs_ad\": {\n",
    "    \"weights\": \"/Users/hugom/Tesis/ExperimentosServer/muestraFull3700_8/muestraFull3700_8_dxlast_2classes_MCI,AD_0_epoch45.pth\",\n",
    "    \"num_classes\": 2\n",
    "  },\n",
    "  \"sev_mci_vs_ad\": {\n",
    "    \"weights\": \"/Users/hugom/Tesis/ExperimentosServer/muestraFull3700_8/muestraFull3700_8_dxmost_severe_2classes_MCI,AD_0_epoch17.pth\",\n",
    "    \"num_classes\": 2\n",
    "  },\n",
    "  \"visit_mci_vs_ad\": {\n",
    "    \"weights\": \"/Users/hugom/Tesis/ExperimentosServer/muestraFull3700_8/muestraFull3700_8_dxvisit_2classes_MCI,AD_0_epoch1.pth\",\n",
    "    \"num_classes\": 2\n",
    "  }\n",
    "}"
   ]
  },
  {
   "cell_type": "code",
   "execution_count": 10,
   "id": "e4bf78c3",
   "metadata": {},
   "outputs": [],
   "source": [
    "dataset = BaseDataset('merida', csv, imagesFolder, studyIDLabel = 'participant_id', transform = meridaTransforms, target_transform = ToLabelOutputConfigurable(dicti), truthLabel = 'Group')\n",
    "dataloader = torch.utils.data.DataLoader(dataset, batch_size=1, shuffle=False, num_workers=0)"
   ]
  },
  {
   "cell_type": "code",
   "execution_count": 11,
   "id": "507a5de1",
   "metadata": {},
   "outputs": [
    {
     "name": "stdout",
     "output_type": "stream",
     "text": [
      "Ejecutando last_cn_vs_ad\n"
     ]
    },
    {
     "name": "stderr",
     "output_type": "stream",
     "text": [
      "/Users/hugom/Library/Python/3.9/lib/python/site-packages/torchvision/models/_utils.py:208: UserWarning: The parameter 'pretrained' is deprecated since 0.13 and may be removed in the future, please use 'weights' instead.\n",
      "  warnings.warn(\n",
      "/Users/hugom/Library/Python/3.9/lib/python/site-packages/torchvision/models/_utils.py:223: UserWarning: Arguments other than a weight enum or `None` for 'weights' are deprecated since 0.13 and may be removed in the future. The current behavior is equivalent to passing `weights=None`.\n",
      "  warnings.warn(msg)\n",
      "/Users/hugom/Library/Python/3.9/lib/python/site-packages/torchvision/models/inception.py:43: FutureWarning: The default weight initialization of inception_v3 will be changed in future releases of torchvision. If you wish to keep the old behavior (which leads to long initialization times due to scipy/scipy#11299), please set init_weights=True.\n",
      "  warnings.warn(\n"
     ]
    },
    {
     "name": "stdout",
     "output_type": "stream",
     "text": [
      "num featurs2048\n"
     ]
    },
    {
     "name": "stderr",
     "output_type": "stream",
     "text": [
      "/Users/hugom/Library/Python/3.9/lib/python/site-packages/sklearn/metrics/_classification.py:2006: UserWarning: y_pred contains classes not in y_true\n",
      "  warnings.warn(\"y_pred contains classes not in y_true\")\n",
      "/Users/hugom/Library/Python/3.9/lib/python/site-packages/torchvision/models/_utils.py:208: UserWarning: The parameter 'pretrained' is deprecated since 0.13 and may be removed in the future, please use 'weights' instead.\n",
      "  warnings.warn(\n",
      "/Users/hugom/Library/Python/3.9/lib/python/site-packages/torchvision/models/_utils.py:223: UserWarning: Arguments other than a weight enum or `None` for 'weights' are deprecated since 0.13 and may be removed in the future. The current behavior is equivalent to passing `weights=None`.\n",
      "  warnings.warn(msg)\n",
      "/Users/hugom/Library/Python/3.9/lib/python/site-packages/torchvision/models/inception.py:43: FutureWarning: The default weight initialization of inception_v3 will be changed in future releases of torchvision. If you wish to keep the old behavior (which leads to long initialization times due to scipy/scipy#11299), please set init_weights=True.\n",
      "  warnings.warn(\n"
     ]
    },
    {
     "name": "stdout",
     "output_type": "stream",
     "text": [
      "[0. 0. 0. 0. 0. 0. 0. 0. 0. 0. 0. 0. 0. 0. 0. 0. 0. 0. 0. 0. 0. 0. 0. 0.\n",
      " 0. 0. 0. 0. 0. 0. 0. 0. 0. 0. 0. 0. 0.]\n",
      "[1 1 1 1 1 1 0 0 0 1 0 0 1 1 1 1 1 1 0 1 1 1 1 1 1 0 0 1 1 0 1 1 1 1 1 1 0]\n",
      "Accuracy: 0.2702702702702703\n",
      "B acc: 0.2702702702702703\n",
      "Confusion matrix:\n",
      "[[10 27]\n",
      " [ 0  0]]\n",
      "#################\n",
      "Ejecutando sev_cn_vs_ad\n",
      "num featurs2048\n"
     ]
    },
    {
     "name": "stderr",
     "output_type": "stream",
     "text": [
      "/Users/hugom/Library/Python/3.9/lib/python/site-packages/sklearn/metrics/_classification.py:2006: UserWarning: y_pred contains classes not in y_true\n",
      "  warnings.warn(\"y_pred contains classes not in y_true\")\n",
      "/Users/hugom/Library/Python/3.9/lib/python/site-packages/torchvision/models/_utils.py:208: UserWarning: The parameter 'pretrained' is deprecated since 0.13 and may be removed in the future, please use 'weights' instead.\n",
      "  warnings.warn(\n",
      "/Users/hugom/Library/Python/3.9/lib/python/site-packages/torchvision/models/_utils.py:223: UserWarning: Arguments other than a weight enum or `None` for 'weights' are deprecated since 0.13 and may be removed in the future. The current behavior is equivalent to passing `weights=None`.\n",
      "  warnings.warn(msg)\n",
      "/Users/hugom/Library/Python/3.9/lib/python/site-packages/torchvision/models/inception.py:43: FutureWarning: The default weight initialization of inception_v3 will be changed in future releases of torchvision. If you wish to keep the old behavior (which leads to long initialization times due to scipy/scipy#11299), please set init_weights=True.\n",
      "  warnings.warn(\n"
     ]
    },
    {
     "name": "stdout",
     "output_type": "stream",
     "text": [
      "[0. 0. 0. 0. 0. 0. 0. 0. 0. 0. 0. 0. 0. 0. 0. 0. 0. 0. 0. 0. 0. 0. 0. 0.\n",
      " 0. 0. 0. 0. 0. 0. 0. 0. 0. 0. 0. 0. 0.]\n",
      "[1 1 1 1 1 1 1 1 1 1 1 1 1 1 1 1 1 1 1 1 1 1 1 1 1 1 1 1 1 1 1 1 1 1 1 1 1]\n",
      "Accuracy: 0.0\n",
      "B acc: 0.0\n",
      "Confusion matrix:\n",
      "[[ 0 37]\n",
      " [ 0  0]]\n",
      "#################\n",
      "Ejecutando visit_cn_vs_ad\n",
      "num featurs2048\n"
     ]
    },
    {
     "name": "stderr",
     "output_type": "stream",
     "text": [
      "/Users/hugom/Library/Python/3.9/lib/python/site-packages/sklearn/metrics/_classification.py:2006: UserWarning: y_pred contains classes not in y_true\n",
      "  warnings.warn(\"y_pred contains classes not in y_true\")\n",
      "/Users/hugom/Library/Python/3.9/lib/python/site-packages/torchvision/models/_utils.py:208: UserWarning: The parameter 'pretrained' is deprecated since 0.13 and may be removed in the future, please use 'weights' instead.\n",
      "  warnings.warn(\n",
      "/Users/hugom/Library/Python/3.9/lib/python/site-packages/torchvision/models/_utils.py:223: UserWarning: Arguments other than a weight enum or `None` for 'weights' are deprecated since 0.13 and may be removed in the future. The current behavior is equivalent to passing `weights=None`.\n",
      "  warnings.warn(msg)\n",
      "/Users/hugom/Library/Python/3.9/lib/python/site-packages/torchvision/models/inception.py:43: FutureWarning: The default weight initialization of inception_v3 will be changed in future releases of torchvision. If you wish to keep the old behavior (which leads to long initialization times due to scipy/scipy#11299), please set init_weights=True.\n",
      "  warnings.warn(\n"
     ]
    },
    {
     "name": "stdout",
     "output_type": "stream",
     "text": [
      "[0. 0. 0. 0. 0. 0. 0. 0. 0. 0. 0. 0. 0. 0. 0. 0. 0. 0. 0. 0. 0. 0. 0. 0.\n",
      " 0. 0. 0. 0. 0. 0. 0. 0. 0. 0. 0. 0. 0.]\n",
      "[1 1 1 1 0 1 0 1 0 1 1 0 1 0 1 0 0 0 0 1 0 1 1 1 0 1 1 1 1 1 1 1 0 1 1 1 0]\n",
      "Accuracy: 0.35135135135135137\n",
      "B acc: 0.35135135135135137\n",
      "Confusion matrix:\n",
      "[[13 24]\n",
      " [ 0  0]]\n",
      "#################\n",
      "Ejecutando last_mci_vs_ad\n",
      "num featurs2048\n"
     ]
    },
    {
     "name": "stderr",
     "output_type": "stream",
     "text": [
      "/Users/hugom/Library/Python/3.9/lib/python/site-packages/sklearn/metrics/_classification.py:2006: UserWarning: y_pred contains classes not in y_true\n",
      "  warnings.warn(\"y_pred contains classes not in y_true\")\n",
      "/Users/hugom/Library/Python/3.9/lib/python/site-packages/torchvision/models/_utils.py:208: UserWarning: The parameter 'pretrained' is deprecated since 0.13 and may be removed in the future, please use 'weights' instead.\n",
      "  warnings.warn(\n",
      "/Users/hugom/Library/Python/3.9/lib/python/site-packages/torchvision/models/_utils.py:223: UserWarning: Arguments other than a weight enum or `None` for 'weights' are deprecated since 0.13 and may be removed in the future. The current behavior is equivalent to passing `weights=None`.\n",
      "  warnings.warn(msg)\n",
      "/Users/hugom/Library/Python/3.9/lib/python/site-packages/torchvision/models/inception.py:43: FutureWarning: The default weight initialization of inception_v3 will be changed in future releases of torchvision. If you wish to keep the old behavior (which leads to long initialization times due to scipy/scipy#11299), please set init_weights=True.\n",
      "  warnings.warn(\n"
     ]
    },
    {
     "name": "stdout",
     "output_type": "stream",
     "text": [
      "[0. 0. 0. 0. 0. 0. 0. 0. 0. 0. 0. 0. 0. 0. 0. 0. 0. 0. 0. 0. 0. 0. 0. 0.\n",
      " 0. 0. 0. 0. 0. 0. 0. 0. 0. 0. 0. 0. 0.]\n",
      "[0 0 0 0 0 0 0 0 0 0 0 0 0 0 0 1 1 1 0 0 0 0 0 0 0 0 0 0 0 0 0 0 0 0 0 0 0]\n",
      "Accuracy: 0.918918918918919\n",
      "B acc: 0.918918918918919\n",
      "Confusion matrix:\n",
      "[[34  3]\n",
      " [ 0  0]]\n",
      "#################\n",
      "Ejecutando sev_mci_vs_ad\n",
      "num featurs2048\n"
     ]
    },
    {
     "name": "stderr",
     "output_type": "stream",
     "text": [
      "/Users/hugom/Library/Python/3.9/lib/python/site-packages/sklearn/metrics/_classification.py:2006: UserWarning: y_pred contains classes not in y_true\n",
      "  warnings.warn(\"y_pred contains classes not in y_true\")\n",
      "/Users/hugom/Library/Python/3.9/lib/python/site-packages/torchvision/models/_utils.py:208: UserWarning: The parameter 'pretrained' is deprecated since 0.13 and may be removed in the future, please use 'weights' instead.\n",
      "  warnings.warn(\n",
      "/Users/hugom/Library/Python/3.9/lib/python/site-packages/torchvision/models/_utils.py:223: UserWarning: Arguments other than a weight enum or `None` for 'weights' are deprecated since 0.13 and may be removed in the future. The current behavior is equivalent to passing `weights=None`.\n",
      "  warnings.warn(msg)\n",
      "/Users/hugom/Library/Python/3.9/lib/python/site-packages/torchvision/models/inception.py:43: FutureWarning: The default weight initialization of inception_v3 will be changed in future releases of torchvision. If you wish to keep the old behavior (which leads to long initialization times due to scipy/scipy#11299), please set init_weights=True.\n",
      "  warnings.warn(\n"
     ]
    },
    {
     "name": "stdout",
     "output_type": "stream",
     "text": [
      "[0. 0. 0. 0. 0. 0. 0. 0. 0. 0. 0. 0. 0. 0. 0. 0. 0. 0. 0. 0. 0. 0. 0. 0.\n",
      " 0. 0. 0. 0. 0. 0. 0. 0. 0. 0. 0. 0. 0.]\n",
      "[0 0 0 0 0 0 1 0 0 0 0 0 0 0 0 0 0 0 0 0 0 0 0 0 0 0 0 0 0 0 0 0 0 0 0 0 0]\n",
      "Accuracy: 0.972972972972973\n",
      "B acc: 0.972972972972973\n",
      "Confusion matrix:\n",
      "[[36  1]\n",
      " [ 0  0]]\n",
      "#################\n",
      "Ejecutando visit_mci_vs_ad\n",
      "num featurs2048\n",
      "[0. 0. 0. 0. 0. 0. 0. 0. 0. 0. 0. 0. 0. 0. 0. 0. 0. 0. 0. 0. 0. 0. 0. 0.\n",
      " 0. 0. 0. 0. 0. 0. 0. 0. 0. 0. 0. 0. 0.]\n",
      "[0 0 0 0 0 0 0 0 0 0 0 0 0 0 0 0 0 0 0 0 0 0 0 0 0 0 0 0 0 0 0 0 0 0 0 0 0]\n",
      "Accuracy: 1.0\n",
      "B acc: 1.0\n",
      "Confusion matrix:\n",
      "[[37]]\n",
      "#################\n"
     ]
    }
   ],
   "source": [
    "for key in configNew:\n",
    "    print(f\"Ejecutando {key}\")\n",
    "    executeModel(dataloader, **configNew[key])\n",
    "    print(\"#################\")"
   ]
  },
  {
   "cell_type": "code",
   "execution_count": null,
   "id": "1b7a498c",
   "metadata": {},
   "outputs": [],
   "source": []
  }
 ],
 "metadata": {
  "kernelspec": {
   "display_name": "Python 3 (ipykernel)",
   "language": "python",
   "name": "python3"
  },
  "language_info": {
   "codemirror_mode": {
    "name": "ipython",
    "version": 3
   },
   "file_extension": ".py",
   "mimetype": "text/x-python",
   "name": "python",
   "nbconvert_exporter": "python",
   "pygments_lexer": "ipython3",
   "version": "3.9.6"
  }
 },
 "nbformat": 4,
 "nbformat_minor": 5
}
