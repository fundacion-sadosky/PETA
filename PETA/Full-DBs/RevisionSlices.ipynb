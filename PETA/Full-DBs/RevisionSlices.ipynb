{
 "cells": [
  {
   "cell_type": "code",
   "execution_count": 1,
   "id": "c8c6625b",
   "metadata": {},
   "outputs": [],
   "source": [
    "import glob\n",
    "import os\n",
    "import json\n",
    "import numpy as np"
   ]
  },
  {
   "cell_type": "code",
   "execution_count": 12,
   "id": "be44d911",
   "metadata": {},
   "outputs": [],
   "source": [
    "def findJumps(deleteIndices):\n",
    "    jumps = []\n",
    "    for i in range(0, len(deleteIndices) -1 ): \n",
    "        if deleteIndices[i] + 1 != deleteIndices[i + 1]:\n",
    "            jumps.append([deleteIndices[i], deleteIndices[i + 1]])\n",
    "    return jumps"
   ]
  },
  {
   "cell_type": "code",
   "execution_count": 17,
   "id": "2481d745",
   "metadata": {},
   "outputs": [],
   "source": [
    "def describeJumpList(jumpList):\n",
    "    a = np.array(jumpsList)\n",
    "    primerBorde = a[:, 0]\n",
    "    print(\"Primer borde mean/std:\")\n",
    "    print(primerBorde.mean(), primerBorde.std())\n",
    "    ultimoBorde = a[:, 1]\n",
    "    print(\"Último borde mean/std:\")\n",
    "    print(ultimoBorde.mean(), ultimoBorde.std())\n",
    "    altura = ultimoBorde - primerBorde - 1\n",
    "    print(\"Altura mean/std\")\n",
    "    print(altura.mean(), altura.std())\n",
    "    print(\"Primer borde max:\")\n",
    "    print(primerBorde.max())\n",
    "    print(\"Último borde min: \")\n",
    "    print(ultimoBorde.min())"
   ]
  },
  {
   "cell_type": "markdown",
   "id": "7e079f5d",
   "metadata": {},
   "source": [
    "# ADNI"
   ]
  },
  {
   "cell_type": "code",
   "execution_count": 78,
   "id": "027687fb",
   "metadata": {},
   "outputs": [],
   "source": [
    "inputFolder = \"/Users/hugom/Tesis/Imagenes/ADNI-MUESTRA-FULL-stripped-preprocessed3\""
   ]
  },
  {
   "cell_type": "code",
   "execution_count": 80,
   "id": "f26509bd",
   "metadata": {},
   "outputs": [],
   "source": [
    "files = glob.glob(inputFolder + '/**/metadata.json', recursive=True)"
   ]
  },
  {
   "cell_type": "code",
   "execution_count": 81,
   "id": "78eaafb1",
   "metadata": {},
   "outputs": [
    {
     "data": {
      "text/plain": [
       "3762"
      ]
     },
     "execution_count": 81,
     "metadata": {},
     "output_type": "execute_result"
    }
   ],
   "source": [
    "len(files)"
   ]
  },
  {
   "cell_type": "code",
   "execution_count": 82,
   "id": "c86156c2",
   "metadata": {},
   "outputs": [
    {
     "name": "stdout",
     "output_type": "stream",
     "text": [
      "[0, 1, 2, 3, 4, 5, 6, 7, 8, 9, 10, 11, 12, 13, 14, 15, 60, 61, 62, 63, 64, 65, 66, 67, 68, 69, 70, 71, 72, 73, 74, 75, 76]\n",
      "[(15, 60)]\n"
     ]
    }
   ],
   "source": [
    "file = open(files[0])\n",
    "metadata = json.load(file)\n",
    "deleteIndices = metadata['deleteIndices']\n",
    "print(deleteIndices)\n",
    "jumps = []\n",
    "for i in range(0, len(deleteIndices) -1 ): \n",
    "    if deleteIndices[i] + 1 != deleteIndices[i + 1]:\n",
    "        jumps.append((deleteIndices[i], deleteIndices[i + 1]))\n",
    "print(jumps)\n",
    "file.close()"
   ]
  },
  {
   "cell_type": "code",
   "execution_count": 84,
   "id": "8a063a45",
   "metadata": {},
   "outputs": [
    {
     "name": "stdout",
     "output_type": "stream",
     "text": [
      "Files with more than one jump\n",
      "0\n"
     ]
    }
   ],
   "source": [
    "filesWithMoreThanOneJump = 0\n",
    "jumpsList = []\n",
    "for filename in files:\n",
    "    file = open(filename)\n",
    "    metadata = json.load(file)\n",
    "    deleteIndices = metadata['deleteIndices']\n",
    "    jumps = findJumps(deleteIndices)\n",
    "    if len(jumps) > 1:\n",
    "        filesWithMoreThanOneJump += 1\n",
    "        print(\"More than one jump: \", filename)\n",
    "    jumpsList.append(jumps[0])\n",
    "    file.close()\n",
    "print(\"Files with more than one jump\")\n",
    "print(filesWithMoreThanOneJump)"
   ]
  },
  {
   "cell_type": "code",
   "execution_count": 20,
   "id": "11f34405",
   "metadata": {},
   "outputs": [
    {
     "name": "stdout",
     "output_type": "stream",
     "text": [
      "Primer borde mean/std:\n",
      "14.545454545454545 1.3945979998792548\n",
      "Último borde mean/std:\n",
      "50.09090909090909 0.5142594772265799\n",
      "Altura mean/std\n",
      "34.54545454545455 1.6346792677892337\n",
      "Primer borde max:\n",
      "18\n",
      "Último borde min: \n",
      "49\n"
     ]
    }
   ],
   "source": [
    "describeJumpList(jumpsList)"
   ]
  },
  {
   "cell_type": "markdown",
   "id": "1998c296",
   "metadata": {},
   "source": [
    "# Fleni"
   ]
  },
  {
   "cell_type": "code",
   "execution_count": 6,
   "id": "7550cfdc",
   "metadata": {},
   "outputs": [],
   "source": [
    "inputFolder = \"/Users/hugom/Tesis/Imagenes/fleni-stripped-preprocessed3\""
   ]
  },
  {
   "cell_type": "code",
   "execution_count": 7,
   "id": "02cc4a1b",
   "metadata": {},
   "outputs": [],
   "source": [
    "files = glob.glob(inputFolder + '/**/metadata.json', recursive=True)"
   ]
  },
  {
   "cell_type": "code",
   "execution_count": 8,
   "id": "d5a2014d",
   "metadata": {},
   "outputs": [
    {
     "data": {
      "text/plain": [
       "108"
      ]
     },
     "execution_count": 8,
     "metadata": {},
     "output_type": "execute_result"
    }
   ],
   "source": [
    "len(files)"
   ]
  },
  {
   "cell_type": "code",
   "execution_count": 11,
   "id": "e9c75050",
   "metadata": {},
   "outputs": [
    {
     "name": "stdout",
     "output_type": "stream",
     "text": [
      "Files with more than one jump\n",
      "0\n"
     ]
    }
   ],
   "source": [
    "filesWithMoreThanOneJump = 0\n",
    "jumpsList = []\n",
    "for filename in files:\n",
    "    file = open(filename)\n",
    "    metadata = json.load(file)\n",
    "    deleteIndices = metadata['deleteIndices']\n",
    "    jumps = findJumps(deleteIndices)\n",
    "    if len(jumps) > 1:\n",
    "        filesWithMoreThanOneJump += 1\n",
    "        print(\"More than one jump: \", filename)\n",
    "    jumpsList.append(jumps[0])\n",
    "    file.close()\n",
    "print(\"Files with more than one jump\")\n",
    "print(filesWithMoreThanOneJump)"
   ]
  },
  {
   "cell_type": "code",
   "execution_count": 13,
   "id": "99736419",
   "metadata": {},
   "outputs": [],
   "source": [
    "describeJumpList(jumpsList)"
   ]
  },
  {
   "cell_type": "markdown",
   "id": "b4d66804",
   "metadata": {},
   "source": [
    "# EBRAINS"
   ]
  },
  {
   "cell_type": "code",
   "execution_count": 8,
   "id": "438f4770",
   "metadata": {},
   "outputs": [],
   "source": [
    "inputFolder = \"/Users/hugom/PET-IA/Full-DBs/ebrains/data_nifti_stripped/hc_images_preprocessed\""
   ]
  },
  {
   "cell_type": "code",
   "execution_count": 9,
   "id": "8f66c8d0",
   "metadata": {},
   "outputs": [],
   "source": [
    "files = glob.glob(inputFolder + '/**/metadata.json', recursive=True)"
   ]
  },
  {
   "cell_type": "code",
   "execution_count": 10,
   "id": "b8d5869e",
   "metadata": {},
   "outputs": [
    {
     "data": {
      "text/plain": [
       "33"
      ]
     },
     "execution_count": 10,
     "metadata": {},
     "output_type": "execute_result"
    }
   ],
   "source": [
    "len(files)"
   ]
  },
  {
   "cell_type": "code",
   "execution_count": 13,
   "id": "b792ec0c",
   "metadata": {},
   "outputs": [
    {
     "name": "stdout",
     "output_type": "stream",
     "text": [
      "Files with more than one jump\n",
      "0\n"
     ]
    }
   ],
   "source": [
    "filesWithMoreThanOneJump = 0\n",
    "jumpsList = []\n",
    "for filename in files:\n",
    "    file = open(filename)\n",
    "    metadata = json.load(file)\n",
    "    deleteIndices = metadata['deleteIndices']\n",
    "    jumps = findJumps(deleteIndices)\n",
    "    if len(jumps) > 1:\n",
    "        filesWithMoreThanOneJump += 1\n",
    "        print(\"More than one jump: \", filename)\n",
    "    jumpsList.append(jumps[0])\n",
    "    file.close()\n",
    "print(\"Files with more than one jump\")\n",
    "print(filesWithMoreThanOneJump)"
   ]
  },
  {
   "cell_type": "code",
   "execution_count": 19,
   "id": "5359f1d2",
   "metadata": {},
   "outputs": [
    {
     "name": "stdout",
     "output_type": "stream",
     "text": [
      "Primer borde mean/std:\n",
      "14.545454545454545 1.3945979998792548\n",
      "Último borde mean/std:\n",
      "50.09090909090909 0.5142594772265799\n",
      "Altura mean/std\n",
      "34.54545454545455 1.6346792677892337\n",
      "Primer borde max:\n",
      "18\n",
      "Último borde min: \n",
      "49\n"
     ]
    }
   ],
   "source": [
    "describeJumpList(jumpsList)"
   ]
  },
  {
   "cell_type": "markdown",
   "id": "efcb2e5b",
   "metadata": {},
   "source": [
    "# Chinese"
   ]
  },
  {
   "cell_type": "code",
   "execution_count": 23,
   "id": "f545a15b",
   "metadata": {},
   "outputs": [],
   "source": [
    "inputFolder = \"/Users/hugom/Tesis/Imagenes/chinese-preprocessed\"\n",
    "files = glob.glob(inputFolder + '/**/metadata.json', recursive=True)"
   ]
  },
  {
   "cell_type": "code",
   "execution_count": 24,
   "id": "a4b0e913",
   "metadata": {},
   "outputs": [
    {
     "data": {
      "text/plain": [
       "116"
      ]
     },
     "execution_count": 24,
     "metadata": {},
     "output_type": "execute_result"
    }
   ],
   "source": [
    "len(files)"
   ]
  },
  {
   "cell_type": "code",
   "execution_count": 25,
   "id": "4c5a4f95",
   "metadata": {},
   "outputs": [
    {
     "name": "stdout",
     "output_type": "stream",
     "text": [
      "Files with more than one jump\n",
      "0\n"
     ]
    }
   ],
   "source": [
    "filesWithMoreThanOneJump = 0\n",
    "jumpsList = []\n",
    "for filename in files:\n",
    "    file = open(filename)\n",
    "    metadata = json.load(file)\n",
    "    deleteIndices = metadata['deleteIndices']\n",
    "    jumps = findJumps(deleteIndices)\n",
    "    if len(jumps) > 1:\n",
    "        filesWithMoreThanOneJump += 1\n",
    "        print(\"More than one jump: \", filename)\n",
    "    jumpsList.append(jumps[0])\n",
    "    file.close()\n",
    "print(\"Files with more than one jump\")\n",
    "print(filesWithMoreThanOneJump)"
   ]
  },
  {
   "cell_type": "code",
   "execution_count": 26,
   "id": "af8a531b",
   "metadata": {},
   "outputs": [
    {
     "name": "stdout",
     "output_type": "stream",
     "text": [
      "Primer borde mean/std:\n",
      "4.741379310344827 0.9202762858677599\n",
      "Último borde mean/std:\n",
      "70.87931034482759 0.55948209446855\n",
      "Altura mean/std\n",
      "65.13793103448276 1.188280064835364\n",
      "Primer borde max:\n",
      "12\n",
      "Último borde min: \n",
      "70\n"
     ]
    }
   ],
   "source": [
    "describeJumpList(jumpsList)"
   ]
  },
  {
   "cell_type": "code",
   "execution_count": null,
   "id": "efdda7d0",
   "metadata": {},
   "outputs": [],
   "source": []
  }
 ],
 "metadata": {
  "kernelspec": {
   "display_name": "Python 3 (ipykernel)",
   "language": "python",
   "name": "python3"
  },
  "language_info": {
   "codemirror_mode": {
    "name": "ipython",
    "version": 3
   },
   "file_extension": ".py",
   "mimetype": "text/x-python",
   "name": "python",
   "nbconvert_exporter": "python",
   "pygments_lexer": "ipython3",
   "version": "3.9.6"
  }
 },
 "nbformat": 4,
 "nbformat_minor": 5
}
