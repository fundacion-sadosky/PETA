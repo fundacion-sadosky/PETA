{
 "cells": [
  {
   "cell_type": "markdown",
   "id": "1ef27715",
   "metadata": {},
   "source": [
    "Para depurar el archivo match.csv de Fleni"
   ]
  },
  {
   "cell_type": "code",
   "execution_count": 58,
   "id": "6b4558c7",
   "metadata": {},
   "outputs": [],
   "source": [
    "petIds = [\n",
    "\"01959b9f-793181a7-043f0671-0c14bc59-edf43b59\",\n",
    "\"4d837680-a00ddaa5-11e47c28-5756fd5a-8eb63ca0\",\n",
    "\"9b53a850-50a65b98-373f6fe7-5906ed09-a449a43c\",\n",
    "\"c228c496-01ac9239-b1218004-d7d296e5-9c9c1248\",\n",
    "\"026fadeb-4ac5192a-7baa727a-fef84e8b-f58748ec\",\n",
    "\"4f9d582a-c992d94b-6418c65a-8866c929-7a52d395\",\n",
    "\"9f16d771-5024fab1-0e90eed4-8ac4801f-3b21820b\",\n",
    "\"c27f0f13-eddbc624-7692d026-310587e3-15a7b566\",\n",
    "\"054cb8e0-98ae6171-2a227a59-850dc384-a7b06c85\",\n",
    "\"51384f71-9b488f68-cad638e8-3f8995e6-5f05ddfe\",\n",
    "\"9f7ac9ec-7345afca-7a43c123-cc2020f5-a5995158\",\n",
    "\"c5979410-858c9b88-af0b9c3f-16a381e0-09b79883\",\n",
    "\"09efaaf6-0cd6e473-a1c9c639-93a6c720-00fe0276\",\n",
    "\"523810f6-d7707ff7-8c08b8b5-4d71b7af-e5698745\",\n",
    "\"9fa9589f-30f1da5a-c1441402-c97efd2e-c5af6926\",\n",
    "\"c96cbd4d-f9cfda98-8bd71bc1-e26e87e3-e25c6d50\",\n",
    "\"0b010b72-4a40a743-412c507d-7c75f235-6e6b3ffb\",\n",
    "\"5baf1e30-2c99cf5c-23d37591-1e28ab2f-5ad93fdd\",\n",
    "\"caa1ef27-21bb54d0-05caa39b-0fce0ae2-4218d1cc\",\n",
    "\"0c38335c-0fcd892c-e263357b-8e588291-a020996a\",\n",
    "\"5e28bc57-30e1abd2-a0a7d856-4fc1af1e-5bee10d2\",\n",
    "\"a022aee6-99058b0e-ae971c29-fbe6dfac-a1c44908\",\n",
    "\"ccbec475-d4eccc2e-e8064eed-984c0258-e4d5629f\",\n",
    "\"11cdcba6-7264db3c-7f9eae70-2b1d71d3-6a13471b\",\n",
    "\"625ddb3f-6b6adb4a-0653c1b1-1e566cc8-3fe2fab5\",\n",
    "\"a14fa0ab-465b4285-3f81f081-ba66307f-c03915ad\",\n",
    "\"ce16dfd1-207d20a3-056088eb-43bf5d75-232b1723\",\n",
    "\"14f7ad00-db94afcd-efd04f79-644ca0e5-d79473ae\",\n",
    "\"6559a881-0fc99b85-c04b11f4-d7843d40-6d628caa\",\n",
    "\"a248637a-74b50589-b5ec9433-91d05f99-2cb3100d\",\n",
    "\"d0fcd3bf-a0f2ef64-2f7931ec-28e68412-c0e2a63a\",\n",
    "\"1541a4b6-f7f308c1-9e017a0a-d247bc16-e3117067\",\n",
    "\"65c3a537-c34284b3-a83d7952-02163561-16114f0c\",\n",
    "\"a2e304d1-2514af76-ecc94dba-b02dc2f0-dab26cfe\",\n",
    "\"d1bd3533-83d0ac7b-ffecb960-b7f6d96a-75cbbca7\",\n",
    "\"17bfd6a0-fd393fa6-4d77103f-3e7a0de4-b5a9160e\",\n",
    "\"65e017ae-005b86a3-58c71129-aedb2468-791b2d59\",\n",
    "\"a33eb1ba-4a5092e1-69d9b29a-2e3a10a2-91914a92\",\n",
    "\"d7e10c4e-c26f26eb-346215ed-04063bb2-c943913c\",\n",
    "\"1d151a46-5b460a4e-31e78408-29435909-204d12e0\",\n",
    "\"699a54ce-60d2b6d0-a986e38b-af4d2f11-eebbf8ca\",\n",
    "\"a375f4ea-704630f3-a92d0bfb-357131b1-8c2b208f\",\n",
    "\"d89acb49-fdcbf1f7-9c244597-b0030755-56b15c45\",\n",
    "\"1ecd8590-a4b58359-30292d24-bc850d05-39d0d4e9\",\n",
    "\"6b7e72b1-7ba09544-faf79346-091fd381-88d09293\",\n",
    "\"a4dc5f48-55b6fe7b-95df4cc2-d1a9765f-acf114ce\",\n",
    "\"d922954c-3cd04b93-4c323d9e-9f5cec26-a9b4fbbb\",\n",
    "\"22e42fbe-2f5e8375-337266d7-9610b183-a923614e\",\n",
    "\"75b359a3-a3d6abb3-757ad256-4e6b14d5-9d54481a\",\n",
    "\"a61f65bd-153b85c6-10b27604-ec7125c5-b800a82c\",\n",
    "\"dc831315-20b016b1-4538d3be-35c7f6c0-46e28013\",\n",
    "\"24143ad7-864e4cae-625db970-afaeadc4-10038ed6\",\n",
    "\"75b40d93-faad895a-fa585631-53039bac-60bfc37a\",\n",
    "\"ab1703b1-54a114b0-cbecf273-b0800da7-07650005\",\n",
    "\"dcd3e014-d3b8938e-27f06f01-8c09b200-f998cd8c\",\n",
    "\"24fa2c1d-1218de8c-c96d25cb-28e77c7a-89e0c0a4\",\n",
    "\"7610266b-ca235fd1-d02b147f-e658c7e4-ac52c728\",\n",
    "\"abf8491a-d1c051fa-4a82b92a-454c7898-a8b5f8d1\",\n",
    "\"de15331b-b359e2ea-1651bb26-08598a5a-bbb57b94\",\n",
    "\"32bad7a9-d205e9c0-c68eec0d-5c4ca07c-839e4dae\",\n",
    "\"7861b0e1-238cb043-5de0d771-e9ef9375-25de44c0\",\n",
    "\"ac6d0a1e-e9d1ac88-1b2feb1c-21990129-b2738ead\",\n",
    "\"de73b3c8-caff4051-ac0df0b6-fe691283-8d5a2f43\",\n",
    "\"35caf841-9234028d-8e1cfb4f-20656a54-47757216\",\n",
    "\"7f5b843b-8eadae81-bba6310f-eb31600f-9e1d3de1\",\n",
    "\"acd58bab-a8c6798a-835ecbf5-113c00b3-d7f616d8\",\n",
    "\"df117812-35008a37-9a600e9a-3507edf8-f0389b7b\",\n",
    "\"3656419d-1523529f-f080cc08-ac5fbbf1-441422c8\",\n",
    "\"835bba26-3879ebbf-5e9d4e02-cdef07a1-d9a245ca\",\n",
    "\"ad80ea14-f27dad6f-3e12c1f0-2993bcc3-4cb99a80\",\n",
    "\"e5a4f8b8-f6ad7d45-52b4b6e8-f3ebf6cd-c8e8f25b\",\n",
    "\"38012514-8e109377-41968e0f-7ec1fe4f-56427731\",\n",
    "\"83f4bb05-3997aa87-b05aa201-c4dc5c0f-77825f68\",\n",
    "\"ae4130ac-1c57b6ba-1087205e-75147ea8-2827e002\",\n",
    "\"e785e1ae-4cc6f186-7984308a-d879a1f0-bcd90f94\",\n",
    "\"38471673-ac5b7bce-f377e18a-2bce64ba-15a7f769\",\n",
    "\"849fbca1-680e7283-1343314b-103301e5-20ff587a\",\n",
    "\"b074b96f-18d5698c-9308ca22-8b7652aa-50445d55\",\n",
    "\"f5fc9431-ed4ebc72-6203d97a-e788b88d-874bf87a\",\n",
    "\"38bb3ae3-74bc478c-bfabf1d2-09e41e1b-7c75ff40\",\n",
    "\"907e763c-db258e0a-25f1915d-5f953fc1-ba5a860a\",\n",
    "\"b172e084-61708876-5cb503da-b65f4f85-e1c4e110\",\n",
    "\"f72c5199-63dea0bc-4c8c9e72-01fc6d16-f3d7a47a\",\n",
    "\"3eb85eee-8babc6d8-8b32a24e-4603bbcf-a51a9608\",\n",
    "\"942df09d-3b0f84bc-20dea58c-935afc23-b017c4d9\",\n",
    "\"b26289a2-3838cb53-a980dfc6-933f6e75-d4dfbf0d\",\n",
    "\"f88b6879-a25768a1-d7e96b40-9d23478a-f413069d\",\n",
    "\"3f3c0b5a-e6630b26-53079866-423b2546-b61f03e4\",\n",
    "\"969ae82d-89116801-db7c6c82-16bcfe85-c48ed596\",\n",
    "\"b45c1777-0cda6fa1-a786ce73-596a699d-dd2c51e4\",\n",
    "\"f8e1c7b6-34ccdd88-b9107b57-63d42c8b-f0c49671\",\n",
    "\"3ff386f7-356e5430-da77c391-0657d688-669b2916\",\n",
    "\"98355367-62a66f43-32d8ac2b-e9e9a30c-747279ee\",\n",
    "\"b87479c8-641ec909-8b8effc1-9b58a18a-573f8414\",\n",
    "\"faf3bc8b-bca09175-6489651a-14790247-226512a2\",\n",
    "\"406a25ad-76aea02a-ec230091-a3635f25-2352171a\",\n",
    "\"98730765-fc3b1cbd-d83ae673-bb6a2dc1-54206f15\",\n",
    "\"ba80806d-45e74841-dae20fa7-8fd5f798-cde36d41\",\n",
    "\"fd009930-e55b2c30-dbcbe977-02ed9fa6-d254512b\",\n",
    "\"427bf2d0-eed4925a-8a094d07-93f5e700-8da3bc5b\",\n",
    "\"98e82e34-df3aa054-551be0aa-6ff6d7c9-6ce792a9\",\n",
    "\"bf0ba0b6-ca5613f3-e69f2103-27c7500a-b7a2a8c9\",\n",
    "\"47b78623-8a9948f9-ad801210-dc3262e3-d2f9343e\",\n",
    "\"994b8a82-4de35b20-d0bce23e-62b32e64-a7c09811\",\n",
    "\"c19aae90-3931bfc8-9bc8fbfc-3b6bb72c-d78aba7b\",\n",
    "\"4c12554b-2b6cd154-a9ca0f15-1ae27b9f-ff84f183\",\n",
    "\"99f955dc-0188be2f-5b206466-cb05b629-6583c4ba\",\n",
    "\"c1bdba82-99a59b4e-a4fcf5da-78832d48-e8a4bbd8\"\n",
    "]\n",
    "inputFile = \"/Users/hugom/PET-IA/Full-DBs/fleni-base-myrian/match.csv\"\n",
    "outputFile = \"/Users/hugom/PET-IA/Sets/fleni-myriam-curated.csv\""
   ]
  },
  {
   "cell_type": "code",
   "execution_count": 59,
   "id": "c1ecd81a",
   "metadata": {},
   "outputs": [],
   "source": [
    "import pandas as pd"
   ]
  },
  {
   "cell_type": "code",
   "execution_count": 60,
   "id": "7b24d5a5",
   "metadata": {},
   "outputs": [],
   "source": [
    "csv = pd.read_csv(inputFile)"
   ]
  },
  {
   "cell_type": "code",
   "execution_count": 61,
   "id": "df44adcb",
   "metadata": {},
   "outputs": [],
   "source": [
    "csv2 = csv[csv['pet_id'].isin(petIds)]"
   ]
  },
  {
   "cell_type": "code",
   "execution_count": 62,
   "id": "96790076",
   "metadata": {},
   "outputs": [
    {
     "data": {
      "text/plain": [
       "115"
      ]
     },
     "execution_count": 62,
     "metadata": {},
     "output_type": "execute_result"
    }
   ],
   "source": [
    "len(csv2)"
   ]
  },
  {
   "cell_type": "code",
   "execution_count": 63,
   "id": "49096d6d",
   "metadata": {},
   "outputs": [
    {
     "data": {
      "text/plain": [
       "115"
      ]
     },
     "execution_count": 63,
     "metadata": {},
     "output_type": "execute_result"
    }
   ],
   "source": [
    "len(csv2['pet_id'])"
   ]
  },
  {
   "cell_type": "code",
   "execution_count": 64,
   "id": "57239ab1",
   "metadata": {},
   "outputs": [
    {
     "data": {
      "text/plain": [
       "108"
      ]
     },
     "execution_count": 64,
     "metadata": {},
     "output_type": "execute_result"
    }
   ],
   "source": [
    "len(csv2['pet_id'].unique())"
   ]
  },
  {
   "cell_type": "markdown",
   "id": "cff04381",
   "metadata": {},
   "source": [
    "Hay duplicados..."
   ]
  },
  {
   "cell_type": "code",
   "execution_count": 65,
   "id": "b74408d7",
   "metadata": {},
   "outputs": [
    {
     "data": {
      "text/plain": [
       "array([ 1.,  0., nan])"
      ]
     },
     "execution_count": 65,
     "metadata": {},
     "output_type": "execute_result"
    }
   ],
   "source": [
    "csv2['diag'].unique()"
   ]
  },
  {
   "cell_type": "code",
   "execution_count": 66,
   "id": "fc6de700",
   "metadata": {},
   "outputs": [],
   "source": [
    "csv3 = csv2[(csv2['diag'] == 1.0) | (csv2['diag'] == 0.0)]"
   ]
  },
  {
   "cell_type": "code",
   "execution_count": 67,
   "id": "152f2d4a",
   "metadata": {},
   "outputs": [
    {
     "data": {
      "text/plain": [
       "112"
      ]
     },
     "execution_count": 67,
     "metadata": {},
     "output_type": "execute_result"
    }
   ],
   "source": [
    "len(csv3)"
   ]
  },
  {
   "cell_type": "code",
   "execution_count": 68,
   "id": "e7fa3ad6",
   "metadata": {},
   "outputs": [
    {
     "data": {
      "text/plain": [
       "array([1., 0.])"
      ]
     },
     "execution_count": 68,
     "metadata": {},
     "output_type": "execute_result"
    }
   ],
   "source": [
    "csv3['diag'].unique()"
   ]
  },
  {
   "cell_type": "code",
   "execution_count": 69,
   "id": "d8ce27bb",
   "metadata": {},
   "outputs": [
    {
     "data": {
      "text/plain": [
       "112"
      ]
     },
     "execution_count": 69,
     "metadata": {},
     "output_type": "execute_result"
    }
   ],
   "source": [
    "len(csv3)"
   ]
  },
  {
   "cell_type": "code",
   "execution_count": 70,
   "id": "1a3669d6",
   "metadata": {},
   "outputs": [
    {
     "data": {
      "text/plain": [
       "105"
      ]
     },
     "execution_count": 70,
     "metadata": {},
     "output_type": "execute_result"
    }
   ],
   "source": [
    "len(csv3['pet_id'].unique())"
   ]
  },
  {
   "cell_type": "markdown",
   "id": "45d5fa99",
   "metadata": {},
   "source": [
    "Hay duplicados. Los que tengan un mismo diagnóstico solo hace falta eliminar uno pero los que tengan distinto diagnóstico deben eliminarse los dos"
   ]
  },
  {
   "cell_type": "code",
   "execution_count": 71,
   "id": "fbb8c87f",
   "metadata": {},
   "outputs": [
    {
     "data": {
      "text/html": [
       "<div>\n",
       "<style scoped>\n",
       "    .dataframe tbody tr th:only-of-type {\n",
       "        vertical-align: middle;\n",
       "    }\n",
       "\n",
       "    .dataframe tbody tr th {\n",
       "        vertical-align: top;\n",
       "    }\n",
       "\n",
       "    .dataframe thead th {\n",
       "        text-align: right;\n",
       "    }\n",
       "</style>\n",
       "<table border=\"1\" class=\"dataframe\">\n",
       "  <thead>\n",
       "    <tr style=\"text-align: right;\">\n",
       "      <th></th>\n",
       "      <th>pet_id</th>\n",
       "      <th>Name</th>\n",
       "      <th>Surname</th>\n",
       "      <th>diag</th>\n",
       "    </tr>\n",
       "  </thead>\n",
       "  <tbody>\n",
       "    <tr>\n",
       "      <th>20</th>\n",
       "      <td>38471673-ac5b7bce-f377e18a-2bce64ba-15a7f769</td>\n",
       "      <td>HEBE MARIA</td>\n",
       "      <td>RODRIGUEZ</td>\n",
       "      <td>1.0</td>\n",
       "    </tr>\n",
       "    <tr>\n",
       "      <th>104</th>\n",
       "      <td>38471673-ac5b7bce-f377e18a-2bce64ba-15a7f769</td>\n",
       "      <td>OSCAR ESTANISLAO</td>\n",
       "      <td>RODRIGUEZ</td>\n",
       "      <td>1.0</td>\n",
       "    </tr>\n",
       "    <tr>\n",
       "      <th>41</th>\n",
       "      <td>7610266b-ca235fd1-d02b147f-e658c7e4-ac52c728</td>\n",
       "      <td>GENOVEVA  ANGELICA</td>\n",
       "      <td>ALVAREZ</td>\n",
       "      <td>1.0</td>\n",
       "    </tr>\n",
       "    <tr>\n",
       "      <th>73</th>\n",
       "      <td>7610266b-ca235fd1-d02b147f-e658c7e4-ac52c728</td>\n",
       "      <td>ALBERTO MANUEL</td>\n",
       "      <td>ALVAREZ GAIANI</td>\n",
       "      <td>1.0</td>\n",
       "    </tr>\n",
       "    <tr>\n",
       "      <th>176</th>\n",
       "      <td>7610266b-ca235fd1-d02b147f-e658c7e4-ac52c728</td>\n",
       "      <td>OSCAR GUILLERMO</td>\n",
       "      <td>ALVAREZ</td>\n",
       "      <td>0.0</td>\n",
       "    </tr>\n",
       "    <tr>\n",
       "      <th>6</th>\n",
       "      <td>ad80ea14-f27dad6f-3e12c1f0-2993bcc3-4cb99a80</td>\n",
       "      <td>ALBERTO RAMON</td>\n",
       "      <td>LOPEZ</td>\n",
       "      <td>0.0</td>\n",
       "    </tr>\n",
       "    <tr>\n",
       "      <th>134</th>\n",
       "      <td>ad80ea14-f27dad6f-3e12c1f0-2993bcc3-4cb99a80</td>\n",
       "      <td>SALUSTIANA</td>\n",
       "      <td>LOPEZ</td>\n",
       "      <td>1.0</td>\n",
       "    </tr>\n",
       "    <tr>\n",
       "      <th>172</th>\n",
       "      <td>ad80ea14-f27dad6f-3e12c1f0-2993bcc3-4cb99a80</td>\n",
       "      <td>ELENA</td>\n",
       "      <td>LOPEZ</td>\n",
       "      <td>1.0</td>\n",
       "    </tr>\n",
       "    <tr>\n",
       "      <th>77</th>\n",
       "      <td>caa1ef27-21bb54d0-05caa39b-0fce0ae2-4218d1cc</td>\n",
       "      <td>RAUL ALFREDO</td>\n",
       "      <td>VILLANUEVA</td>\n",
       "      <td>1.0</td>\n",
       "    </tr>\n",
       "    <tr>\n",
       "      <th>173</th>\n",
       "      <td>caa1ef27-21bb54d0-05caa39b-0fce0ae2-4218d1cc</td>\n",
       "      <td>RICARDO LUIS</td>\n",
       "      <td>VILLANUEVA</td>\n",
       "      <td>0.0</td>\n",
       "    </tr>\n",
       "    <tr>\n",
       "      <th>38</th>\n",
       "      <td>d922954c-3cd04b93-4c323d9e-9f5cec26-a9b4fbbb</td>\n",
       "      <td>JORGE</td>\n",
       "      <td>GARCIA</td>\n",
       "      <td>0.0</td>\n",
       "    </tr>\n",
       "    <tr>\n",
       "      <th>113</th>\n",
       "      <td>d922954c-3cd04b93-4c323d9e-9f5cec26-a9b4fbbb</td>\n",
       "      <td>ROBERTO</td>\n",
       "      <td>GARCIA</td>\n",
       "      <td>1.0</td>\n",
       "    </tr>\n",
       "  </tbody>\n",
       "</table>\n",
       "</div>"
      ],
      "text/plain": [
       "                                           pet_id                Name  \\\n",
       "20   38471673-ac5b7bce-f377e18a-2bce64ba-15a7f769          HEBE MARIA   \n",
       "104  38471673-ac5b7bce-f377e18a-2bce64ba-15a7f769    OSCAR ESTANISLAO   \n",
       "41   7610266b-ca235fd1-d02b147f-e658c7e4-ac52c728  GENOVEVA  ANGELICA   \n",
       "73   7610266b-ca235fd1-d02b147f-e658c7e4-ac52c728      ALBERTO MANUEL   \n",
       "176  7610266b-ca235fd1-d02b147f-e658c7e4-ac52c728     OSCAR GUILLERMO   \n",
       "6    ad80ea14-f27dad6f-3e12c1f0-2993bcc3-4cb99a80       ALBERTO RAMON   \n",
       "134  ad80ea14-f27dad6f-3e12c1f0-2993bcc3-4cb99a80          SALUSTIANA   \n",
       "172  ad80ea14-f27dad6f-3e12c1f0-2993bcc3-4cb99a80               ELENA   \n",
       "77   caa1ef27-21bb54d0-05caa39b-0fce0ae2-4218d1cc        RAUL ALFREDO   \n",
       "173  caa1ef27-21bb54d0-05caa39b-0fce0ae2-4218d1cc        RICARDO LUIS   \n",
       "38   d922954c-3cd04b93-4c323d9e-9f5cec26-a9b4fbbb               JORGE   \n",
       "113  d922954c-3cd04b93-4c323d9e-9f5cec26-a9b4fbbb             ROBERTO   \n",
       "\n",
       "            Surname  diag  \n",
       "20        RODRIGUEZ   1.0  \n",
       "104       RODRIGUEZ   1.0  \n",
       "41          ALVAREZ   1.0  \n",
       "73   ALVAREZ GAIANI   1.0  \n",
       "176         ALVAREZ   0.0  \n",
       "6             LOPEZ   0.0  \n",
       "134           LOPEZ   1.0  \n",
       "172           LOPEZ   1.0  \n",
       "77       VILLANUEVA   1.0  \n",
       "173      VILLANUEVA   0.0  \n",
       "38           GARCIA   0.0  \n",
       "113          GARCIA   1.0  "
      ]
     },
     "execution_count": 71,
     "metadata": {},
     "output_type": "execute_result"
    }
   ],
   "source": [
    "duplicate_rows = csv3[csv3.duplicated('pet_id', keep=False)]\n",
    "duplicate_rows[['pet_id', 'Name', 'Surname', 'diag']].sort_values(by=['pet_id'])"
   ]
  },
  {
   "cell_type": "markdown",
   "id": "cc5a57f3",
   "metadata": {},
   "source": [
    "Borramos todos menos el de arriba (ya que el diagnóstico coincide en esos)"
   ]
  },
  {
   "cell_type": "code",
   "execution_count": 72,
   "id": "01a83617",
   "metadata": {},
   "outputs": [
    {
     "name": "stderr",
     "output_type": "stream",
     "text": [
      "/var/folders/hy/rbnyh5md5yvc72ynxb0c2cz40000gn/T/ipykernel_35444/2918181423.py:1: SettingWithCopyWarning: \n",
      "A value is trying to be set on a copy of a slice from a DataFrame\n",
      "\n",
      "See the caveats in the documentation: https://pandas.pydata.org/pandas-docs/stable/user_guide/indexing.html#returning-a-view-versus-a-copy\n",
      "  csv3.drop([20, 104, 41, 73, 176, 6, 134, 172, 77, 173, 38, 113], axis=0, inplace=True)\n"
     ]
    }
   ],
   "source": [
    "csv3.drop([20, 104, 41, 73, 176, 6, 134, 172, 77, 173, 38, 113], axis=0, inplace=True)"
   ]
  },
  {
   "cell_type": "code",
   "execution_count": 73,
   "id": "d9922756",
   "metadata": {},
   "outputs": [
    {
     "data": {
      "text/html": [
       "<div>\n",
       "<style scoped>\n",
       "    .dataframe tbody tr th:only-of-type {\n",
       "        vertical-align: middle;\n",
       "    }\n",
       "\n",
       "    .dataframe tbody tr th {\n",
       "        vertical-align: top;\n",
       "    }\n",
       "\n",
       "    .dataframe thead th {\n",
       "        text-align: right;\n",
       "    }\n",
       "</style>\n",
       "<table border=\"1\" class=\"dataframe\">\n",
       "  <thead>\n",
       "    <tr style=\"text-align: right;\">\n",
       "      <th></th>\n",
       "      <th>pet_id</th>\n",
       "      <th>Name</th>\n",
       "      <th>Surname</th>\n",
       "      <th>diag</th>\n",
       "    </tr>\n",
       "  </thead>\n",
       "  <tbody>\n",
       "  </tbody>\n",
       "</table>\n",
       "</div>"
      ],
      "text/plain": [
       "Empty DataFrame\n",
       "Columns: [pet_id, Name, Surname, diag]\n",
       "Index: []"
      ]
     },
     "execution_count": 73,
     "metadata": {},
     "output_type": "execute_result"
    }
   ],
   "source": [
    "duplicate_rows = csv3[csv3.duplicated('pet_id', keep=False)]\n",
    "duplicate_rows[['pet_id', 'Name', 'Surname', 'diag']].sort_values(by=['pet_id'])"
   ]
  },
  {
   "cell_type": "markdown",
   "id": "4ed6b43d",
   "metadata": {},
   "source": [
    "Ya no hay repetidos :)"
   ]
  },
  {
   "cell_type": "code",
   "execution_count": 74,
   "id": "e5ff2675",
   "metadata": {},
   "outputs": [
    {
     "data": {
      "text/plain": [
       "100"
      ]
     },
     "execution_count": 74,
     "metadata": {},
     "output_type": "execute_result"
    }
   ],
   "source": [
    "len(csv3)"
   ]
  },
  {
   "cell_type": "code",
   "execution_count": 75,
   "id": "d6e4c437",
   "metadata": {},
   "outputs": [
    {
     "data": {
      "text/html": [
       "<div>\n",
       "<style scoped>\n",
       "    .dataframe tbody tr th:only-of-type {\n",
       "        vertical-align: middle;\n",
       "    }\n",
       "\n",
       "    .dataframe tbody tr th {\n",
       "        vertical-align: top;\n",
       "    }\n",
       "\n",
       "    .dataframe thead th {\n",
       "        text-align: right;\n",
       "    }\n",
       "</style>\n",
       "<table border=\"1\" class=\"dataframe\">\n",
       "  <thead>\n",
       "    <tr style=\"text-align: right;\">\n",
       "      <th></th>\n",
       "      <th>index</th>\n",
       "      <th>Unnamed: 0</th>\n",
       "      <th>Unnamed: 0.1</th>\n",
       "      <th>anon_id</th>\n",
       "      <th>Unnamed: 1</th>\n",
       "      <th>Participant ID</th>\n",
       "      <th>Name</th>\n",
       "      <th>Surname</th>\n",
       "      <th>Nombre T1</th>\n",
       "      <th>AN_MRI</th>\n",
       "      <th>...</th>\n",
       "      <th>gctx-bilat-occipital_rel</th>\n",
       "      <th>gctx-bilat-occipital_per</th>\n",
       "      <th>gctx-bilat-parietal_abs</th>\n",
       "      <th>gctx-bilat-parietal_rel</th>\n",
       "      <th>gctx-bilat-parietal_per</th>\n",
       "      <th>gctx-bilat-temporal_abs</th>\n",
       "      <th>gctx-bilat-temporal_rel</th>\n",
       "      <th>gctx-bilat-temporal_per</th>\n",
       "      <th>,anon_id,Unnamed: 1,Participant ID,Name,Surname,Nombre T1,AN_MRI,Date_MRI,Age at diagnostic visit (in years),Diagnostico Presuntivo,Age at death,Age at symptom onset,Sex,Education,APOE4 status,CSF amyloid positivity (yes/no),PET PiB amyloid positivity (yes/no),PET tau positivity (yes/no),FDG PET (hypometabolism profile),diag,unknown_abs,unknown_rel,unknown_per,left-cerebral-white-matter_abs,left-cerebral-white-matter_rel,left-cerebral-white-matter_per,left-cerebral-cortex_abs,left-cerebral-cortex_rel,left-cerebral-cortex_per,supratentorial_ventricles_abs,supratentorial_ventricles_rel,supratentorial_ventricles_per,left-cerebellum-white-matter_abs,left-cerebellum-white-matter_rel,left-cerebellum-white-matter_per,left-cerebellum-cortex_abs,left-cerebellum-cortex_rel,left-cerebellum-cortex_per,left-thalamus-proper*_abs,left-thalamus-proper*_rel,left-thalamus-proper*_per,left-caudate_abs,left-caudate_rel,left-caudate_per,left-putamen_abs,left-putamen_rel,left-putamen_per,left-pallidum_abs,left-pallidum_rel,left-pallidum_per,4th-ventricle_abs,4th-ventricle_rel,4th-ventricle_per,brain-stem_abs,brain-stem_rel,brain-stem_per,left-hippocampus_abs,left-hippocampus_rel,left-hippocampus_per,left-amygdala_abs,left-amygdala_rel,left-amygdala_per,csf-freesurfer_abs,csf-freesurfer_rel,csf-freesurfer_per,left-accumbens-area_abs,left-accumbens-area_rel,left-accumbens-area_per,left-ventraldc_abs,left-ventraldc_rel,left-ventraldc_per,right-cerebral-white-matter_abs,right-cerebral-white-matter_rel,right-cerebral-white-matter_per,right-cerebral-cortex_abs,right-cerebral-cortex_rel,right-cerebral-cortex_per,right-cerebellum-white-matter_abs,right-cerebellum-white-matter_rel,right-cerebellum-white-matter_per,right-cerebellum-cortex_abs,right-cerebellum-cortex_rel,right-cerebellum-cortex_per,right-thalamus-proper*_abs,right-thalamus-proper*_rel,right-thalamus-proper*_per,right-caudate_abs,right-caudate_rel,right-caudate_per,right-putamen_abs,right-putamen_rel,right-putamen_per,right-pallidum_abs,right-pallidum_rel,right-pallidum_per,right-hippocampus_abs,right-hippocampus_rel,right-hippocampus_per,right-amygdala_abs,right-amygdala_rel,right-amygdala_per,right-accumbens-area_abs,right-accumbens-area_rel,right-accumbens-area_per,right-ventraldc_abs,right-ventraldc_rel,right-ventraldc_per,corpus_callosum_abs,corpus_callosum_rel,corpus_callosum_per,ctx-lh-superior+transversetemporal_abs,ctx-lh-superior+transversetemporal_rel,ctx-lh-superior+transversetemporal_per,ctx-lh-cingulo_abs,ctx-lh-cingulo_rel,ctx-lh-cingulo_per,ctx-lh-frontalsuperiorandmiddle_abs,ctx-lh-frontalsuperiorandmiddle_rel,ctx-lh-frontalsuperiorandmiddle_per,ctx-lh-superiorparietal+postcentral_abs,ctx-lh-superiorparietal+postcentral_rel,ctx-lh-superiorparietal+postcentral_per,ctx-lh-inferiorparietal_abs,ctx-lh-inferiorparietal_rel,ctx-lh-inferiorparietal_per,ctx-lh-medialoccipital_abs,ctx-lh-medialoccipital_rel,ctx-lh-medialoccipital_per,ctx-lh-parahippocampal+fusiform+entorhinal_abs,ctx-lh-parahippocampal+fusiform+entorhinal_rel,ctx-lh-parahippocampal+fusiform+entorhinal_per,ctx-lh-middle+inferiortemporal+pole_abs,ctx-lh-middle+inferiortemporal+pole_rel,ctx-lh-middle+inferiortemporal+pole_per,ctx-lh-lateraloccipital_abs,ctx-lh-lateraloccipital_rel,ctx-lh-lateraloccipital_per,ctx-lh-orbitofrontal_abs,ctx-lh-orbitofrontal_rel,ctx-lh-orbitofrontal_per,ctx-lh-precentral+paracentral_abs,ctx-lh-precentral+paracentral_rel,ctx-lh-precentral+paracentral_per,ctx-lh-frontalinferior_abs,ctx-lh-frontalinferior_rel,ctx-lh-frontalinferior_per,ctx-lh-precuneus_abs,ctx-lh-precuneus_rel,ctx-lh-precuneus_per,ctx-lh-insula_abs,ctx-lh-insula_rel,ctx-lh-insula_per,ctx-rh-superior+transversetemporal_abs,ctx-rh-superior+transversetemporal_rel,ctx-rh-superior+transversetemporal_per,ctx-rh-cingulo_abs,ctx-rh-cingulo_rel,ctx-rh-cingulo_per,ctx-rh-frontalsuperiorandmiddle_abs,ctx-rh-frontalsuperiorandmiddle_rel,ctx-rh-frontalsuperiorandmiddle_per,ctx-rh-superiorparietal+postcentral_abs,ctx-rh-superiorparietal+postcentral_rel,ctx-rh-superiorparietal+postcentral_per,ctx-rh-inferiorparietal_abs,ctx-rh-inferiorparietal_rel,ctx-rh-inferiorparietal_per,ctx-rh-medialoccipital_abs,ctx-rh-medialoccipital_rel,ctx-rh-medialoccipital_per,ctx-rh-parahippocampal+fusiform+entorhinal_abs,ctx-rh-parahippocampal+fusiform+entorhinal_rel,ctx-rh-parahippocampal+fusiform+entorhinal_per,ctx-rh-middle+inferiortemporal+pole_abs,ctx-rh-middle+inferiortemporal+pole_rel,ctx-rh-middle+inferiortemporal+pole_per,ctx-rh-lateraloccipital_abs,ctx-rh-lateraloccipital_rel,ctx-rh-lateraloccipital_per,ctx-rh-orbitofrontal_abs,ctx-rh-orbitofrontal_rel,ctx-rh-orbitofrontal_per,ctx-rh-precentral+paracentral_abs,ctx-rh-precentral+paracentral_rel,ctx-rh-precentral+paracentral_per,ctx-rh-frontalinferior_abs,ctx-rh-frontalinferior_rel,ctx-rh-frontalinferior_per,ctx-rh-precuneus_abs,ctx-rh-precuneus_rel,ctx-rh-precuneus_per,ctx-rh-insula_abs,ctx-rh-insula_rel,ctx-rh-insula_per,brain_abs,brain_rel,brain_per,wm_abs,wm_rel,wm_per,gm_abs,gm_rel,gm_per,csf_abs,csf_rel,csf_per,cerebellum_abs,cerebellum_rel,cerebellum_per,bpf_abs,bpf_rel,bpf_per,evans_abs,evans_rel,evans_per,gctx-lh-frontal_abs,gctx-lh-frontal_rel,gctx-lh-frontal_per,gctx-lh-insula_abs,gctx-lh-insula_rel,gctx-lh-insula_per,gctx-lh-occipital_abs,gctx-lh-occipital_rel,gctx-lh-occipital_per,gctx-lh-parietal_abs,gctx-lh-parietal_rel,gctx-lh-parietal_per,gctx-lh-temporal_abs,gctx-lh-temporal_rel,gctx-lh-temporal_per,gctx-rh-frontal_abs,gctx-rh-frontal_rel,gctx-rh-frontal_per,gctx-rh-insula_abs,gctx-rh-insula_rel,gctx-rh-insula_per,gctx-rh-occipital_abs,gctx-rh-occipital_rel,gctx-rh-occipital_per,gctx-rh-parietal_abs,gctx-rh-parietal_rel,gctx-rh-parietal_per,gctx-rh-temporal_abs,gctx-rh-temporal_rel,gctx-rh-temporal_per,gctx-bilat-frontal_abs,gctx-bilat-frontal_rel,gctx-bilat-frontal_per,gctx-bilat-insula_abs,gctx-bilat-insula_rel,gctx-bilat-insula_per,gctx-bilat-occipital_abs,gctx-bilat-occipital_rel,gctx-bilat-occipital_per,gctx-bilat-parietal_abs,gctx-bilat-parietal_rel,gctx-bilat-parietal_per,gctx-bilat-temporal_abs,gctx-bilat-temporal_rel,gctx-bilat-temporal_per</th>\n",
       "      <th>pet_id</th>\n",
       "    </tr>\n",
       "  </thead>\n",
       "  <tbody>\n",
       "    <tr>\n",
       "      <th>0</th>\n",
       "      <td>0</td>\n",
       "      <td>0</td>\n",
       "      <td>0</td>\n",
       "      <td>601894e9-7192ca44-617903f9-b7775028-b7db3c01</td>\n",
       "      <td>NaN</td>\n",
       "      <td>3370.0</td>\n",
       "      <td>NICOLAS</td>\n",
       "      <td>RIGA</td>\n",
       "      <td>3D fSPGR-IRprep</td>\n",
       "      <td>9.275000e+12</td>\n",
       "      <td>...</td>\n",
       "      <td>0.027904</td>\n",
       "      <td>11.9</td>\n",
       "      <td>1.334525e+16</td>\n",
       "      <td>0.086964</td>\n",
       "      <td>54.5</td>\n",
       "      <td>1.035334e+16</td>\n",
       "      <td>0.067468</td>\n",
       "      <td>36.4</td>\n",
       "      <td>0,601894e9-7192ca44-617903f9-b7775028-b7db3c01...</td>\n",
       "      <td>b87479c8-641ec909-8b8effc1-9b58a18a-573f8414</td>\n",
       "    </tr>\n",
       "    <tr>\n",
       "      <th>1</th>\n",
       "      <td>2</td>\n",
       "      <td>2</td>\n",
       "      <td>2</td>\n",
       "      <td>26f052fa-48d0929f-43515de0-ab857928-4ee712ec</td>\n",
       "      <td>NaN</td>\n",
       "      <td>13512.0</td>\n",
       "      <td>MARTA SUSANA</td>\n",
       "      <td>EVRANIAN</td>\n",
       "      <td>FSPGR 3D</td>\n",
       "      <td>9.275000e+12</td>\n",
       "      <td>...</td>\n",
       "      <td>0.036981</td>\n",
       "      <td>93.7</td>\n",
       "      <td>1.157804e+16</td>\n",
       "      <td>0.082528</td>\n",
       "      <td>35.8</td>\n",
       "      <td>9.217053e+15</td>\n",
       "      <td>0.065699</td>\n",
       "      <td>29.7</td>\n",
       "      <td>2,26f052fa-48d0929f-43515de0-ab857928-4ee712ec...</td>\n",
       "      <td>e5a4f8b8-f6ad7d45-52b4b6e8-f3ebf6cd-c8e8f25b</td>\n",
       "    </tr>\n",
       "    <tr>\n",
       "      <th>2</th>\n",
       "      <td>3</td>\n",
       "      <td>3</td>\n",
       "      <td>3</td>\n",
       "      <td>9c673f58-f5bfbaf0-ff226082-410ef24e-e7d8ff4a</td>\n",
       "      <td>NaN</td>\n",
       "      <td>13778.0</td>\n",
       "      <td>LIDIA AIDA NOEMI</td>\n",
       "      <td>WILENSKY</td>\n",
       "      <td>Accelerated Ax IR-FSPGR</td>\n",
       "      <td>9.275001e+12</td>\n",
       "      <td>...</td>\n",
       "      <td>0.027322</td>\n",
       "      <td>8.9</td>\n",
       "      <td>9.642489e+15</td>\n",
       "      <td>0.070050</td>\n",
       "      <td>1.9</td>\n",
       "      <td>7.203079e+15</td>\n",
       "      <td>0.052328</td>\n",
       "      <td>1.0</td>\n",
       "      <td>3,9c673f58-f5bfbaf0-ff226082-410ef24e-e7d8ff4a...</td>\n",
       "      <td>c96cbd4d-f9cfda98-8bd71bc1-e26e87e3-e25c6d50</td>\n",
       "    </tr>\n",
       "    <tr>\n",
       "      <th>3</th>\n",
       "      <td>4</td>\n",
       "      <td>4</td>\n",
       "      <td>4</td>\n",
       "      <td>0f5ab5b2-c7051e97-42563753-f7f14410-29b463dd</td>\n",
       "      <td>NaN</td>\n",
       "      <td>15076.0</td>\n",
       "      <td>ALEJANDRA PATRICIA</td>\n",
       "      <td>FONTANA</td>\n",
       "      <td>Accelerated SAG IR-FSPGR</td>\n",
       "      <td>9.275001e+12</td>\n",
       "      <td>...</td>\n",
       "      <td>0.036672</td>\n",
       "      <td>83.6</td>\n",
       "      <td>1.333215e+16</td>\n",
       "      <td>0.088888</td>\n",
       "      <td>46.6</td>\n",
       "      <td>9.954130e+15</td>\n",
       "      <td>0.066366</td>\n",
       "      <td>16.3</td>\n",
       "      <td>4,0f5ab5b2-c7051e97-42563753-f7f14410-29b463dd...</td>\n",
       "      <td>b172e084-61708876-5cb503da-b65f4f85-e1c4e110</td>\n",
       "    </tr>\n",
       "    <tr>\n",
       "      <th>4</th>\n",
       "      <td>7</td>\n",
       "      <td>7</td>\n",
       "      <td>7</td>\n",
       "      <td>c0f0fdd2-3d2bda20-ca3c99c1-154d11f1-4f7d8346</td>\n",
       "      <td>NaN</td>\n",
       "      <td>28801.0</td>\n",
       "      <td>ROBERTO JOSE</td>\n",
       "      <td>CZIMENT</td>\n",
       "      <td>NaN</td>\n",
       "      <td>NaN</td>\n",
       "      <td>...</td>\n",
       "      <td>0.025749</td>\n",
       "      <td>4.5</td>\n",
       "      <td>9.789230e+15</td>\n",
       "      <td>0.068127</td>\n",
       "      <td>2.0</td>\n",
       "      <td>8.316855e+15</td>\n",
       "      <td>0.057880</td>\n",
       "      <td>3.8</td>\n",
       "      <td>7,c0f0fdd2-3d2bda20-ca3c99c1-154d11f1-4f7d8346...</td>\n",
       "      <td>01959b9f-793181a7-043f0671-0c14bc59-edf43b59</td>\n",
       "    </tr>\n",
       "    <tr>\n",
       "      <th>...</th>\n",
       "      <td>...</td>\n",
       "      <td>...</td>\n",
       "      <td>...</td>\n",
       "      <td>...</td>\n",
       "      <td>...</td>\n",
       "      <td>...</td>\n",
       "      <td>...</td>\n",
       "      <td>...</td>\n",
       "      <td>...</td>\n",
       "      <td>...</td>\n",
       "      <td>...</td>\n",
       "      <td>...</td>\n",
       "      <td>...</td>\n",
       "      <td>...</td>\n",
       "      <td>...</td>\n",
       "      <td>...</td>\n",
       "      <td>...</td>\n",
       "      <td>...</td>\n",
       "      <td>...</td>\n",
       "      <td>...</td>\n",
       "      <td>...</td>\n",
       "    </tr>\n",
       "    <tr>\n",
       "      <th>95</th>\n",
       "      <td>225</td>\n",
       "      <td>225</td>\n",
       "      <td>246</td>\n",
       "      <td>b5b58aa6-ac714391-3e93da6a-b4f7a79e-7f5df46e</td>\n",
       "      <td>NaN</td>\n",
       "      <td>662461.0</td>\n",
       "      <td>STELLA MARIS</td>\n",
       "      <td>BEILETTI</td>\n",
       "      <td>3D fSPGR-IRprep</td>\n",
       "      <td>9.275001e+12</td>\n",
       "      <td>...</td>\n",
       "      <td>0.033571</td>\n",
       "      <td>62.5</td>\n",
       "      <td>1.235907e+16</td>\n",
       "      <td>0.089564</td>\n",
       "      <td>61.9</td>\n",
       "      <td>9.640946e+15</td>\n",
       "      <td>0.069866</td>\n",
       "      <td>46.1</td>\n",
       "      <td>246,b5b58aa6-ac714391-3e93da6a-b4f7a79e-7f5df4...</td>\n",
       "      <td>a4dc5f48-55b6fe7b-95df4cc2-d1a9765f-acf114ce</td>\n",
       "    </tr>\n",
       "    <tr>\n",
       "      <th>96</th>\n",
       "      <td>226</td>\n",
       "      <td>226</td>\n",
       "      <td>247</td>\n",
       "      <td>8810c5bf-2dfa6391-82841f0b-e271e5da-d8256c22</td>\n",
       "      <td>NaN</td>\n",
       "      <td>664425.0</td>\n",
       "      <td>FERNANDO MARIA</td>\n",
       "      <td>BARGALLO</td>\n",
       "      <td>Accelerated Ax IR-FSPGR</td>\n",
       "      <td>9.275001e+12</td>\n",
       "      <td>...</td>\n",
       "      <td>0.029686</td>\n",
       "      <td>21.6</td>\n",
       "      <td>1.402467e+16</td>\n",
       "      <td>0.082955</td>\n",
       "      <td>26.7</td>\n",
       "      <td>1.102823e+16</td>\n",
       "      <td>0.065231</td>\n",
       "      <td>19.3</td>\n",
       "      <td>247,8810c5bf-2dfa6391-82841f0b-e271e5da-d8256c...</td>\n",
       "      <td>24fa2c1d-1218de8c-c96d25cb-28e77c7a-89e0c0a4</td>\n",
       "    </tr>\n",
       "    <tr>\n",
       "      <th>97</th>\n",
       "      <td>231</td>\n",
       "      <td>231</td>\n",
       "      <td>252</td>\n",
       "      <td>d1b48cde-e02de145-fcf116ba-ec2485a2-2731e736</td>\n",
       "      <td>NaN</td>\n",
       "      <td>697850.0</td>\n",
       "      <td>MIGUEL ANGEL</td>\n",
       "      <td>SANTOLIN</td>\n",
       "      <td>Accelerated Ax IR-FSPGR</td>\n",
       "      <td>9.275001e+12</td>\n",
       "      <td>...</td>\n",
       "      <td>0.030721</td>\n",
       "      <td>33.8</td>\n",
       "      <td>1.385637e+15</td>\n",
       "      <td>0.082949</td>\n",
       "      <td>30.3</td>\n",
       "      <td>1.179171e+16</td>\n",
       "      <td>0.070589</td>\n",
       "      <td>57.7</td>\n",
       "      <td>252,d1b48cde-e02de145-fcf116ba-ec2485a2-2731e7...</td>\n",
       "      <td>1541a4b6-f7f308c1-9e017a0a-d247bc16-e3117067</td>\n",
       "    </tr>\n",
       "    <tr>\n",
       "      <th>98</th>\n",
       "      <td>232</td>\n",
       "      <td>232</td>\n",
       "      <td>253</td>\n",
       "      <td>208ef863-72c22ba9-681a25e4-799847e4-cb2cdb64</td>\n",
       "      <td>NaN</td>\n",
       "      <td>701568.0</td>\n",
       "      <td>DANIEL</td>\n",
       "      <td>STAMBOULIAN</td>\n",
       "      <td>Accelerated Ax IR-FSPGR</td>\n",
       "      <td>9.275001e+12</td>\n",
       "      <td>...</td>\n",
       "      <td>0.026685</td>\n",
       "      <td>20.5</td>\n",
       "      <td>1.328232e+16</td>\n",
       "      <td>0.071437</td>\n",
       "      <td>13.3</td>\n",
       "      <td>1.091206e+16</td>\n",
       "      <td>0.058689</td>\n",
       "      <td>15.5</td>\n",
       "      <td>253,208ef863-72c22ba9-681a25e4-799847e4-cb2cdb...</td>\n",
       "      <td>5e28bc57-30e1abd2-a0a7d856-4fc1af1e-5bee10d2</td>\n",
       "    </tr>\n",
       "    <tr>\n",
       "      <th>99</th>\n",
       "      <td>233</td>\n",
       "      <td>233</td>\n",
       "      <td>254</td>\n",
       "      <td>1e0a6c5a-2052ffb5-288345cf-e2548118-c9c6c199</td>\n",
       "      <td>NaN</td>\n",
       "      <td>702774.0</td>\n",
       "      <td>WALTER ROBERTO</td>\n",
       "      <td>WANGER</td>\n",
       "      <td>Accelerated Ax IR-FSPGR</td>\n",
       "      <td>9.275001e+12</td>\n",
       "      <td>...</td>\n",
       "      <td>0.029624</td>\n",
       "      <td>15.6</td>\n",
       "      <td>1.256712e+16</td>\n",
       "      <td>0.078091</td>\n",
       "      <td>4.6</td>\n",
       "      <td>9.693995e+14</td>\n",
       "      <td>0.060238</td>\n",
       "      <td>1.3</td>\n",
       "      <td>254,1e0a6c5a-2052ffb5-288345cf-e2548118-c9c6c1...</td>\n",
       "      <td>625ddb3f-6b6adb4a-0653c1b1-1e566cc8-3fe2fab5</td>\n",
       "    </tr>\n",
       "  </tbody>\n",
       "</table>\n",
       "<p>100 rows × 265 columns</p>\n",
       "</div>"
      ],
      "text/plain": [
       "    index  Unnamed: 0  Unnamed: 0.1  \\\n",
       "0       0           0             0   \n",
       "1       2           2             2   \n",
       "2       3           3             3   \n",
       "3       4           4             4   \n",
       "4       7           7             7   \n",
       "..    ...         ...           ...   \n",
       "95    225         225           246   \n",
       "96    226         226           247   \n",
       "97    231         231           252   \n",
       "98    232         232           253   \n",
       "99    233         233           254   \n",
       "\n",
       "                                         anon_id Unnamed: 1  Participant ID  \\\n",
       "0   601894e9-7192ca44-617903f9-b7775028-b7db3c01        NaN          3370.0   \n",
       "1   26f052fa-48d0929f-43515de0-ab857928-4ee712ec        NaN         13512.0   \n",
       "2   9c673f58-f5bfbaf0-ff226082-410ef24e-e7d8ff4a        NaN         13778.0   \n",
       "3   0f5ab5b2-c7051e97-42563753-f7f14410-29b463dd        NaN         15076.0   \n",
       "4   c0f0fdd2-3d2bda20-ca3c99c1-154d11f1-4f7d8346        NaN         28801.0   \n",
       "..                                           ...        ...             ...   \n",
       "95  b5b58aa6-ac714391-3e93da6a-b4f7a79e-7f5df46e        NaN        662461.0   \n",
       "96  8810c5bf-2dfa6391-82841f0b-e271e5da-d8256c22        NaN        664425.0   \n",
       "97  d1b48cde-e02de145-fcf116ba-ec2485a2-2731e736        NaN        697850.0   \n",
       "98  208ef863-72c22ba9-681a25e4-799847e4-cb2cdb64        NaN        701568.0   \n",
       "99  1e0a6c5a-2052ffb5-288345cf-e2548118-c9c6c199        NaN        702774.0   \n",
       "\n",
       "                  Name      Surname                 Nombre T1        AN_MRI  \\\n",
       "0              NICOLAS         RIGA           3D fSPGR-IRprep  9.275000e+12   \n",
       "1         MARTA SUSANA     EVRANIAN                  FSPGR 3D  9.275000e+12   \n",
       "2     LIDIA AIDA NOEMI     WILENSKY   Accelerated Ax IR-FSPGR  9.275001e+12   \n",
       "3   ALEJANDRA PATRICIA      FONTANA  Accelerated SAG IR-FSPGR  9.275001e+12   \n",
       "4         ROBERTO JOSE      CZIMENT                       NaN           NaN   \n",
       "..                 ...          ...                       ...           ...   \n",
       "95        STELLA MARIS     BEILETTI           3D fSPGR-IRprep  9.275001e+12   \n",
       "96      FERNANDO MARIA     BARGALLO   Accelerated Ax IR-FSPGR  9.275001e+12   \n",
       "97        MIGUEL ANGEL     SANTOLIN   Accelerated Ax IR-FSPGR  9.275001e+12   \n",
       "98              DANIEL  STAMBOULIAN   Accelerated Ax IR-FSPGR  9.275001e+12   \n",
       "99      WALTER ROBERTO       WANGER   Accelerated Ax IR-FSPGR  9.275001e+12   \n",
       "\n",
       "    ... gctx-bilat-occipital_rel  gctx-bilat-occipital_per  \\\n",
       "0   ...                 0.027904                      11.9   \n",
       "1   ...                 0.036981                      93.7   \n",
       "2   ...                 0.027322                       8.9   \n",
       "3   ...                 0.036672                      83.6   \n",
       "4   ...                 0.025749                       4.5   \n",
       "..  ...                      ...                       ...   \n",
       "95  ...                 0.033571                      62.5   \n",
       "96  ...                 0.029686                      21.6   \n",
       "97  ...                 0.030721                      33.8   \n",
       "98  ...                 0.026685                      20.5   \n",
       "99  ...                 0.029624                      15.6   \n",
       "\n",
       "   gctx-bilat-parietal_abs gctx-bilat-parietal_rel gctx-bilat-parietal_per  \\\n",
       "0             1.334525e+16                0.086964                    54.5   \n",
       "1             1.157804e+16                0.082528                    35.8   \n",
       "2             9.642489e+15                0.070050                     1.9   \n",
       "3             1.333215e+16                0.088888                    46.6   \n",
       "4             9.789230e+15                0.068127                     2.0   \n",
       "..                     ...                     ...                     ...   \n",
       "95            1.235907e+16                0.089564                    61.9   \n",
       "96            1.402467e+16                0.082955                    26.7   \n",
       "97            1.385637e+15                0.082949                    30.3   \n",
       "98            1.328232e+16                0.071437                    13.3   \n",
       "99            1.256712e+16                0.078091                     4.6   \n",
       "\n",
       "   gctx-bilat-temporal_abs gctx-bilat-temporal_rel gctx-bilat-temporal_per  \\\n",
       "0             1.035334e+16                0.067468                    36.4   \n",
       "1             9.217053e+15                0.065699                    29.7   \n",
       "2             7.203079e+15                0.052328                     1.0   \n",
       "3             9.954130e+15                0.066366                    16.3   \n",
       "4             8.316855e+15                0.057880                     3.8   \n",
       "..                     ...                     ...                     ...   \n",
       "95            9.640946e+15                0.069866                    46.1   \n",
       "96            1.102823e+16                0.065231                    19.3   \n",
       "97            1.179171e+16                0.070589                    57.7   \n",
       "98            1.091206e+16                0.058689                    15.5   \n",
       "99            9.693995e+14                0.060238                     1.3   \n",
       "\n",
       "   ,anon_id,Unnamed: 1,Participant ID,Name,Surname,Nombre T1,AN_MRI,Date_MRI,Age at diagnostic visit (in years),Diagnostico Presuntivo,Age at death,Age at symptom onset,Sex,Education,APOE4 status,CSF amyloid positivity (yes/no),PET PiB amyloid positivity (yes/no),PET tau positivity (yes/no),FDG PET (hypometabolism profile),diag,unknown_abs,unknown_rel,unknown_per,left-cerebral-white-matter_abs,left-cerebral-white-matter_rel,left-cerebral-white-matter_per,left-cerebral-cortex_abs,left-cerebral-cortex_rel,left-cerebral-cortex_per,supratentorial_ventricles_abs,supratentorial_ventricles_rel,supratentorial_ventricles_per,left-cerebellum-white-matter_abs,left-cerebellum-white-matter_rel,left-cerebellum-white-matter_per,left-cerebellum-cortex_abs,left-cerebellum-cortex_rel,left-cerebellum-cortex_per,left-thalamus-proper*_abs,left-thalamus-proper*_rel,left-thalamus-proper*_per,left-caudate_abs,left-caudate_rel,left-caudate_per,left-putamen_abs,left-putamen_rel,left-putamen_per,left-pallidum_abs,left-pallidum_rel,left-pallidum_per,4th-ventricle_abs,4th-ventricle_rel,4th-ventricle_per,brain-stem_abs,brain-stem_rel,brain-stem_per,left-hippocampus_abs,left-hippocampus_rel,left-hippocampus_per,left-amygdala_abs,left-amygdala_rel,left-amygdala_per,csf-freesurfer_abs,csf-freesurfer_rel,csf-freesurfer_per,left-accumbens-area_abs,left-accumbens-area_rel,left-accumbens-area_per,left-ventraldc_abs,left-ventraldc_rel,left-ventraldc_per,right-cerebral-white-matter_abs,right-cerebral-white-matter_rel,right-cerebral-white-matter_per,right-cerebral-cortex_abs,right-cerebral-cortex_rel,right-cerebral-cortex_per,right-cerebellum-white-matter_abs,right-cerebellum-white-matter_rel,right-cerebellum-white-matter_per,right-cerebellum-cortex_abs,right-cerebellum-cortex_rel,right-cerebellum-cortex_per,right-thalamus-proper*_abs,right-thalamus-proper*_rel,right-thalamus-proper*_per,right-caudate_abs,right-caudate_rel,right-caudate_per,right-putamen_abs,right-putamen_rel,right-putamen_per,right-pallidum_abs,right-pallidum_rel,right-pallidum_per,right-hippocampus_abs,right-hippocampus_rel,right-hippocampus_per,right-amygdala_abs,right-amygdala_rel,right-amygdala_per,right-accumbens-area_abs,right-accumbens-area_rel,right-accumbens-area_per,right-ventraldc_abs,right-ventraldc_rel,right-ventraldc_per,corpus_callosum_abs,corpus_callosum_rel,corpus_callosum_per,ctx-lh-superior+transversetemporal_abs,ctx-lh-superior+transversetemporal_rel,ctx-lh-superior+transversetemporal_per,ctx-lh-cingulo_abs,ctx-lh-cingulo_rel,ctx-lh-cingulo_per,ctx-lh-frontalsuperiorandmiddle_abs,ctx-lh-frontalsuperiorandmiddle_rel,ctx-lh-frontalsuperiorandmiddle_per,ctx-lh-superiorparietal+postcentral_abs,ctx-lh-superiorparietal+postcentral_rel,ctx-lh-superiorparietal+postcentral_per,ctx-lh-inferiorparietal_abs,ctx-lh-inferiorparietal_rel,ctx-lh-inferiorparietal_per,ctx-lh-medialoccipital_abs,ctx-lh-medialoccipital_rel,ctx-lh-medialoccipital_per,ctx-lh-parahippocampal+fusiform+entorhinal_abs,ctx-lh-parahippocampal+fusiform+entorhinal_rel,ctx-lh-parahippocampal+fusiform+entorhinal_per,ctx-lh-middle+inferiortemporal+pole_abs,ctx-lh-middle+inferiortemporal+pole_rel,ctx-lh-middle+inferiortemporal+pole_per,ctx-lh-lateraloccipital_abs,ctx-lh-lateraloccipital_rel,ctx-lh-lateraloccipital_per,ctx-lh-orbitofrontal_abs,ctx-lh-orbitofrontal_rel,ctx-lh-orbitofrontal_per,ctx-lh-precentral+paracentral_abs,ctx-lh-precentral+paracentral_rel,ctx-lh-precentral+paracentral_per,ctx-lh-frontalinferior_abs,ctx-lh-frontalinferior_rel,ctx-lh-frontalinferior_per,ctx-lh-precuneus_abs,ctx-lh-precuneus_rel,ctx-lh-precuneus_per,ctx-lh-insula_abs,ctx-lh-insula_rel,ctx-lh-insula_per,ctx-rh-superior+transversetemporal_abs,ctx-rh-superior+transversetemporal_rel,ctx-rh-superior+transversetemporal_per,ctx-rh-cingulo_abs,ctx-rh-cingulo_rel,ctx-rh-cingulo_per,ctx-rh-frontalsuperiorandmiddle_abs,ctx-rh-frontalsuperiorandmiddle_rel,ctx-rh-frontalsuperiorandmiddle_per,ctx-rh-superiorparietal+postcentral_abs,ctx-rh-superiorparietal+postcentral_rel,ctx-rh-superiorparietal+postcentral_per,ctx-rh-inferiorparietal_abs,ctx-rh-inferiorparietal_rel,ctx-rh-inferiorparietal_per,ctx-rh-medialoccipital_abs,ctx-rh-medialoccipital_rel,ctx-rh-medialoccipital_per,ctx-rh-parahippocampal+fusiform+entorhinal_abs,ctx-rh-parahippocampal+fusiform+entorhinal_rel,ctx-rh-parahippocampal+fusiform+entorhinal_per,ctx-rh-middle+inferiortemporal+pole_abs,ctx-rh-middle+inferiortemporal+pole_rel,ctx-rh-middle+inferiortemporal+pole_per,ctx-rh-lateraloccipital_abs,ctx-rh-lateraloccipital_rel,ctx-rh-lateraloccipital_per,ctx-rh-orbitofrontal_abs,ctx-rh-orbitofrontal_rel,ctx-rh-orbitofrontal_per,ctx-rh-precentral+paracentral_abs,ctx-rh-precentral+paracentral_rel,ctx-rh-precentral+paracentral_per,ctx-rh-frontalinferior_abs,ctx-rh-frontalinferior_rel,ctx-rh-frontalinferior_per,ctx-rh-precuneus_abs,ctx-rh-precuneus_rel,ctx-rh-precuneus_per,ctx-rh-insula_abs,ctx-rh-insula_rel,ctx-rh-insula_per,brain_abs,brain_rel,brain_per,wm_abs,wm_rel,wm_per,gm_abs,gm_rel,gm_per,csf_abs,csf_rel,csf_per,cerebellum_abs,cerebellum_rel,cerebellum_per,bpf_abs,bpf_rel,bpf_per,evans_abs,evans_rel,evans_per,gctx-lh-frontal_abs,gctx-lh-frontal_rel,gctx-lh-frontal_per,gctx-lh-insula_abs,gctx-lh-insula_rel,gctx-lh-insula_per,gctx-lh-occipital_abs,gctx-lh-occipital_rel,gctx-lh-occipital_per,gctx-lh-parietal_abs,gctx-lh-parietal_rel,gctx-lh-parietal_per,gctx-lh-temporal_abs,gctx-lh-temporal_rel,gctx-lh-temporal_per,gctx-rh-frontal_abs,gctx-rh-frontal_rel,gctx-rh-frontal_per,gctx-rh-insula_abs,gctx-rh-insula_rel,gctx-rh-insula_per,gctx-rh-occipital_abs,gctx-rh-occipital_rel,gctx-rh-occipital_per,gctx-rh-parietal_abs,gctx-rh-parietal_rel,gctx-rh-parietal_per,gctx-rh-temporal_abs,gctx-rh-temporal_rel,gctx-rh-temporal_per,gctx-bilat-frontal_abs,gctx-bilat-frontal_rel,gctx-bilat-frontal_per,gctx-bilat-insula_abs,gctx-bilat-insula_rel,gctx-bilat-insula_per,gctx-bilat-occipital_abs,gctx-bilat-occipital_rel,gctx-bilat-occipital_per,gctx-bilat-parietal_abs,gctx-bilat-parietal_rel,gctx-bilat-parietal_per,gctx-bilat-temporal_abs,gctx-bilat-temporal_rel,gctx-bilat-temporal_per  \\\n",
       "0   0,601894e9-7192ca44-617903f9-b7775028-b7db3c01...                                                                                                                                                                                                                                                                                                                                                                                                                                                                                                                                                                                                                                                                                                                                                                                                                                                                                                                                                                                                                                                                                                                                                                                                                                                                                                                                                                                                                                                                                                                                                                                                                                                                                                                                                                                                                                                                                                                                                                                                                                                                                                                                                                                                                                                                                                                                                                                                                                                                                                                                                                                                                                                                                                                                                                                                                                                                                                                                                                                                                                                                                                                                                                                                                                                                                                                                                                                                                                                                                                                                                                                                                                                                                                                                                                                                                                                                                                                                                                                                                                                                                                                                                                                                                                                                                                                                                                                                                                                                                                                                                                                                                                                                                                                                                                                                                                                                                                                                                                                                                                                                                                                                                                                                                                                                                                                                                                                                                                                                                                                                                                                                                                                                                                                                                                                                                                                                                                                                                                                                                                                                                                                                                                                                                                                                                                      \n",
       "1   2,26f052fa-48d0929f-43515de0-ab857928-4ee712ec...                                                                                                                                                                                                                                                                                                                                                                                                                                                                                                                                                                                                                                                                                                                                                                                                                                                                                                                                                                                                                                                                                                                                                                                                                                                                                                                                                                                                                                                                                                                                                                                                                                                                                                                                                                                                                                                                                                                                                                                                                                                                                                                                                                                                                                                                                                                                                                                                                                                                                                                                                                                                                                                                                                                                                                                                                                                                                                                                                                                                                                                                                                                                                                                                                                                                                                                                                                                                                                                                                                                                                                                                                                                                                                                                                                                                                                                                                                                                                                                                                                                                                                                                                                                                                                                                                                                                                                                                                                                                                                                                                                                                                                                                                                                                                                                                                                                                                                                                                                                                                                                                                                                                                                                                                                                                                                                                                                                                                                                                                                                                                                                                                                                                                                                                                                                                                                                                                                                                                                                                                                                                                                                                                                                                                                                                                                      \n",
       "2   3,9c673f58-f5bfbaf0-ff226082-410ef24e-e7d8ff4a...                                                                                                                                                                                                                                                                                                                                                                                                                                                                                                                                                                                                                                                                                                                                                                                                                                                                                                                                                                                                                                                                                                                                                                                                                                                                                                                                                                                                                                                                                                                                                                                                                                                                                                                                                                                                                                                                                                                                                                                                                                                                                                                                                                                                                                                                                                                                                                                                                                                                                                                                                                                                                                                                                                                                                                                                                                                                                                                                                                                                                                                                                                                                                                                                                                                                                                                                                                                                                                                                                                                                                                                                                                                                                                                                                                                                                                                                                                                                                                                                                                                                                                                                                                                                                                                                                                                                                                                                                                                                                                                                                                                                                                                                                                                                                                                                                                                                                                                                                                                                                                                                                                                                                                                                                                                                                                                                                                                                                                                                                                                                                                                                                                                                                                                                                                                                                                                                                                                                                                                                                                                                                                                                                                                                                                                                                                      \n",
       "3   4,0f5ab5b2-c7051e97-42563753-f7f14410-29b463dd...                                                                                                                                                                                                                                                                                                                                                                                                                                                                                                                                                                                                                                                                                                                                                                                                                                                                                                                                                                                                                                                                                                                                                                                                                                                                                                                                                                                                                                                                                                                                                                                                                                                                                                                                                                                                                                                                                                                                                                                                                                                                                                                                                                                                                                                                                                                                                                                                                                                                                                                                                                                                                                                                                                                                                                                                                                                                                                                                                                                                                                                                                                                                                                                                                                                                                                                                                                                                                                                                                                                                                                                                                                                                                                                                                                                                                                                                                                                                                                                                                                                                                                                                                                                                                                                                                                                                                                                                                                                                                                                                                                                                                                                                                                                                                                                                                                                                                                                                                                                                                                                                                                                                                                                                                                                                                                                                                                                                                                                                                                                                                                                                                                                                                                                                                                                                                                                                                                                                                                                                                                                                                                                                                                                                                                                                                                      \n",
       "4   7,c0f0fdd2-3d2bda20-ca3c99c1-154d11f1-4f7d8346...                                                                                                                                                                                                                                                                                                                                                                                                                                                                                                                                                                                                                                                                                                                                                                                                                                                                                                                                                                                                                                                                                                                                                                                                                                                                                                                                                                                                                                                                                                                                                                                                                                                                                                                                                                                                                                                                                                                                                                                                                                                                                                                                                                                                                                                                                                                                                                                                                                                                                                                                                                                                                                                                                                                                                                                                                                                                                                                                                                                                                                                                                                                                                                                                                                                                                                                                                                                                                                                                                                                                                                                                                                                                                                                                                                                                                                                                                                                                                                                                                                                                                                                                                                                                                                                                                                                                                                                                                                                                                                                                                                                                                                                                                                                                                                                                                                                                                                                                                                                                                                                                                                                                                                                                                                                                                                                                                                                                                                                                                                                                                                                                                                                                                                                                                                                                                                                                                                                                                                                                                                                                                                                                                                                                                                                                                                      \n",
       "..                                                ...                                                                                                                                                                                                                                                                                                                                                                                                                                                                                                                                                                                                                                                                                                                                                                                                                                                                                                                                                                                                                                                                                                                                                                                                                                                                                                                                                                                                                                                                                                                                                                                                                                                                                                                                                                                                                                                                                                                                                                                                                                                                                                                                                                                                                                                                                                                                                                                                                                                                                                                                                                                                                                                                                                                                                                                                                                                                                                                                                                                                                                                                                                                                                                                                                                                                                                                                                                                                                                                                                                                                                                                                                                                                                                                                                                                                                                                                                                                                                                                                                                                                                                                                                                                                                                                                                                                                                                                                                                                                                                                                                                                                                                                                                                                                                                                                                                                                                                                                                                                                                                                                                                                                                                                                                                                                                                                                                                                                                                                                                                                                                                                                                                                                                                                                                                                                                                                                                                                                                                                                                                                                                                                                                                                                                                                                                                      \n",
       "95  246,b5b58aa6-ac714391-3e93da6a-b4f7a79e-7f5df4...                                                                                                                                                                                                                                                                                                                                                                                                                                                                                                                                                                                                                                                                                                                                                                                                                                                                                                                                                                                                                                                                                                                                                                                                                                                                                                                                                                                                                                                                                                                                                                                                                                                                                                                                                                                                                                                                                                                                                                                                                                                                                                                                                                                                                                                                                                                                                                                                                                                                                                                                                                                                                                                                                                                                                                                                                                                                                                                                                                                                                                                                                                                                                                                                                                                                                                                                                                                                                                                                                                                                                                                                                                                                                                                                                                                                                                                                                                                                                                                                                                                                                                                                                                                                                                                                                                                                                                                                                                                                                                                                                                                                                                                                                                                                                                                                                                                                                                                                                                                                                                                                                                                                                                                                                                                                                                                                                                                                                                                                                                                                                                                                                                                                                                                                                                                                                                                                                                                                                                                                                                                                                                                                                                                                                                                                                                      \n",
       "96  247,8810c5bf-2dfa6391-82841f0b-e271e5da-d8256c...                                                                                                                                                                                                                                                                                                                                                                                                                                                                                                                                                                                                                                                                                                                                                                                                                                                                                                                                                                                                                                                                                                                                                                                                                                                                                                                                                                                                                                                                                                                                                                                                                                                                                                                                                                                                                                                                                                                                                                                                                                                                                                                                                                                                                                                                                                                                                                                                                                                                                                                                                                                                                                                                                                                                                                                                                                                                                                                                                                                                                                                                                                                                                                                                                                                                                                                                                                                                                                                                                                                                                                                                                                                                                                                                                                                                                                                                                                                                                                                                                                                                                                                                                                                                                                                                                                                                                                                                                                                                                                                                                                                                                                                                                                                                                                                                                                                                                                                                                                                                                                                                                                                                                                                                                                                                                                                                                                                                                                                                                                                                                                                                                                                                                                                                                                                                                                                                                                                                                                                                                                                                                                                                                                                                                                                                                                      \n",
       "97  252,d1b48cde-e02de145-fcf116ba-ec2485a2-2731e7...                                                                                                                                                                                                                                                                                                                                                                                                                                                                                                                                                                                                                                                                                                                                                                                                                                                                                                                                                                                                                                                                                                                                                                                                                                                                                                                                                                                                                                                                                                                                                                                                                                                                                                                                                                                                                                                                                                                                                                                                                                                                                                                                                                                                                                                                                                                                                                                                                                                                                                                                                                                                                                                                                                                                                                                                                                                                                                                                                                                                                                                                                                                                                                                                                                                                                                                                                                                                                                                                                                                                                                                                                                                                                                                                                                                                                                                                                                                                                                                                                                                                                                                                                                                                                                                                                                                                                                                                                                                                                                                                                                                                                                                                                                                                                                                                                                                                                                                                                                                                                                                                                                                                                                                                                                                                                                                                                                                                                                                                                                                                                                                                                                                                                                                                                                                                                                                                                                                                                                                                                                                                                                                                                                                                                                                                                                      \n",
       "98  253,208ef863-72c22ba9-681a25e4-799847e4-cb2cdb...                                                                                                                                                                                                                                                                                                                                                                                                                                                                                                                                                                                                                                                                                                                                                                                                                                                                                                                                                                                                                                                                                                                                                                                                                                                                                                                                                                                                                                                                                                                                                                                                                                                                                                                                                                                                                                                                                                                                                                                                                                                                                                                                                                                                                                                                                                                                                                                                                                                                                                                                                                                                                                                                                                                                                                                                                                                                                                                                                                                                                                                                                                                                                                                                                                                                                                                                                                                                                                                                                                                                                                                                                                                                                                                                                                                                                                                                                                                                                                                                                                                                                                                                                                                                                                                                                                                                                                                                                                                                                                                                                                                                                                                                                                                                                                                                                                                                                                                                                                                                                                                                                                                                                                                                                                                                                                                                                                                                                                                                                                                                                                                                                                                                                                                                                                                                                                                                                                                                                                                                                                                                                                                                                                                                                                                                                                      \n",
       "99  254,1e0a6c5a-2052ffb5-288345cf-e2548118-c9c6c1...                                                                                                                                                                                                                                                                                                                                                                                                                                                                                                                                                                                                                                                                                                                                                                                                                                                                                                                                                                                                                                                                                                                                                                                                                                                                                                                                                                                                                                                                                                                                                                                                                                                                                                                                                                                                                                                                                                                                                                                                                                                                                                                                                                                                                                                                                                                                                                                                                                                                                                                                                                                                                                                                                                                                                                                                                                                                                                                                                                                                                                                                                                                                                                                                                                                                                                                                                                                                                                                                                                                                                                                                                                                                                                                                                                                                                                                                                                                                                                                                                                                                                                                                                                                                                                                                                                                                                                                                                                                                                                                                                                                                                                                                                                                                                                                                                                                                                                                                                                                                                                                                                                                                                                                                                                                                                                                                                                                                                                                                                                                                                                                                                                                                                                                                                                                                                                                                                                                                                                                                                                                                                                                                                                                                                                                                                                      \n",
       "\n",
       "                                          pet_id  \n",
       "0   b87479c8-641ec909-8b8effc1-9b58a18a-573f8414  \n",
       "1   e5a4f8b8-f6ad7d45-52b4b6e8-f3ebf6cd-c8e8f25b  \n",
       "2   c96cbd4d-f9cfda98-8bd71bc1-e26e87e3-e25c6d50  \n",
       "3   b172e084-61708876-5cb503da-b65f4f85-e1c4e110  \n",
       "4   01959b9f-793181a7-043f0671-0c14bc59-edf43b59  \n",
       "..                                           ...  \n",
       "95  a4dc5f48-55b6fe7b-95df4cc2-d1a9765f-acf114ce  \n",
       "96  24fa2c1d-1218de8c-c96d25cb-28e77c7a-89e0c0a4  \n",
       "97  1541a4b6-f7f308c1-9e017a0a-d247bc16-e3117067  \n",
       "98  5e28bc57-30e1abd2-a0a7d856-4fc1af1e-5bee10d2  \n",
       "99  625ddb3f-6b6adb4a-0653c1b1-1e566cc8-3fe2fab5  \n",
       "\n",
       "[100 rows x 265 columns]"
      ]
     },
     "execution_count": 75,
     "metadata": {},
     "output_type": "execute_result"
    }
   ],
   "source": [
    "csv3.reset_index()"
   ]
  },
  {
   "cell_type": "code",
   "execution_count": 76,
   "id": "d5bc4657",
   "metadata": {},
   "outputs": [],
   "source": [
    "csv4 = csv3[['diag', 'pet_id', 'Sex', 'Age at diagnostic visit (in years)', 'anon_id']]"
   ]
  },
  {
   "cell_type": "code",
   "execution_count": 77,
   "id": "6c773108",
   "metadata": {},
   "outputs": [],
   "source": [
    "csv4.to_csv(outputFile)"
   ]
  },
  {
   "cell_type": "code",
   "execution_count": null,
   "id": "c6578373",
   "metadata": {},
   "outputs": [],
   "source": []
  }
 ],
 "metadata": {
  "kernelspec": {
   "display_name": "Python 3 (ipykernel)",
   "language": "python",
   "name": "python3"
  },
  "language_info": {
   "codemirror_mode": {
    "name": "ipython",
    "version": 3
   },
   "file_extension": ".py",
   "mimetype": "text/x-python",
   "name": "python",
   "nbconvert_exporter": "python",
   "pygments_lexer": "ipython3",
   "version": "3.9.6"
  }
 },
 "nbformat": 4,
 "nbformat_minor": 5
}
