{
 "cells": [
  {
   "cell_type": "code",
   "execution_count": 11,
   "id": "c99dee4c",
   "metadata": {},
   "outputs": [],
   "source": [
    "import dicom2nifti\n",
    "import nibabel as nib\n",
    "import nilearn as nil\n",
    "import scipy.ndimage as ndi\n",
    "import matplotlib.pyplot as plt\n",
    "import os\n",
    "import glob\n",
    "from pathlib import Path\n",
    "import SimpleITK as sitk # para calcular rangos\n",
    "import numpy as np\n",
    "import io\n",
    "from PIL import Image\n",
    "import random\n",
    "import sys\n",
    "import pandas as pd\n",
    "import math\n",
    "import pandas as pd\n",
    "import sklearn\n",
    "import sklearn.metrics\n",
    "from sklearn.metrics import roc_curve\n",
    "from sklearn.metrics import roc_auc_score"
   ]
  },
  {
   "cell_type": "code",
   "execution_count": 12,
   "id": "4abd525f",
   "metadata": {},
   "outputs": [],
   "source": [
    "sys.path.append(\"/Users/hugom/PET-IA/src\")"
   ]
  },
  {
   "cell_type": "code",
   "execution_count": 13,
   "id": "6ff277e1",
   "metadata": {},
   "outputs": [],
   "source": [
    "from datasets import ADNIDataset, FleniMyriamDataset, BaseDataset\n",
    "from transforms import TransformGridImage, ToLabelOutputConfigurable\n",
    "from train_lib import train_model, set_parameter_requires_grad, initialize_model\n",
    "from util import collectAllData\n",
    "import torch\n",
    "import torchvision\n",
    "from torchvision import transforms, utils, models, datasets"
   ]
  },
  {
   "cell_type": "code",
   "execution_count": 14,
   "id": "1a0012fc",
   "metadata": {},
   "outputs": [],
   "source": [
    "config = {\n",
    "  \"last_3_classes\": {\n",
    "    \"weights\": \"/Users/hugom/Tesis/ExperimentosServer/muestraFull3700_9/muestraFull3700_9_dxlast_3classes_0_epoch21.pth\",\n",
    "    \"num_classes\": 3\n",
    "  },\n",
    "  \"sev_3_classes\": {\n",
    "    \"weights\": \"/Users/hugom/Tesis/ExperimentosServer/muestraFull3700_9/muestraFull3700_9_dxmost_severe_3classes_0_epoch31.pth\",\n",
    "    \"num_classes\": 3\n",
    "  },\n",
    "  \"visit_3_classes\": {\n",
    "    \"weights\": \"/Users/hugom/Tesis/ExperimentosServer/muestraFull3700_9/muestraFull3700_9_dxvisit_3classes_0_epoch10.pth\",\n",
    "    \"num_classes\": 3\n",
    "  },\n",
    "  \"last_2classes\": {\n",
    "    \"weights\": \"/Users/hugom/Tesis/ExperimentosServer/muestraFull3700_9/muestraFull3700_9_dxlast_2classes_0_epoch18.pth\",\n",
    "    \"num_classes\": 2\n",
    "  },\n",
    "  \"sev_2classes\": {\n",
    "    \"weights\": \"/Users/hugom/Tesis/ExperimentosServer/muestraFull3700_9/muestraFull3700_9_dxmost_severe_2classes_0_epoch16.pth\",\n",
    "    \"num_classes\": 2\n",
    "  },\n",
    "  \"visit_2classes\": {\n",
    "    \"weights\": \"/Users/hugom/Tesis/ExperimentosServer/muestraFull3700_9/muestraFull3700_9_dxvisit_2classes_0_epoch5.pth\",\n",
    "    \"num_classes\": 2\n",
    "  }\n",
    "}\n"
   ]
  },
  {
   "cell_type": "code",
   "execution_count": 35,
   "id": "9fe73657",
   "metadata": {},
   "outputs": [],
   "source": [
    "def executeModel(dataloader, weights, num_classes):\n",
    "    featureExtract = False\n",
    "    dropoutRate = 0.6\n",
    "    auxEnabled = True\n",
    "    usePretrained = False\n",
    "    model_ft, input_size = initialize_model('inception', num_classes, featureExtract, dropoutRate, auxEnabled, use_pretrained=usePretrained)\n",
    "    device = torch.device(deviceName if torch.cuda.is_available() else \"cpu\")\n",
    "    model_state_dict = torch.load(weights, map_location=device)\n",
    "    model_ft.load_state_dict(model_state_dict)\n",
    "\n",
    "    model_ft.to(device)\n",
    "    \n",
    "    testY, predY = collectAllData(dataloader, model_ft, device, num_classes)\n",
    "    \n",
    "    _, preds = torch.max(torch.from_numpy(predY), 1)\n",
    "    preds = preds.cpu().numpy()\n",
    "    \n",
    "    acc = sklearn.metrics.accuracy_score(testY, preds)\n",
    "    bacc = sklearn.metrics.balanced_accuracy_score(testY, preds)\n",
    "    \n",
    "    print(testY)\n",
    "    print(preds)\n",
    "    \n",
    "    print(f\"Accuracy: {acc}\")\n",
    "    print(f\"B acc: {bacc}\")\n",
    "    if num_classes == 2:\n",
    "        f1 = sklearn.metrics.f1_score(testY, preds)\n",
    "        print(f\"F1: {f1}\")\n",
    "    matrix = sklearn.metrics.confusion_matrix(testY, preds)\n",
    "    \n",
    "    print(\"Confusion matrix:\")\n",
    "    print(matrix)\n",
    "    \n",
    "    if (num_classes == 2):\n",
    "        lr_auc = roc_auc_score(testY, torch.from_numpy(predY[:, 1]), average = None)\n",
    "        print(f\"AUC ROC: {lr_auc}\")\n",
    "        return\n",
    "    \n",
    "    print(\"------------\")\n",
    "    print(\"Merging 2 with 0\")\n",
    "    \n",
    "    predY[:, 0] = predY[:, 0] + predY[:, 2]\n",
    "    predY = predY[:, 0:2]\n",
    "    \n",
    "    _, preds = torch.max(torch.from_numpy(predY), 1)\n",
    "    preds = preds.cpu().numpy()\n",
    "    \n",
    "    acc = sklearn.metrics.accuracy_score(testY, preds)\n",
    "    bacc = sklearn.metrics.balanced_accuracy_score(testY, preds)\n",
    "    f1 = sklearn.metrics.f1_score(testY, preds)\n",
    "    \n",
    "    print(f\"Accuracy merged: {acc}\")\n",
    "    print(f\"B acc merged: {bacc}\")\n",
    "    print(f\"F1 merged: {f1}\")\n",
    "    \n",
    "    print(\"Confusion matrix merged:\")\n",
    "    matrix = sklearn.metrics.confusion_matrix(testY, preds)\n",
    "    print(matrix)\n",
    "    \n",
    "    lr_auc = roc_auc_score(testY, torch.from_numpy(predY[:, 1]), average = None)\n",
    "    print(f\"AUC ROC: {lr_auc}\")"
   ]
  },
  {
   "cell_type": "code",
   "execution_count": 36,
   "id": "74e405d4",
   "metadata": {},
   "outputs": [],
   "source": [
    "csvFile = '/Users/hugom/PET-IA/Sets/fleni-myriam-curated.csv'\n",
    "imagesFolder = '/Users/hugom/Tesis/Imagenes/fleni-stripped-preprocessed3'\n",
    "mean = 3383.638427734375\n",
    "std = 7348.981426020888\n",
    "means = [mean, mean, mean]\n",
    "stds = [std, std, std]\n",
    "transforms = torchvision.transforms.Compose([\n",
    "    TransformGridImage(),\n",
    "    torchvision.transforms.ToTensor(),\n",
    "    torchvision.transforms.Normalize(means, stds)\n",
    "])\n",
    "dicti = {\n",
    "    \"AD\": 1,\n",
    "    \"non-AD\": 0\n",
    "}\n",
    "dataset = FleniMyriamDataset('fleni', '/Users/hugom/PET-IA/Sets/fleni-myriam-curated.csv', '/Users/hugom/Tesis/Imagenes/fleni-stripped-preprocessed3', transform = transforms)\n",
    "dataloader = torch.utils.data.DataLoader(dataset, batch_size=1, shuffle=False, num_workers=0)"
   ]
  },
  {
   "cell_type": "code",
   "execution_count": 37,
   "id": "5a5c4893",
   "metadata": {},
   "outputs": [
    {
     "name": "stdout",
     "output_type": "stream",
     "text": [
      "Ejecutando last_3_classes\n"
     ]
    },
    {
     "name": "stderr",
     "output_type": "stream",
     "text": [
      "/Users/hugom/Library/Python/3.9/lib/python/site-packages/torchvision/models/_utils.py:208: UserWarning: The parameter 'pretrained' is deprecated since 0.13 and may be removed in the future, please use 'weights' instead.\n",
      "  warnings.warn(\n",
      "/Users/hugom/Library/Python/3.9/lib/python/site-packages/torchvision/models/_utils.py:223: UserWarning: Arguments other than a weight enum or `None` for 'weights' are deprecated since 0.13 and may be removed in the future. The current behavior is equivalent to passing `weights=None`.\n",
      "  warnings.warn(msg)\n",
      "/Users/hugom/Library/Python/3.9/lib/python/site-packages/torchvision/models/inception.py:43: FutureWarning: The default weight initialization of inception_v3 will be changed in future releases of torchvision. If you wish to keep the old behavior (which leads to long initialization times due to scipy/scipy#11299), please set init_weights=True.\n",
      "  warnings.warn(\n"
     ]
    },
    {
     "name": "stdout",
     "output_type": "stream",
     "text": [
      "num featurs2048\n",
      "[1. 1. 1. 1. 0. 1. 0. 1. 0. 0. 1. 0. 0. 1. 0. 0. 1. 0. 0. 0. 1. 1. 0. 0.\n",
      " 1. 1. 0. 0. 0. 0. 1. 1. 1. 0. 1. 1. 0. 0. 0. 1. 1. 1. 1. 1. 1. 1. 1. 1.\n",
      " 0. 0. 1. 0. 0. 1. 1. 1. 0. 1. 0. 1. 0. 1. 1. 0. 1. 1. 0. 1. 0. 1. 1. 0.\n",
      " 1. 1. 0. 1. 1. 0. 0. 1. 1. 1. 1. 1. 1. 1. 0. 1. 1. 1. 0. 0. 0. 0. 1. 1.\n",
      " 1. 1. 1. 1.]\n",
      "[0 1 0 1 1 1 1 1 1 1 1 1 1 1 1 1 0 1 1 1 1 1 0 1 0 1 1 1 1 1 1 0 1 1 1 0 0\n",
      " 1 0 0 1 1 1 1 1 1 1 0 0 0 0 0 1 1 1 0 1 0 1 0 0 0 1 1 1 1 1 0 1 1 1 0 1 0\n",
      " 0 1 0 0 1 1 0 1 1 1 0 0 0 1 0 1 1 1 1 1 1 1 1 1 0 1]\n",
      "Accuracy: 0.5\n",
      "B acc: 0.4625\n",
      "Confusion matrix:\n",
      "[[11 29]\n",
      " [21 39]]\n",
      "------------\n",
      "Merging 2 with 0\n",
      "Accuracy merged: 0.49\n",
      "B acc merged: 0.45416666666666666\n",
      "F1 merged: 0.5984251968503937\n",
      "Confusion matrix merged:\n",
      "[[11 29]\n",
      " [22 38]]\n",
      "AUC ROC: 0.5070833333333333\n",
      "#################\n",
      "Ejecutando sev_3_classes\n"
     ]
    },
    {
     "name": "stderr",
     "output_type": "stream",
     "text": [
      "/Users/hugom/Library/Python/3.9/lib/python/site-packages/torchvision/models/_utils.py:208: UserWarning: The parameter 'pretrained' is deprecated since 0.13 and may be removed in the future, please use 'weights' instead.\n",
      "  warnings.warn(\n",
      "/Users/hugom/Library/Python/3.9/lib/python/site-packages/torchvision/models/_utils.py:223: UserWarning: Arguments other than a weight enum or `None` for 'weights' are deprecated since 0.13 and may be removed in the future. The current behavior is equivalent to passing `weights=None`.\n",
      "  warnings.warn(msg)\n",
      "/Users/hugom/Library/Python/3.9/lib/python/site-packages/torchvision/models/inception.py:43: FutureWarning: The default weight initialization of inception_v3 will be changed in future releases of torchvision. If you wish to keep the old behavior (which leads to long initialization times due to scipy/scipy#11299), please set init_weights=True.\n",
      "  warnings.warn(\n"
     ]
    },
    {
     "name": "stdout",
     "output_type": "stream",
     "text": [
      "num featurs2048\n"
     ]
    },
    {
     "name": "stderr",
     "output_type": "stream",
     "text": [
      "/Users/hugom/Library/Python/3.9/lib/python/site-packages/sklearn/metrics/_classification.py:2006: UserWarning: y_pred contains classes not in y_true\n",
      "  warnings.warn(\"y_pred contains classes not in y_true\")\n",
      "/Users/hugom/Library/Python/3.9/lib/python/site-packages/torchvision/models/_utils.py:208: UserWarning: The parameter 'pretrained' is deprecated since 0.13 and may be removed in the future, please use 'weights' instead.\n",
      "  warnings.warn(\n",
      "/Users/hugom/Library/Python/3.9/lib/python/site-packages/torchvision/models/_utils.py:223: UserWarning: Arguments other than a weight enum or `None` for 'weights' are deprecated since 0.13 and may be removed in the future. The current behavior is equivalent to passing `weights=None`.\n",
      "  warnings.warn(msg)\n",
      "/Users/hugom/Library/Python/3.9/lib/python/site-packages/torchvision/models/inception.py:43: FutureWarning: The default weight initialization of inception_v3 will be changed in future releases of torchvision. If you wish to keep the old behavior (which leads to long initialization times due to scipy/scipy#11299), please set init_weights=True.\n",
      "  warnings.warn(\n"
     ]
    },
    {
     "name": "stdout",
     "output_type": "stream",
     "text": [
      "[1. 1. 1. 1. 0. 1. 0. 1. 0. 0. 1. 0. 0. 1. 0. 0. 1. 0. 0. 0. 1. 1. 0. 0.\n",
      " 1. 1. 0. 0. 0. 0. 1. 1. 1. 0. 1. 1. 0. 0. 0. 1. 1. 1. 1. 1. 1. 1. 1. 1.\n",
      " 0. 0. 1. 0. 0. 1. 1. 1. 0. 1. 0. 1. 0. 1. 1. 0. 1. 1. 0. 1. 0. 1. 1. 0.\n",
      " 1. 1. 0. 1. 1. 0. 0. 1. 1. 1. 1. 1. 1. 1. 0. 1. 1. 1. 0. 0. 0. 0. 1. 1.\n",
      " 1. 1. 1. 1.]\n",
      "[0 1 1 0 1 0 0 1 1 1 0 1 1 0 0 1 2 0 1 1 1 0 2 0 2 1 0 0 0 0 1 0 0 0 0 2 2\n",
      " 0 2 0 1 0 1 0 0 1 1 0 0 2 2 0 0 1 0 2 0 1 1 2 0 0 1 0 0 1 0 0 1 0 0 0 0 0\n",
      " 2 1 2 2 0 1 0 1 0 1 0 0 0 1 0 1 1 1 0 0 0 1 1 1 2 0]\n",
      "Accuracy: 0.45\n",
      "B acc: 0.4666666666666667\n",
      "Confusion matrix:\n",
      "[[22 12  6]\n",
      " [29 23  8]\n",
      " [ 0  0  0]]\n",
      "------------\n",
      "Merging 2 with 0\n",
      "Accuracy merged: 0.51\n",
      "B acc merged: 0.5458333333333333\n",
      "F1 merged: 0.47311827956989244\n",
      "Confusion matrix merged:\n",
      "[[29 11]\n",
      " [38 22]]\n",
      "AUC ROC: 0.5316666666666667\n",
      "#################\n",
      "Ejecutando visit_3_classes\n",
      "num featurs2048\n"
     ]
    },
    {
     "name": "stderr",
     "output_type": "stream",
     "text": [
      "/Users/hugom/Library/Python/3.9/lib/python/site-packages/sklearn/metrics/_classification.py:2006: UserWarning: y_pred contains classes not in y_true\n",
      "  warnings.warn(\"y_pred contains classes not in y_true\")\n",
      "/Users/hugom/Library/Python/3.9/lib/python/site-packages/torchvision/models/_utils.py:208: UserWarning: The parameter 'pretrained' is deprecated since 0.13 and may be removed in the future, please use 'weights' instead.\n",
      "  warnings.warn(\n",
      "/Users/hugom/Library/Python/3.9/lib/python/site-packages/torchvision/models/_utils.py:223: UserWarning: Arguments other than a weight enum or `None` for 'weights' are deprecated since 0.13 and may be removed in the future. The current behavior is equivalent to passing `weights=None`.\n",
      "  warnings.warn(msg)\n",
      "/Users/hugom/Library/Python/3.9/lib/python/site-packages/torchvision/models/inception.py:43: FutureWarning: The default weight initialization of inception_v3 will be changed in future releases of torchvision. If you wish to keep the old behavior (which leads to long initialization times due to scipy/scipy#11299), please set init_weights=True.\n",
      "  warnings.warn(\n"
     ]
    },
    {
     "name": "stdout",
     "output_type": "stream",
     "text": [
      "[1. 1. 1. 1. 0. 1. 0. 1. 0. 0. 1. 0. 0. 1. 0. 0. 1. 0. 0. 0. 1. 1. 0. 0.\n",
      " 1. 1. 0. 0. 0. 0. 1. 1. 1. 0. 1. 1. 0. 0. 0. 1. 1. 1. 1. 1. 1. 1. 1. 1.\n",
      " 0. 0. 1. 0. 0. 1. 1. 1. 0. 1. 0. 1. 0. 1. 1. 0. 1. 1. 0. 1. 0. 1. 1. 0.\n",
      " 1. 1. 0. 1. 1. 0. 0. 1. 1. 1. 1. 1. 1. 1. 0. 1. 1. 1. 0. 0. 0. 0. 1. 1.\n",
      " 1. 1. 1. 1.]\n",
      "[1 2 1 1 2 1 2 2 2 2 1 2 2 2 1 2 2 2 2 2 2 1 2 2 2 2 1 1 1 1 2 2 1 1 1 2 2\n",
      " 1 2 1 2 1 2 2 2 2 2 0 1 2 2 1 1 2 1 2 1 2 2 2 0 0 2 1 1 2 2 2 2 2 1 2 1 0\n",
      " 2 2 2 2 1 2 1 2 2 2 0 1 2 2 2 2 2 2 2 1 1 2 2 2 2 2]\n",
      "Accuracy: 0.18\n",
      "B acc: 0.15416666666666667\n",
      "Confusion matrix:\n",
      "[[ 1 14 25]\n",
      " [ 4 17 39]\n",
      " [ 0  0  0]]\n",
      "------------\n",
      "Merging 2 with 0\n",
      "Accuracy merged: 0.43\n",
      "B acc merged: 0.4958333333333333\n",
      "F1 merged: 0.2597402597402597\n",
      "Confusion matrix merged:\n",
      "[[33  7]\n",
      " [50 10]]\n",
      "AUC ROC: 0.46874999999999994\n",
      "#################\n",
      "Ejecutando last_2classes\n",
      "num featurs2048\n",
      "[1. 1. 1. 1. 0. 1. 0. 1. 0. 0. 1. 0. 0. 1. 0. 0. 1. 0. 0. 0. 1. 1. 0. 0.\n",
      " 1. 1. 0. 0. 0. 0. 1. 1. 1. 0. 1. 1. 0. 0. 0. 1. 1. 1. 1. 1. 1. 1. 1. 1.\n",
      " 0. 0. 1. 0. 0. 1. 1. 1. 0. 1. 0. 1. 0. 1. 1. 0. 1. 1. 0. 1. 0. 1. 1. 0.\n",
      " 1. 1. 0. 1. 1. 0. 0. 1. 1. 1. 1. 1. 1. 1. 0. 1. 1. 1. 0. 0. 0. 0. 1. 1.\n",
      " 1. 1. 1. 1.]\n",
      "[0 0 0 0 0 0 0 0 0 0 0 0 0 0 0 0 0 0 0 0 0 0 0 0 0 0 0 0 0 0 0 0 0 0 0 0 0\n",
      " 0 0 0 0 0 0 0 0 0 0 0 0 0 0 0 0 0 0 0 0 0 0 0 0 0 0 0 0 0 0 0 0 0 0 0 0 0\n",
      " 0 0 0 0 0 0 0 0 0 0 0 0 0 0 0 0 0 0 0 0 0 0 0 0 0 0]\n",
      "Accuracy: 0.4\n",
      "B acc: 0.5\n",
      "F1: 0.0\n",
      "Confusion matrix:\n",
      "[[40  0]\n",
      " [60  0]]\n",
      "AUC ROC: 0.59125\n",
      "#################\n",
      "Ejecutando sev_2classes\n"
     ]
    },
    {
     "name": "stderr",
     "output_type": "stream",
     "text": [
      "/Users/hugom/Library/Python/3.9/lib/python/site-packages/torchvision/models/_utils.py:208: UserWarning: The parameter 'pretrained' is deprecated since 0.13 and may be removed in the future, please use 'weights' instead.\n",
      "  warnings.warn(\n",
      "/Users/hugom/Library/Python/3.9/lib/python/site-packages/torchvision/models/_utils.py:223: UserWarning: Arguments other than a weight enum or `None` for 'weights' are deprecated since 0.13 and may be removed in the future. The current behavior is equivalent to passing `weights=None`.\n",
      "  warnings.warn(msg)\n",
      "/Users/hugom/Library/Python/3.9/lib/python/site-packages/torchvision/models/inception.py:43: FutureWarning: The default weight initialization of inception_v3 will be changed in future releases of torchvision. If you wish to keep the old behavior (which leads to long initialization times due to scipy/scipy#11299), please set init_weights=True.\n",
      "  warnings.warn(\n"
     ]
    },
    {
     "name": "stdout",
     "output_type": "stream",
     "text": [
      "num featurs2048\n",
      "[1. 1. 1. 1. 0. 1. 0. 1. 0. 0. 1. 0. 0. 1. 0. 0. 1. 0. 0. 0. 1. 1. 0. 0.\n",
      " 1. 1. 0. 0. 0. 0. 1. 1. 1. 0. 1. 1. 0. 0. 0. 1. 1. 1. 1. 1. 1. 1. 1. 1.\n",
      " 0. 0. 1. 0. 0. 1. 1. 1. 0. 1. 0. 1. 0. 1. 1. 0. 1. 1. 0. 1. 0. 1. 1. 0.\n",
      " 1. 1. 0. 1. 1. 0. 0. 1. 1. 1. 1. 1. 1. 1. 0. 1. 1. 1. 0. 0. 0. 0. 1. 1.\n",
      " 1. 1. 1. 1.]\n",
      "[1 1 1 1 1 1 1 1 1 1 1 1 1 1 1 1 0 1 1 1 1 1 0 1 0 1 1 1 1 1 1 0 1 1 1 0 0\n",
      " 1 0 1 0 1 1 1 1 1 1 1 1 0 0 1 1 1 1 0 1 1 1 0 0 1 1 1 1 1 1 1 1 1 1 1 1 1\n",
      " 0 1 1 0 1 1 1 1 1 1 0 1 0 1 0 1 1 1 1 1 1 1 1 1 0 1]\n",
      "Accuracy: 0.57\n",
      "B acc: 0.5083333333333333\n",
      "F1: 0.6950354609929078\n",
      "Confusion matrix:\n",
      "[[ 8 32]\n",
      " [11 49]]\n",
      "AUC ROC: 0.5064583333333333\n",
      "#################\n",
      "Ejecutando visit_2classes\n"
     ]
    },
    {
     "name": "stderr",
     "output_type": "stream",
     "text": [
      "/Users/hugom/Library/Python/3.9/lib/python/site-packages/torchvision/models/_utils.py:208: UserWarning: The parameter 'pretrained' is deprecated since 0.13 and may be removed in the future, please use 'weights' instead.\n",
      "  warnings.warn(\n",
      "/Users/hugom/Library/Python/3.9/lib/python/site-packages/torchvision/models/_utils.py:223: UserWarning: Arguments other than a weight enum or `None` for 'weights' are deprecated since 0.13 and may be removed in the future. The current behavior is equivalent to passing `weights=None`.\n",
      "  warnings.warn(msg)\n",
      "/Users/hugom/Library/Python/3.9/lib/python/site-packages/torchvision/models/inception.py:43: FutureWarning: The default weight initialization of inception_v3 will be changed in future releases of torchvision. If you wish to keep the old behavior (which leads to long initialization times due to scipy/scipy#11299), please set init_weights=True.\n",
      "  warnings.warn(\n"
     ]
    },
    {
     "name": "stdout",
     "output_type": "stream",
     "text": [
      "num featurs2048\n",
      "[1. 1. 1. 1. 0. 1. 0. 1. 0. 0. 1. 0. 0. 1. 0. 0. 1. 0. 0. 0. 1. 1. 0. 0.\n",
      " 1. 1. 0. 0. 0. 0. 1. 1. 1. 0. 1. 1. 0. 0. 0. 1. 1. 1. 1. 1. 1. 1. 1. 1.\n",
      " 0. 0. 1. 0. 0. 1. 1. 1. 0. 1. 0. 1. 0. 1. 1. 0. 1. 1. 0. 1. 0. 1. 1. 0.\n",
      " 1. 1. 0. 1. 1. 0. 0. 1. 1. 1. 1. 1. 1. 1. 0. 1. 1. 1. 0. 0. 0. 0. 1. 1.\n",
      " 1. 1. 1. 1.]\n",
      "[0 0 0 0 0 0 0 0 0 0 0 0 0 0 0 0 0 0 0 0 0 0 0 0 0 0 0 0 0 0 0 0 0 0 0 0 0\n",
      " 0 0 0 0 0 0 0 0 0 0 0 0 0 0 0 0 0 0 0 0 0 0 0 0 0 0 0 0 0 0 0 0 0 0 0 0 0\n",
      " 0 0 0 0 0 0 0 0 0 0 0 0 0 0 0 0 0 0 0 0 0 0 0 0 0 0]\n",
      "Accuracy: 0.4\n",
      "B acc: 0.5\n",
      "F1: 0.0\n",
      "Confusion matrix:\n",
      "[[40  0]\n",
      " [60  0]]\n",
      "AUC ROC: 0.5191666666666667\n",
      "#################\n"
     ]
    }
   ],
   "source": [
    "for key in config:\n",
    "    print(f\"Ejecutando {key}\")\n",
    "    executeModel(dataloader, **config[key])\n",
    "    print(\"#################\")"
   ]
  },
  {
   "cell_type": "markdown",
   "id": "68a6a313",
   "metadata": {},
   "source": [
    "# Nuevos"
   ]
  },
  {
   "cell_type": "code",
   "execution_count": 38,
   "id": "a1cde9cb",
   "metadata": {},
   "outputs": [],
   "source": [
    "configNew = {\n",
    "  \"last_cn_vs_ad\": {\n",
    "    \"weights\": \"/Users/hugom/Tesis/ExperimentosServer/muestraFull3700_8/muestraFull3700_8_dxlast_2classes_CN,AD_0_epoch42.pth\",\n",
    "    \"num_classes\": 2\n",
    "  },\n",
    "  \"sev_cn_vs_ad\": {\n",
    "    \"weights\": \"/Users/hugom/Tesis/ExperimentosServer/muestraFull3700_8/muestraFull3700_8_dxmost_severe_2classes_CN,AD_0_epoch12.pth\",\n",
    "    \"num_classes\": 2\n",
    "  },\n",
    "  \"visit_cn_vs_ad\": {\n",
    "    \"weights\": \"/Users/hugom/Tesis/ExperimentosServer/muestraFull3700_8/muestraFull3700_8_dxvisit_2classes_CN,AD_0_epoch19.pth\",\n",
    "    \"num_classes\": 2\n",
    "  },\n",
    "  \"last_mci_vs_ad\": {\n",
    "    \"weights\": \"/Users/hugom/Tesis/ExperimentosServer/muestraFull3700_8/muestraFull3700_8_dxlast_2classes_MCI,AD_0_epoch45.pth\",\n",
    "    \"num_classes\": 2\n",
    "  },\n",
    "  \"sev_mci_vs_ad\": {\n",
    "    \"weights\": \"/Users/hugom/Tesis/ExperimentosServer/muestraFull3700_8/muestraFull3700_8_dxmost_severe_2classes_MCI,AD_0_epoch17.pth\",\n",
    "    \"num_classes\": 2\n",
    "  },\n",
    "  \"visit_mci_vs_ad\": {\n",
    "    \"weights\": \"/Users/hugom/Tesis/ExperimentosServer/muestraFull3700_8/muestraFull3700_8_dxvisit_2classes_MCI,AD_0_epoch1.pth\",\n",
    "    \"num_classes\": 2\n",
    "  }\n",
    "}\n"
   ]
  },
  {
   "cell_type": "code",
   "execution_count": 39,
   "id": "2161a14b",
   "metadata": {},
   "outputs": [],
   "source": [
    "csvFile = '/Users/hugom/PET-IA/Sets/fleni-myriam-curated.csv'\n",
    "imagesFolder = '/Users/hugom/Tesis/Imagenes/fleni-stripped-preprocessed3'\n",
    "means = [mean, mean, mean]\n",
    "stds = [std, std, std]\n",
    "ebrainsTransforms = torchvision.transforms.Compose([\n",
    "    TransformGridImage(),\n",
    "    torchvision.transforms.ToTensor(),\n",
    "    torchvision.transforms.Normalize(means, stds)\n",
    "])\n",
    "dicti = {\n",
    "    \"AD\": 1,\n",
    "    \"non-AD\": 0\n",
    "}\n",
    "dataset = FleniMyriamDataset('fleni', '/Users/hugom/PET-IA/Sets/fleni-myriam-curated.csv', '/Users/hugom/Tesis/Imagenes/fleni-stripped-preprocessed3', transform = transforms)\n",
    "dataloader = torch.utils.data.DataLoader(dataset, batch_size=1, shuffle=False, num_workers=0)"
   ]
  },
  {
   "cell_type": "code",
   "execution_count": 40,
   "id": "eecf1285",
   "metadata": {},
   "outputs": [
    {
     "name": "stdout",
     "output_type": "stream",
     "text": [
      "Ejecutando last_cn_vs_ad\n"
     ]
    },
    {
     "name": "stderr",
     "output_type": "stream",
     "text": [
      "/Users/hugom/Library/Python/3.9/lib/python/site-packages/torchvision/models/_utils.py:208: UserWarning: The parameter 'pretrained' is deprecated since 0.13 and may be removed in the future, please use 'weights' instead.\n",
      "  warnings.warn(\n",
      "/Users/hugom/Library/Python/3.9/lib/python/site-packages/torchvision/models/_utils.py:223: UserWarning: Arguments other than a weight enum or `None` for 'weights' are deprecated since 0.13 and may be removed in the future. The current behavior is equivalent to passing `weights=None`.\n",
      "  warnings.warn(msg)\n",
      "/Users/hugom/Library/Python/3.9/lib/python/site-packages/torchvision/models/inception.py:43: FutureWarning: The default weight initialization of inception_v3 will be changed in future releases of torchvision. If you wish to keep the old behavior (which leads to long initialization times due to scipy/scipy#11299), please set init_weights=True.\n",
      "  warnings.warn(\n"
     ]
    },
    {
     "name": "stdout",
     "output_type": "stream",
     "text": [
      "num featurs2048\n",
      "[1. 1. 1. 1. 0. 1. 0. 1. 0. 0. 1. 0. 0. 1. 0. 0. 1. 0. 0. 0. 1. 1. 0. 0.\n",
      " 1. 1. 0. 0. 0. 0. 1. 1. 1. 0. 1. 1. 0. 0. 0. 1. 1. 1. 1. 1. 1. 1. 1. 1.\n",
      " 0. 0. 1. 0. 0. 1. 1. 1. 0. 1. 0. 1. 0. 1. 1. 0. 1. 1. 0. 1. 0. 1. 1. 0.\n",
      " 1. 1. 0. 1. 1. 0. 0. 1. 1. 1. 1. 1. 1. 1. 0. 1. 1. 1. 0. 0. 0. 0. 1. 1.\n",
      " 1. 1. 1. 1.]\n",
      "[1 0 1 1 0 1 0 1 0 0 1 0 1 1 1 1 1 1 0 0 0 1 1 1 1 0 1 1 1 1 0 1 1 1 1 1 1\n",
      " 1 1 1 1 1 0 1 1 0 0 1 1 1 1 1 1 1 1 1 1 1 1 1 1 1 0 1 1 0 1 1 0 1 1 1 1 1\n",
      " 1 0 1 1 1 0 1 0 1 0 1 1 1 0 1 0 0 1 1 1 1 0 0 0 1 1]\n",
      "Accuracy: 0.51\n",
      "B acc: 0.46249999999999997\n",
      "F1: 0.6315789473684211\n",
      "Confusion matrix:\n",
      "[[ 9 31]\n",
      " [18 42]]\n",
      "AUC ROC: 0.50125\n",
      "#################\n",
      "Ejecutando sev_cn_vs_ad\n"
     ]
    },
    {
     "name": "stderr",
     "output_type": "stream",
     "text": [
      "/Users/hugom/Library/Python/3.9/lib/python/site-packages/torchvision/models/_utils.py:208: UserWarning: The parameter 'pretrained' is deprecated since 0.13 and may be removed in the future, please use 'weights' instead.\n",
      "  warnings.warn(\n",
      "/Users/hugom/Library/Python/3.9/lib/python/site-packages/torchvision/models/_utils.py:223: UserWarning: Arguments other than a weight enum or `None` for 'weights' are deprecated since 0.13 and may be removed in the future. The current behavior is equivalent to passing `weights=None`.\n",
      "  warnings.warn(msg)\n",
      "/Users/hugom/Library/Python/3.9/lib/python/site-packages/torchvision/models/inception.py:43: FutureWarning: The default weight initialization of inception_v3 will be changed in future releases of torchvision. If you wish to keep the old behavior (which leads to long initialization times due to scipy/scipy#11299), please set init_weights=True.\n",
      "  warnings.warn(\n"
     ]
    },
    {
     "name": "stdout",
     "output_type": "stream",
     "text": [
      "num featurs2048\n",
      "[1. 1. 1. 1. 0. 1. 0. 1. 0. 0. 1. 0. 0. 1. 0. 0. 1. 0. 0. 0. 1. 1. 0. 0.\n",
      " 1. 1. 0. 0. 0. 0. 1. 1. 1. 0. 1. 1. 0. 0. 0. 1. 1. 1. 1. 1. 1. 1. 1. 1.\n",
      " 0. 0. 1. 0. 0. 1. 1. 1. 0. 1. 0. 1. 0. 1. 1. 0. 1. 1. 0. 1. 0. 1. 1. 0.\n",
      " 1. 1. 0. 1. 1. 0. 0. 1. 1. 1. 1. 1. 1. 1. 0. 1. 1. 1. 0. 0. 0. 0. 1. 1.\n",
      " 1. 1. 1. 1.]\n",
      "[1 1 1 1 1 1 1 1 1 1 1 1 1 1 1 1 1 1 1 1 1 1 1 1 1 1 1 1 1 1 1 1 1 1 1 1 1\n",
      " 1 1 1 1 1 1 1 1 1 1 1 1 1 1 1 1 1 1 1 1 1 1 1 1 1 1 1 1 1 1 1 1 1 1 1 1 1\n",
      " 1 1 1 1 1 1 1 1 1 1 1 1 1 1 1 1 1 1 1 1 1 1 1 1 1 1]\n",
      "Accuracy: 0.6\n",
      "B acc: 0.5\n",
      "F1: 0.7499999999999999\n",
      "Confusion matrix:\n",
      "[[ 0 40]\n",
      " [ 0 60]]\n",
      "AUC ROC: 0.5533333333333333\n",
      "#################\n",
      "Ejecutando visit_cn_vs_ad\n"
     ]
    },
    {
     "name": "stderr",
     "output_type": "stream",
     "text": [
      "/Users/hugom/Library/Python/3.9/lib/python/site-packages/torchvision/models/_utils.py:208: UserWarning: The parameter 'pretrained' is deprecated since 0.13 and may be removed in the future, please use 'weights' instead.\n",
      "  warnings.warn(\n",
      "/Users/hugom/Library/Python/3.9/lib/python/site-packages/torchvision/models/_utils.py:223: UserWarning: Arguments other than a weight enum or `None` for 'weights' are deprecated since 0.13 and may be removed in the future. The current behavior is equivalent to passing `weights=None`.\n",
      "  warnings.warn(msg)\n",
      "/Users/hugom/Library/Python/3.9/lib/python/site-packages/torchvision/models/inception.py:43: FutureWarning: The default weight initialization of inception_v3 will be changed in future releases of torchvision. If you wish to keep the old behavior (which leads to long initialization times due to scipy/scipy#11299), please set init_weights=True.\n",
      "  warnings.warn(\n"
     ]
    },
    {
     "name": "stdout",
     "output_type": "stream",
     "text": [
      "num featurs2048\n",
      "[1. 1. 1. 1. 0. 1. 0. 1. 0. 0. 1. 0. 0. 1. 0. 0. 1. 0. 0. 0. 1. 1. 0. 0.\n",
      " 1. 1. 0. 0. 0. 0. 1. 1. 1. 0. 1. 1. 0. 0. 0. 1. 1. 1. 1. 1. 1. 1. 1. 1.\n",
      " 0. 0. 1. 0. 0. 1. 1. 1. 0. 1. 0. 1. 0. 1. 1. 0. 1. 1. 0. 1. 0. 1. 1. 0.\n",
      " 1. 1. 0. 1. 1. 0. 0. 1. 1. 1. 1. 1. 1. 1. 0. 1. 1. 1. 0. 0. 0. 0. 1. 1.\n",
      " 1. 1. 1. 1.]\n",
      "[0 0 0 0 0 0 0 0 0 0 1 0 1 1 0 0 0 0 1 0 0 1 0 0 0 0 0 0 0 0 0 0 0 0 0 0 0\n",
      " 0 0 0 0 0 0 0 1 0 0 0 0 0 0 0 0 0 0 0 0 0 1 0 0 0 0 0 0 0 0 0 0 1 0 0 1 0\n",
      " 0 1 0 0 0 0 0 0 0 0 0 0 0 0 0 0 1 0 1 0 0 0 1 1 0 1]\n",
      "Accuracy: 0.45\n",
      "B acc: 0.5208333333333334\n",
      "F1: 0.26666666666666666\n",
      "Confusion matrix:\n",
      "[[35  5]\n",
      " [50 10]]\n",
      "AUC ROC: 0.5579166666666667\n",
      "#################\n",
      "Ejecutando last_mci_vs_ad\n"
     ]
    },
    {
     "name": "stderr",
     "output_type": "stream",
     "text": [
      "/Users/hugom/Library/Python/3.9/lib/python/site-packages/torchvision/models/_utils.py:208: UserWarning: The parameter 'pretrained' is deprecated since 0.13 and may be removed in the future, please use 'weights' instead.\n",
      "  warnings.warn(\n",
      "/Users/hugom/Library/Python/3.9/lib/python/site-packages/torchvision/models/_utils.py:223: UserWarning: Arguments other than a weight enum or `None` for 'weights' are deprecated since 0.13 and may be removed in the future. The current behavior is equivalent to passing `weights=None`.\n",
      "  warnings.warn(msg)\n",
      "/Users/hugom/Library/Python/3.9/lib/python/site-packages/torchvision/models/inception.py:43: FutureWarning: The default weight initialization of inception_v3 will be changed in future releases of torchvision. If you wish to keep the old behavior (which leads to long initialization times due to scipy/scipy#11299), please set init_weights=True.\n",
      "  warnings.warn(\n"
     ]
    },
    {
     "name": "stdout",
     "output_type": "stream",
     "text": [
      "num featurs2048\n",
      "[1. 1. 1. 1. 0. 1. 0. 1. 0. 0. 1. 0. 0. 1. 0. 0. 1. 0. 0. 0. 1. 1. 0. 0.\n",
      " 1. 1. 0. 0. 0. 0. 1. 1. 1. 0. 1. 1. 0. 0. 0. 1. 1. 1. 1. 1. 1. 1. 1. 1.\n",
      " 0. 0. 1. 0. 0. 1. 1. 1. 0. 1. 0. 1. 0. 1. 1. 0. 1. 1. 0. 1. 0. 1. 1. 0.\n",
      " 1. 1. 0. 1. 1. 0. 0. 1. 1. 1. 1. 1. 1. 1. 0. 1. 1. 1. 0. 0. 0. 0. 1. 1.\n",
      " 1. 1. 1. 1.]\n",
      "[1 0 1 0 0 0 0 0 0 0 0 0 0 0 1 0 1 0 0 0 0 0 1 0 0 0 0 0 0 0 0 1 0 1 0 1 1\n",
      " 0 1 0 1 0 0 1 0 0 0 1 1 1 1 1 0 0 0 0 0 1 0 0 1 0 0 1 0 0 1 0 0 0 0 0 0 0\n",
      " 0 0 1 0 0 0 1 0 0 0 1 0 1 0 1 0 0 0 0 0 0 0 0 0 1 0]\n",
      "Accuracy: 0.43\n",
      "B acc: 0.475\n",
      "F1: 0.3448275862068966\n",
      "Confusion matrix:\n",
      "[[28 12]\n",
      " [45 15]]\n",
      "AUC ROC: 0.49833333333333335\n",
      "#################\n",
      "Ejecutando sev_mci_vs_ad\n"
     ]
    },
    {
     "name": "stderr",
     "output_type": "stream",
     "text": [
      "/Users/hugom/Library/Python/3.9/lib/python/site-packages/torchvision/models/_utils.py:208: UserWarning: The parameter 'pretrained' is deprecated since 0.13 and may be removed in the future, please use 'weights' instead.\n",
      "  warnings.warn(\n",
      "/Users/hugom/Library/Python/3.9/lib/python/site-packages/torchvision/models/_utils.py:223: UserWarning: Arguments other than a weight enum or `None` for 'weights' are deprecated since 0.13 and may be removed in the future. The current behavior is equivalent to passing `weights=None`.\n",
      "  warnings.warn(msg)\n",
      "/Users/hugom/Library/Python/3.9/lib/python/site-packages/torchvision/models/inception.py:43: FutureWarning: The default weight initialization of inception_v3 will be changed in future releases of torchvision. If you wish to keep the old behavior (which leads to long initialization times due to scipy/scipy#11299), please set init_weights=True.\n",
      "  warnings.warn(\n"
     ]
    },
    {
     "name": "stdout",
     "output_type": "stream",
     "text": [
      "num featurs2048\n",
      "[1. 1. 1. 1. 0. 1. 0. 1. 0. 0. 1. 0. 0. 1. 0. 0. 1. 0. 0. 0. 1. 1. 0. 0.\n",
      " 1. 1. 0. 0. 0. 0. 1. 1. 1. 0. 1. 1. 0. 0. 0. 1. 1. 1. 1. 1. 1. 1. 1. 1.\n",
      " 0. 0. 1. 0. 0. 1. 1. 1. 0. 1. 0. 1. 0. 1. 1. 0. 1. 1. 0. 1. 0. 1. 1. 0.\n",
      " 1. 1. 0. 1. 1. 0. 0. 1. 1. 1. 1. 1. 1. 1. 0. 1. 1. 1. 0. 0. 0. 0. 1. 1.\n",
      " 1. 1. 1. 1.]\n",
      "[0 1 0 0 1 0 0 1 1 1 0 1 0 0 0 1 0 0 0 1 1 0 0 0 0 1 0 0 0 0 1 0 0 0 0 0 0\n",
      " 0 0 0 0 0 1 1 0 1 1 0 0 0 0 0 0 1 0 0 0 0 0 0 0 0 1 0 0 1 0 0 1 0 0 0 0 0\n",
      " 0 0 0 0 0 1 0 1 0 1 0 0 0 0 0 1 0 0 0 0 0 1 0 1 0 0]\n",
      "Accuracy: 0.51\n",
      "B acc: 0.5625\n",
      "F1: 0.4235294117647059\n",
      "Confusion matrix:\n",
      "[[33  7]\n",
      " [42 18]]\n",
      "AUC ROC: 0.48083333333333333\n",
      "#################\n",
      "Ejecutando visit_mci_vs_ad\n"
     ]
    },
    {
     "name": "stderr",
     "output_type": "stream",
     "text": [
      "/Users/hugom/Library/Python/3.9/lib/python/site-packages/torchvision/models/_utils.py:208: UserWarning: The parameter 'pretrained' is deprecated since 0.13 and may be removed in the future, please use 'weights' instead.\n",
      "  warnings.warn(\n",
      "/Users/hugom/Library/Python/3.9/lib/python/site-packages/torchvision/models/_utils.py:223: UserWarning: Arguments other than a weight enum or `None` for 'weights' are deprecated since 0.13 and may be removed in the future. The current behavior is equivalent to passing `weights=None`.\n",
      "  warnings.warn(msg)\n",
      "/Users/hugom/Library/Python/3.9/lib/python/site-packages/torchvision/models/inception.py:43: FutureWarning: The default weight initialization of inception_v3 will be changed in future releases of torchvision. If you wish to keep the old behavior (which leads to long initialization times due to scipy/scipy#11299), please set init_weights=True.\n",
      "  warnings.warn(\n"
     ]
    },
    {
     "name": "stdout",
     "output_type": "stream",
     "text": [
      "num featurs2048\n",
      "[1. 1. 1. 1. 0. 1. 0. 1. 0. 0. 1. 0. 0. 1. 0. 0. 1. 0. 0. 0. 1. 1. 0. 0.\n",
      " 1. 1. 0. 0. 0. 0. 1. 1. 1. 0. 1. 1. 0. 0. 0. 1. 1. 1. 1. 1. 1. 1. 1. 1.\n",
      " 0. 0. 1. 0. 0. 1. 1. 1. 0. 1. 0. 1. 0. 1. 1. 0. 1. 1. 0. 1. 0. 1. 1. 0.\n",
      " 1. 1. 0. 1. 1. 0. 0. 1. 1. 1. 1. 1. 1. 1. 0. 1. 1. 1. 0. 0. 0. 0. 1. 1.\n",
      " 1. 1. 1. 1.]\n",
      "[0 0 0 0 0 0 0 0 0 0 0 0 0 0 0 0 0 0 0 0 0 0 0 0 0 0 0 0 0 0 0 0 0 0 0 0 0\n",
      " 0 0 0 0 0 0 0 0 0 0 0 0 0 0 0 0 1 0 0 0 0 0 0 0 0 0 0 0 0 0 0 0 0 0 0 0 0\n",
      " 0 0 0 0 0 0 0 0 0 0 0 0 0 0 0 0 0 0 0 0 0 0 0 0 0 0]\n",
      "Accuracy: 0.41\n",
      "B acc: 0.5083333333333333\n",
      "F1: 0.03278688524590164\n",
      "Confusion matrix:\n",
      "[[40  0]\n",
      " [59  1]]\n",
      "AUC ROC: 0.5175\n",
      "#################\n"
     ]
    }
   ],
   "source": [
    "for key in configNew:\n",
    "    print(f\"Ejecutando {key}\")\n",
    "    executeModel(dataloader, **configNew[key])\n",
    "    print(\"#################\")"
   ]
  },
  {
   "cell_type": "code",
   "execution_count": null,
   "id": "187ca3de",
   "metadata": {},
   "outputs": [],
   "source": []
  }
 ],
 "metadata": {
  "kernelspec": {
   "display_name": "Python 3 (ipykernel)",
   "language": "python",
   "name": "python3"
  },
  "language_info": {
   "codemirror_mode": {
    "name": "ipython",
    "version": 3
   },
   "file_extension": ".py",
   "mimetype": "text/x-python",
   "name": "python",
   "nbconvert_exporter": "python",
   "pygments_lexer": "ipython3",
   "version": "3.9.6"
  }
 },
 "nbformat": 4,
 "nbformat_minor": 5
}
