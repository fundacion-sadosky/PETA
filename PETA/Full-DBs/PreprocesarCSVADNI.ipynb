{
 "cells": [
  {
   "cell_type": "markdown",
   "id": "57cc7685",
   "metadata": {},
   "source": [
    "Toma un archivo csv de ADNI y genera un archivo para train, otro para validation y otro para test."
   ]
  },
  {
   "cell_type": "code",
   "execution_count": 98,
   "id": "e4466074",
   "metadata": {},
   "outputs": [],
   "source": [
    "trainProportion = 0.8\n",
    "valProportion = 0.1\n",
    "testProportion = 0.1\n",
    "inputFile = 'ADNI-Full-PostProc/ADNI-FULL-PostProc_3_01_2023_UniformResolution.csv'\n",
    "outputFolder = '/Users/hugom/PET-IA/Full-DBs/ADNI-MUESTRA-FULL3700'\n",
    "outputFilesPrefix = 'Muestra3700_80_10_10'\n",
    "randomState = 131254214"
   ]
  },
  {
   "cell_type": "code",
   "execution_count": 40,
   "id": "0cadfc91",
   "metadata": {},
   "outputs": [],
   "source": [
    "import pandas as pd\n",
    "import os\n",
    "from os import path\n",
    "import math"
   ]
  },
  {
   "cell_type": "code",
   "execution_count": 99,
   "id": "ddd91ada",
   "metadata": {},
   "outputs": [],
   "source": [
    "trainOutputFile = path.join(outputFolder, outputFilesPrefix + '_train.csv')\n",
    "valOutputFile = path.join(outputFolder, outputFilesPrefix + '_val.csv')\n",
    "testOutputFile = path.join(outputFolder, outputFilesPrefix + '_test.csv')"
   ]
  },
  {
   "cell_type": "code",
   "execution_count": 44,
   "id": "603c980b",
   "metadata": {},
   "outputs": [],
   "source": [
    "csv = pd.read_csv(inputFile)"
   ]
  },
  {
   "cell_type": "code",
   "execution_count": 45,
   "id": "f75385c1",
   "metadata": {},
   "outputs": [
    {
     "data": {
      "text/html": [
       "<div>\n",
       "<style scoped>\n",
       "    .dataframe tbody tr th:only-of-type {\n",
       "        vertical-align: middle;\n",
       "    }\n",
       "\n",
       "    .dataframe tbody tr th {\n",
       "        vertical-align: top;\n",
       "    }\n",
       "\n",
       "    .dataframe thead th {\n",
       "        text-align: right;\n",
       "    }\n",
       "</style>\n",
       "<table border=\"1\" class=\"dataframe\">\n",
       "  <thead>\n",
       "    <tr style=\"text-align: right;\">\n",
       "      <th></th>\n",
       "      <th>Age</th>\n",
       "    </tr>\n",
       "  </thead>\n",
       "  <tbody>\n",
       "    <tr>\n",
       "      <th>count</th>\n",
       "      <td>3762.000000</td>\n",
       "    </tr>\n",
       "    <tr>\n",
       "      <th>mean</th>\n",
       "      <td>75.482988</td>\n",
       "    </tr>\n",
       "    <tr>\n",
       "      <th>std</th>\n",
       "      <td>7.349110</td>\n",
       "    </tr>\n",
       "    <tr>\n",
       "      <th>min</th>\n",
       "      <td>55.000000</td>\n",
       "    </tr>\n",
       "    <tr>\n",
       "      <th>25%</th>\n",
       "      <td>71.000000</td>\n",
       "    </tr>\n",
       "    <tr>\n",
       "      <th>50%</th>\n",
       "      <td>76.000000</td>\n",
       "    </tr>\n",
       "    <tr>\n",
       "      <th>75%</th>\n",
       "      <td>81.000000</td>\n",
       "    </tr>\n",
       "    <tr>\n",
       "      <th>max</th>\n",
       "      <td>96.000000</td>\n",
       "    </tr>\n",
       "  </tbody>\n",
       "</table>\n",
       "</div>"
      ],
      "text/plain": [
       "               Age\n",
       "count  3762.000000\n",
       "mean     75.482988\n",
       "std       7.349110\n",
       "min      55.000000\n",
       "25%      71.000000\n",
       "50%      76.000000\n",
       "75%      81.000000\n",
       "max      96.000000"
      ]
     },
     "execution_count": 45,
     "metadata": {},
     "output_type": "execute_result"
    }
   ],
   "source": [
    "csv.describe()"
   ]
  },
  {
   "cell_type": "code",
   "execution_count": 67,
   "id": "7fc0408f",
   "metadata": {},
   "outputs": [],
   "source": []
  },
  {
   "cell_type": "code",
   "execution_count": 77,
   "id": "dd193e01",
   "metadata": {},
   "outputs": [],
   "source": [
    "csvAD = csv[csv['Group'] == 'AD'].copy(deep=True)\n",
    "csvMCI = csv[(csv['Group'] == 'MCI') | (csv['Group'] == 'LMCI') | (csv['Group'] == 'EMCI')].copy(deep=True)\n",
    "csvCN = csv[csv['Group'] == 'CN'].copy(deep=True)"
   ]
  },
  {
   "cell_type": "code",
   "execution_count": 78,
   "id": "d1f8b21c",
   "metadata": {},
   "outputs": [
    {
     "data": {
      "text/plain": [
       "555"
      ]
     },
     "execution_count": 78,
     "metadata": {},
     "output_type": "execute_result"
    }
   ],
   "source": [
    "len(csvAD)"
   ]
  },
  {
   "cell_type": "code",
   "execution_count": 79,
   "id": "b927879b",
   "metadata": {},
   "outputs": [
    {
     "data": {
      "text/plain": [
       "2147"
      ]
     },
     "execution_count": 79,
     "metadata": {},
     "output_type": "execute_result"
    }
   ],
   "source": [
    "len(csvMCI)"
   ]
  },
  {
   "cell_type": "code",
   "execution_count": 80,
   "id": "ae292ff3",
   "metadata": {},
   "outputs": [
    {
     "data": {
      "text/plain": [
       "949"
      ]
     },
     "execution_count": 80,
     "metadata": {},
     "output_type": "execute_result"
    }
   ],
   "source": [
    "len(csvCN)"
   ]
  },
  {
   "cell_type": "code",
   "execution_count": 81,
   "id": "f9905d83",
   "metadata": {},
   "outputs": [],
   "source": [
    "trainAD = math.floor(len(csvAD) * trainProportion)\n",
    "valAD = math.floor(len(csvAD) * valProportion)\n",
    "testAD = len(csvAD) - trainAD - valAD\n",
    "\n",
    "trainCN = math.floor(len(csvCN) * trainProportion)\n",
    "valCN = math.floor(len(csvCN) * valProportion)\n",
    "testCN = len(csvCN) - trainCN - valCN\n",
    "\n",
    "trainMCI = math.floor(len(csvMCI) * trainProportion)\n",
    "valMCI = math.floor(len(csvMCI) * valProportion)\n",
    "testMCI = len(csvMCI)  - trainMCI - valMCI"
   ]
  },
  {
   "cell_type": "code",
   "execution_count": 82,
   "id": "7b9dfc8d",
   "metadata": {},
   "outputs": [
    {
     "data": {
      "text/html": [
       "<div>\n",
       "<style scoped>\n",
       "    .dataframe tbody tr th:only-of-type {\n",
       "        vertical-align: middle;\n",
       "    }\n",
       "\n",
       "    .dataframe tbody tr th {\n",
       "        vertical-align: top;\n",
       "    }\n",
       "\n",
       "    .dataframe thead th {\n",
       "        text-align: right;\n",
       "    }\n",
       "</style>\n",
       "<table border=\"1\" class=\"dataframe\">\n",
       "  <thead>\n",
       "    <tr style=\"text-align: right;\">\n",
       "      <th></th>\n",
       "      <th>Age</th>\n",
       "    </tr>\n",
       "  </thead>\n",
       "  <tbody>\n",
       "    <tr>\n",
       "      <th>count</th>\n",
       "      <td>444.000000</td>\n",
       "    </tr>\n",
       "    <tr>\n",
       "      <th>mean</th>\n",
       "      <td>76.036036</td>\n",
       "    </tr>\n",
       "    <tr>\n",
       "      <th>std</th>\n",
       "      <td>7.483529</td>\n",
       "    </tr>\n",
       "    <tr>\n",
       "      <th>min</th>\n",
       "      <td>56.000000</td>\n",
       "    </tr>\n",
       "    <tr>\n",
       "      <th>25%</th>\n",
       "      <td>72.000000</td>\n",
       "    </tr>\n",
       "    <tr>\n",
       "      <th>50%</th>\n",
       "      <td>76.000000</td>\n",
       "    </tr>\n",
       "    <tr>\n",
       "      <th>75%</th>\n",
       "      <td>81.000000</td>\n",
       "    </tr>\n",
       "    <tr>\n",
       "      <th>max</th>\n",
       "      <td>92.000000</td>\n",
       "    </tr>\n",
       "  </tbody>\n",
       "</table>\n",
       "</div>"
      ],
      "text/plain": [
       "              Age\n",
       "count  444.000000\n",
       "mean    76.036036\n",
       "std      7.483529\n",
       "min     56.000000\n",
       "25%     72.000000\n",
       "50%     76.000000\n",
       "75%     81.000000\n",
       "max     92.000000"
      ]
     },
     "execution_count": 82,
     "metadata": {},
     "output_type": "execute_result"
    }
   ],
   "source": [
    "# AD\n",
    "trainADSample = csvAD.sample(n = trainAD, replace=False)\n",
    "csvAD = csvAD.drop(trainADSample.index)\n",
    "trainADSample.describe()"
   ]
  },
  {
   "cell_type": "code",
   "execution_count": 83,
   "id": "a8483e93",
   "metadata": {},
   "outputs": [
    {
     "data": {
      "text/html": [
       "<div>\n",
       "<style scoped>\n",
       "    .dataframe tbody tr th:only-of-type {\n",
       "        vertical-align: middle;\n",
       "    }\n",
       "\n",
       "    .dataframe tbody tr th {\n",
       "        vertical-align: top;\n",
       "    }\n",
       "\n",
       "    .dataframe thead th {\n",
       "        text-align: right;\n",
       "    }\n",
       "</style>\n",
       "<table border=\"1\" class=\"dataframe\">\n",
       "  <thead>\n",
       "    <tr style=\"text-align: right;\">\n",
       "      <th></th>\n",
       "      <th>Age</th>\n",
       "    </tr>\n",
       "  </thead>\n",
       "  <tbody>\n",
       "    <tr>\n",
       "      <th>count</th>\n",
       "      <td>55.000000</td>\n",
       "    </tr>\n",
       "    <tr>\n",
       "      <th>mean</th>\n",
       "      <td>74.527273</td>\n",
       "    </tr>\n",
       "    <tr>\n",
       "      <th>std</th>\n",
       "      <td>7.831216</td>\n",
       "    </tr>\n",
       "    <tr>\n",
       "      <th>min</th>\n",
       "      <td>55.000000</td>\n",
       "    </tr>\n",
       "    <tr>\n",
       "      <th>25%</th>\n",
       "      <td>70.000000</td>\n",
       "    </tr>\n",
       "    <tr>\n",
       "      <th>50%</th>\n",
       "      <td>74.000000</td>\n",
       "    </tr>\n",
       "    <tr>\n",
       "      <th>75%</th>\n",
       "      <td>80.500000</td>\n",
       "    </tr>\n",
       "    <tr>\n",
       "      <th>max</th>\n",
       "      <td>88.000000</td>\n",
       "    </tr>\n",
       "  </tbody>\n",
       "</table>\n",
       "</div>"
      ],
      "text/plain": [
       "             Age\n",
       "count  55.000000\n",
       "mean   74.527273\n",
       "std     7.831216\n",
       "min    55.000000\n",
       "25%    70.000000\n",
       "50%    74.000000\n",
       "75%    80.500000\n",
       "max    88.000000"
      ]
     },
     "execution_count": 83,
     "metadata": {},
     "output_type": "execute_result"
    }
   ],
   "source": [
    "valADSample = csvAD.sample(n = valAD, replace=False)\n",
    "csvAD = csvAD.drop(valADSample.index)\n",
    "valADSample.describe()"
   ]
  },
  {
   "cell_type": "code",
   "execution_count": 84,
   "id": "09dc1233",
   "metadata": {},
   "outputs": [
    {
     "data": {
      "text/plain": [
       "56"
      ]
     },
     "execution_count": 84,
     "metadata": {},
     "output_type": "execute_result"
    }
   ],
   "source": [
    "# Test\n",
    "len(csvAD)"
   ]
  },
  {
   "cell_type": "code",
   "execution_count": 85,
   "id": "b3a811fd",
   "metadata": {},
   "outputs": [
    {
     "name": "stdout",
     "output_type": "stream",
     "text": [
      "759\n",
      "94\n"
     ]
    },
    {
     "data": {
      "text/plain": [
       "96"
      ]
     },
     "execution_count": 85,
     "metadata": {},
     "output_type": "execute_result"
    }
   ],
   "source": [
    "# CN\n",
    "trainCNSample = csvCN.sample(n = trainCN, replace=False)\n",
    "csvCN = csvCN.drop(trainCNSample.index)\n",
    "print(len(trainCNSample))\n",
    "\n",
    "valCNSample = csvCN.sample(n = valCN, replace=False)\n",
    "csvCN = csvCN.drop(valCNSample.index)\n",
    "print(len(valCNSample))\n",
    "len(csvCN)"
   ]
  },
  {
   "cell_type": "code",
   "execution_count": 86,
   "id": "56786741",
   "metadata": {},
   "outputs": [
    {
     "name": "stdout",
     "output_type": "stream",
     "text": [
      "1717\n",
      "214\n"
     ]
    },
    {
     "data": {
      "text/plain": [
       "216"
      ]
     },
     "execution_count": 86,
     "metadata": {},
     "output_type": "execute_result"
    }
   ],
   "source": [
    "# MCI\n",
    "trainMCISample = csvMCI.sample(n = trainMCI, replace=False)\n",
    "csvMCI = csvMCI.drop(trainMCISample.index)\n",
    "print(len(trainMCISample))\n",
    "\n",
    "valMCISample = csvMCI.sample(n = valMCI, replace=False)\n",
    "csvMCI = csvMCI.drop(valMCISample.index)\n",
    "print(len(valMCISample))\n",
    "len(csvMCI)"
   ]
  },
  {
   "cell_type": "code",
   "execution_count": 87,
   "id": "389b2338",
   "metadata": {},
   "outputs": [],
   "source": [
    "trainCSV = pd.DataFrame(columns=csv.columns)\n",
    "valCSV = pd.DataFrame(columns=csv.columns)\n",
    "testCSV = pd.DataFrame(columns=csv.columns)"
   ]
  },
  {
   "cell_type": "code",
   "execution_count": 89,
   "id": "44679452",
   "metadata": {},
   "outputs": [
    {
     "data": {
      "text/plain": [
       "2920"
      ]
     },
     "execution_count": 89,
     "metadata": {},
     "output_type": "execute_result"
    }
   ],
   "source": [
    "trainCSV = pd.concat([trainADSample, trainCNSample, trainMCISample], ignore_index = True)\n",
    "len(trainCSV)"
   ]
  },
  {
   "cell_type": "code",
   "execution_count": 90,
   "id": "eae95526",
   "metadata": {},
   "outputs": [
    {
     "data": {
      "text/plain": [
       "363"
      ]
     },
     "execution_count": 90,
     "metadata": {},
     "output_type": "execute_result"
    }
   ],
   "source": [
    "valCSV = pd.concat([valADSample, valCNSample, valMCISample], ignore_index = True)\n",
    "len(valCSV)"
   ]
  },
  {
   "cell_type": "code",
   "execution_count": 92,
   "id": "a549cfb3",
   "metadata": {},
   "outputs": [
    {
     "data": {
      "text/plain": [
       "368"
      ]
     },
     "execution_count": 92,
     "metadata": {},
     "output_type": "execute_result"
    }
   ],
   "source": [
    "testCSV = pd.concat([csvAD, csvCN, csvMCI], ignore_index = True)\n",
    "len(testCSV)"
   ]
  },
  {
   "cell_type": "code",
   "execution_count": 95,
   "id": "765b1d71",
   "metadata": {},
   "outputs": [
    {
     "data": {
      "text/html": [
       "<div>\n",
       "<style scoped>\n",
       "    .dataframe tbody tr th:only-of-type {\n",
       "        vertical-align: middle;\n",
       "    }\n",
       "\n",
       "    .dataframe tbody tr th {\n",
       "        vertical-align: top;\n",
       "    }\n",
       "\n",
       "    .dataframe thead th {\n",
       "        text-align: right;\n",
       "    }\n",
       "</style>\n",
       "<table border=\"1\" class=\"dataframe\">\n",
       "  <thead>\n",
       "    <tr style=\"text-align: right;\">\n",
       "      <th></th>\n",
       "      <th>index</th>\n",
       "      <th>Image Data ID</th>\n",
       "      <th>Subject</th>\n",
       "      <th>Group</th>\n",
       "      <th>Sex</th>\n",
       "      <th>Age</th>\n",
       "      <th>Visit</th>\n",
       "      <th>Modality</th>\n",
       "      <th>Description</th>\n",
       "      <th>Type</th>\n",
       "      <th>Acq Date</th>\n",
       "      <th>Format</th>\n",
       "      <th>Downloaded</th>\n",
       "    </tr>\n",
       "  </thead>\n",
       "  <tbody>\n",
       "    <tr>\n",
       "      <th>0</th>\n",
       "      <td>0</td>\n",
       "      <td>I1301874</td>\n",
       "      <td>941_S_6854</td>\n",
       "      <td>AD</td>\n",
       "      <td>M</td>\n",
       "      <td>86</td>\n",
       "      <td>bl</td>\n",
       "      <td>PET</td>\n",
       "      <td>Coreg, Avg, Std Img and Vox Siz, Uniform Resol...</td>\n",
       "      <td>Processed</td>\n",
       "      <td>2/24/2020</td>\n",
       "      <td>DCM</td>\n",
       "      <td>12/02/2022</td>\n",
       "    </tr>\n",
       "    <tr>\n",
       "      <th>1</th>\n",
       "      <td>1</td>\n",
       "      <td>I1241110</td>\n",
       "      <td>168_S_6735</td>\n",
       "      <td>AD</td>\n",
       "      <td>F</td>\n",
       "      <td>80</td>\n",
       "      <td>bl</td>\n",
       "      <td>PET</td>\n",
       "      <td>Coreg, Avg, Std Img and Vox Siz, Uniform Resol...</td>\n",
       "      <td>Processed</td>\n",
       "      <td>10/14/2019</td>\n",
       "      <td>DCM</td>\n",
       "      <td>11/29/2022</td>\n",
       "    </tr>\n",
       "    <tr>\n",
       "      <th>2</th>\n",
       "      <td>2</td>\n",
       "      <td>I425244</td>\n",
       "      <td>137_S_4672</td>\n",
       "      <td>AD</td>\n",
       "      <td>M</td>\n",
       "      <td>69</td>\n",
       "      <td>v21</td>\n",
       "      <td>PET</td>\n",
       "      <td>Coreg, Avg, Std Img and Vox Siz, Uniform Resol...</td>\n",
       "      <td>Processed</td>\n",
       "      <td>4/16/2014</td>\n",
       "      <td>DCM</td>\n",
       "      <td>1/09/2023</td>\n",
       "    </tr>\n",
       "    <tr>\n",
       "      <th>3</th>\n",
       "      <td>3</td>\n",
       "      <td>I77708</td>\n",
       "      <td>128_S_1409</td>\n",
       "      <td>AD</td>\n",
       "      <td>M</td>\n",
       "      <td>66</td>\n",
       "      <td>bl</td>\n",
       "      <td>PET</td>\n",
       "      <td>Coreg, Avg, Std Img and Vox Siz, Uniform Resol...</td>\n",
       "      <td>Processed</td>\n",
       "      <td>6/11/2007</td>\n",
       "      <td>DCM</td>\n",
       "      <td>1/09/2023</td>\n",
       "    </tr>\n",
       "    <tr>\n",
       "      <th>4</th>\n",
       "      <td>4</td>\n",
       "      <td>I349197</td>\n",
       "      <td>127_S_4992</td>\n",
       "      <td>AD</td>\n",
       "      <td>F</td>\n",
       "      <td>64</td>\n",
       "      <td>v03</td>\n",
       "      <td>PET</td>\n",
       "      <td>Coreg, Avg, Std Img and Vox Siz, Uniform Resol...</td>\n",
       "      <td>Processed</td>\n",
       "      <td>11/15/2012</td>\n",
       "      <td>DCM</td>\n",
       "      <td>11/28/2022</td>\n",
       "    </tr>\n",
       "    <tr>\n",
       "      <th>...</th>\n",
       "      <td>...</td>\n",
       "      <td>...</td>\n",
       "      <td>...</td>\n",
       "      <td>...</td>\n",
       "      <td>...</td>\n",
       "      <td>...</td>\n",
       "      <td>...</td>\n",
       "      <td>...</td>\n",
       "      <td>...</td>\n",
       "      <td>...</td>\n",
       "      <td>...</td>\n",
       "      <td>...</td>\n",
       "      <td>...</td>\n",
       "    </tr>\n",
       "    <tr>\n",
       "      <th>363</th>\n",
       "      <td>363</td>\n",
       "      <td>I858334</td>\n",
       "      <td>002_S_4799</td>\n",
       "      <td>EMCI</td>\n",
       "      <td>M</td>\n",
       "      <td>73</td>\n",
       "      <td>init</td>\n",
       "      <td>PET</td>\n",
       "      <td>Coreg, Avg, Std Img and Vox Siz, Uniform Resol...</td>\n",
       "      <td>Processed</td>\n",
       "      <td>5/24/2017</td>\n",
       "      <td>DCM</td>\n",
       "      <td>11/28/2022</td>\n",
       "    </tr>\n",
       "    <tr>\n",
       "      <th>364</th>\n",
       "      <td>364</td>\n",
       "      <td>I287870</td>\n",
       "      <td>002_S_4473</td>\n",
       "      <td>EMCI</td>\n",
       "      <td>M</td>\n",
       "      <td>75</td>\n",
       "      <td>v03</td>\n",
       "      <td>PET</td>\n",
       "      <td>Coreg, Avg, Std Img and Vox Siz, Uniform Resol...</td>\n",
       "      <td>Processed</td>\n",
       "      <td>2/28/2012</td>\n",
       "      <td>DCM</td>\n",
       "      <td>12/02/2022</td>\n",
       "    </tr>\n",
       "    <tr>\n",
       "      <th>365</th>\n",
       "      <td>365</td>\n",
       "      <td>I909462</td>\n",
       "      <td>002_S_4229</td>\n",
       "      <td>LMCI</td>\n",
       "      <td>M</td>\n",
       "      <td>72</td>\n",
       "      <td>init</td>\n",
       "      <td>PET</td>\n",
       "      <td>Coreg, Avg, Std Img and Vox Siz, Uniform Resol...</td>\n",
       "      <td>Processed</td>\n",
       "      <td>9/21/2017</td>\n",
       "      <td>DCM</td>\n",
       "      <td>12/02/2022</td>\n",
       "    </tr>\n",
       "    <tr>\n",
       "      <th>366</th>\n",
       "      <td>366</td>\n",
       "      <td>I318309</td>\n",
       "      <td>002_S_2010</td>\n",
       "      <td>EMCI</td>\n",
       "      <td>F</td>\n",
       "      <td>65</td>\n",
       "      <td>v11</td>\n",
       "      <td>PET</td>\n",
       "      <td>Coreg, Avg, Std Img and Vox Siz, Uniform Resol...</td>\n",
       "      <td>Processed</td>\n",
       "      <td>7/12/2012</td>\n",
       "      <td>DCM</td>\n",
       "      <td>12/02/2022</td>\n",
       "    </tr>\n",
       "    <tr>\n",
       "      <th>367</th>\n",
       "      <td>367</td>\n",
       "      <td>I209996</td>\n",
       "      <td>002_S_1155</td>\n",
       "      <td>MCI</td>\n",
       "      <td>M</td>\n",
       "      <td>62</td>\n",
       "      <td>m48</td>\n",
       "      <td>PET</td>\n",
       "      <td>Coreg, Avg, Std Img and Vox Siz, Uniform Resol...</td>\n",
       "      <td>Processed</td>\n",
       "      <td>1/07/2011</td>\n",
       "      <td>DCM</td>\n",
       "      <td>1/09/2023</td>\n",
       "    </tr>\n",
       "  </tbody>\n",
       "</table>\n",
       "<p>368 rows × 13 columns</p>\n",
       "</div>"
      ],
      "text/plain": [
       "     index Image Data ID     Subject Group Sex  Age Visit Modality  \\\n",
       "0        0      I1301874  941_S_6854    AD   M   86    bl      PET   \n",
       "1        1      I1241110  168_S_6735    AD   F   80    bl      PET   \n",
       "2        2       I425244  137_S_4672    AD   M   69   v21      PET   \n",
       "3        3        I77708  128_S_1409    AD   M   66    bl      PET   \n",
       "4        4       I349197  127_S_4992    AD   F   64   v03      PET   \n",
       "..     ...           ...         ...   ...  ..  ...   ...      ...   \n",
       "363    363       I858334  002_S_4799  EMCI   M   73  init      PET   \n",
       "364    364       I287870  002_S_4473  EMCI   M   75   v03      PET   \n",
       "365    365       I909462  002_S_4229  LMCI   M   72  init      PET   \n",
       "366    366       I318309  002_S_2010  EMCI   F   65   v11      PET   \n",
       "367    367       I209996  002_S_1155   MCI   M   62   m48      PET   \n",
       "\n",
       "                                           Description       Type    Acq Date  \\\n",
       "0    Coreg, Avg, Std Img and Vox Siz, Uniform Resol...  Processed   2/24/2020   \n",
       "1    Coreg, Avg, Std Img and Vox Siz, Uniform Resol...  Processed  10/14/2019   \n",
       "2    Coreg, Avg, Std Img and Vox Siz, Uniform Resol...  Processed   4/16/2014   \n",
       "3    Coreg, Avg, Std Img and Vox Siz, Uniform Resol...  Processed   6/11/2007   \n",
       "4    Coreg, Avg, Std Img and Vox Siz, Uniform Resol...  Processed  11/15/2012   \n",
       "..                                                 ...        ...         ...   \n",
       "363  Coreg, Avg, Std Img and Vox Siz, Uniform Resol...  Processed   5/24/2017   \n",
       "364  Coreg, Avg, Std Img and Vox Siz, Uniform Resol...  Processed   2/28/2012   \n",
       "365  Coreg, Avg, Std Img and Vox Siz, Uniform Resol...  Processed   9/21/2017   \n",
       "366  Coreg, Avg, Std Img and Vox Siz, Uniform Resol...  Processed   7/12/2012   \n",
       "367  Coreg, Avg, Std Img and Vox Siz, Uniform Resol...  Processed   1/07/2011   \n",
       "\n",
       "    Format  Downloaded  \n",
       "0      DCM  12/02/2022  \n",
       "1      DCM  11/29/2022  \n",
       "2      DCM   1/09/2023  \n",
       "3      DCM   1/09/2023  \n",
       "4      DCM  11/28/2022  \n",
       "..     ...         ...  \n",
       "363    DCM  11/28/2022  \n",
       "364    DCM  12/02/2022  \n",
       "365    DCM  12/02/2022  \n",
       "366    DCM  12/02/2022  \n",
       "367    DCM   1/09/2023  \n",
       "\n",
       "[368 rows x 13 columns]"
      ]
     },
     "execution_count": 95,
     "metadata": {},
     "output_type": "execute_result"
    }
   ],
   "source": [
    "trainCSV.reset_index()\n",
    "valCSV.reset_index()\n",
    "testCSV.reset_index()"
   ]
  },
  {
   "cell_type": "code",
   "execution_count": 100,
   "id": "32f8d6f2",
   "metadata": {},
   "outputs": [],
   "source": [
    "trainCSV.to_csv(trainOutputFile)\n",
    "valCSV.to_csv(valOutputFile)\n",
    "testCSV.to_csv(testOutputFile)"
   ]
  },
  {
   "cell_type": "code",
   "execution_count": null,
   "id": "ac06e86c",
   "metadata": {},
   "outputs": [],
   "source": []
  }
 ],
 "metadata": {
  "kernelspec": {
   "display_name": "Python 3 (ipykernel)",
   "language": "python",
   "name": "python3"
  },
  "language_info": {
   "codemirror_mode": {
    "name": "ipython",
    "version": 3
   },
   "file_extension": ".py",
   "mimetype": "text/x-python",
   "name": "python",
   "nbconvert_exporter": "python",
   "pygments_lexer": "ipython3",
   "version": "3.9.6"
  }
 },
 "nbformat": 4,
 "nbformat_minor": 5
}
