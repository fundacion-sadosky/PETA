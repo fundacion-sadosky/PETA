{
  "cells": [
    {
      "cell_type": "code",
      "execution_count": null,
      "metadata": {
        "colab": {
          "base_uri": "https://localhost:8080/"
        },
        "id": "xhN8vz1PQ8Wv",
        "outputId": "2de87346-bd15-486b-d3e2-702b3b316b65"
      },
      "outputs": [
        {
          "output_type": "stream",
          "name": "stdout",
          "text": [
            "Mounted at /content/gdrive\n"
          ]
        }
      ],
      "source": [
        "if 'google' in locals():\n",
        "    from google.colab import drive\n",
        "    drive.mount('/content/gdrive')"
      ]
    },
    {
      "cell_type": "code",
      "execution_count": null,
      "metadata": {
        "id": "vpyelL4yXvC0"
      },
      "outputs": [],
      "source": [
        "%matplotlib inline"
      ]
    },
    {
      "cell_type": "markdown",
      "metadata": {
        "id": "ChL61Twesn0o"
      },
      "source": []
    },
    {
      "cell_type": "code",
      "execution_count": null,
      "metadata": {
        "colab": {
          "base_uri": "https://localhost:8080/"
        },
        "id": "sRvvbIrxP5Hd",
        "outputId": "d98295d0-0e87-4b51-a0ae-5b3e56790a5d"
      },
      "outputs": [
        {
          "output_type": "stream",
          "name": "stdout",
          "text": [
            "PyTorch Version:  1.13.1+cu116\n",
            "Torchvision Version:  0.14.1+cu116\n"
          ]
        }
      ],
      "source": [
        "from __future__ import print_function, division\n",
        "import os\n",
        "import time\n",
        "import copy\n",
        "import torch\n",
        "import pandas as pd\n",
        "from skimage import io, transform\n",
        "import numpy as np\n",
        "import matplotlib.pyplot as plt\n",
        "from torch.utils.data import Dataset, DataLoader\n",
        "import torchvision\n",
        "from torchvision import transforms, utils, models, datasets\n",
        "import torch.nn as nn\n",
        "import torch.optim as optim\n",
        "import nibabel as nib\n",
        "import scipy.ndimage as ndi\n",
        "from pathlib import Path\n",
        "from PIL import Image\n",
        "import io\n",
        "import json\n",
        "import random\n",
        "\n",
        "# Ignore warnings\n",
        "import warnings\n",
        "warnings.filterwarnings(\"ignore\")\n",
        "print(\"PyTorch Version: \",torch.__version__)\n",
        "print(\"Torchvision Version: \",torchvision.__version__)"
      ]
    },
    {
      "cell_type": "markdown",
      "source": [
        "# Configuración"
      ],
      "metadata": {
        "id": "NA6iXVFtLjxW"
      }
    },
    {
      "cell_type": "code",
      "execution_count": null,
      "metadata": {
        "id": "HErqZ9GNCDq6"
      },
      "outputs": [],
      "source": [
        "imagesFolder = '/content/gdrive/MyDrive/Tesis/Imagenes/ADNI-MUESTRA-FULL'\n",
        "trainDatasetCSV = imagesFolder + '/MUESTRA_train.csv'\n",
        "valDatasetCSV =   imagesFolder + '/MUESTRA_val.csv'\n",
        "experimentName = 'MuestraFull_test'\n",
        "experimentOutputFolder = '/content/gdrive/MyDrive/Tesis/Experimentos/muestraFull'\n",
        "experimentDescription = 'Muestra con todas las imágenes de ADNI, test (2 epochs)'\n",
        "executions = 1"
      ]
    },
    {
      "cell_type": "code",
      "execution_count": null,
      "metadata": {
        "id": "VYNyT00wpzwU"
      },
      "outputs": [],
      "source": [
        "# Models to choose from [resnet, alexnet, vgg, squeezenet, densenet, inception]\n",
        "model_name = \"inception\"\n",
        "\n",
        "# Number of classes in the dataset\n",
        "num_classes = 3\n",
        "\n",
        "# Batch size for training (change depending on how much memory you have)\n",
        "batch_size = 10\n",
        "\n",
        "# Number of epochs to train for\n",
        "num_epochs = 2\n",
        "\n",
        "# Flag for feature extracting. When False, we finetune the whole model,\n",
        "#   when True we only update the reshaped layer params\n",
        "feature_extract = False\n",
        "\n",
        "usePretrained = True\n",
        "\n",
        "learningRate = 0.0001\n",
        "\n",
        "crossEntrophyWeigths = torch.tensor([485.0,283.0,1167.0])\n",
        "\n",
        "slicesToCut = 0\n",
        "\n",
        "# Data augmentation\n",
        "dataAugmentation = {\n",
        "    \"angle\": 13.0,\n",
        "    \"zoom\": 0.15,\n",
        "    \"shiftX\": 10.0,\n",
        "    \"shiftY\": 10.0,\n",
        "    \"angleTransformChance\": 0.1,\n",
        "    \"zoomTransformChance\": 0.1,\n",
        "    \"shiftTransformChance\": 0.0\n",
        "}\n",
        "dataAugmentation = {}\n",
        "\n",
        "validationCacheSize = 2000\n",
        "trainCacheSize = 300"
      ]
    },
    {
      "cell_type": "markdown",
      "source": [
        "# Ejecución"
      ],
      "metadata": {
        "id": "FtIIG97yLfMK"
      }
    },
    {
      "cell_type": "code",
      "source": [
        "f = open(os.path.join(experimentOutputFolder, experimentName + \"_params.txt\"), \"w\")\n",
        "f.write(\"batch_size: \" + str(batch_size) + \"\\n\")\n",
        "f.write(\"epochs: \" + str(num_epochs) + \"\\n\")\n",
        "f.write(\"feature_extract: \" + str(feature_extract) + \"\\n\")\n",
        "f.write(\"usePretrained: \" + str(usePretrained) + \"\\n\")\n",
        "f.write(\"learningRate: \" + str(learningRate) + \"\\n\")\n",
        "f.write(\"cross entrophy weights: \" + str(crossEntrophyWeigths) + \"\\n\")\n",
        "f.write(\"slicesToCut: \" + str(slicesToCut) + \"\\n\")\n",
        "f.write(\"dataAugmentation: \" + str(json.dumps(dataAugmentation)) + \"\\n\")\n",
        "f.write(\"executions: \" + str(executions) + \"\\n\")\n",
        "f.write(\"validationCacheSize: \" + str(validationCacheSize) + \"\\n\")\n",
        "f.write(\"trainCacheSize: \" + str(trainCacheSize) + \"\\n\")\n",
        "f.close()"
      ],
      "metadata": {
        "id": "a2ZFcEXjwezm"
      },
      "execution_count": null,
      "outputs": []
    },
    {
      "cell_type": "code",
      "source": [
        "f = open(os.path.join(experimentOutputFolder, experimentName + \"_descripcion.txt\"), \"w\")\n",
        "f.write(experimentDescription)\n",
        "f.close()"
      ],
      "metadata": {
        "id": "zJYNgYD9AC4X"
      },
      "execution_count": null,
      "outputs": []
    },
    {
      "cell_type": "code",
      "execution_count": null,
      "metadata": {
        "id": "VDba_NBLQOou"
      },
      "outputs": [],
      "source": [
        "# https://stackoverflow.com/questions/8598673/how-to-save-a-pylab-figure-into-in-memory-file-which-can-be-read-into-pil-image\n",
        "def fig2img(fig):\n",
        "    \"\"\"Convert a Matplotlib figure to a PIL Image and return it\"\"\"\n",
        "    buf = io.BytesIO()\n",
        "    fig.savefig(buf, facecolor='black', dpi = 64, transparent=False) # dpi Requerido para que la imagen sea 512x512\n",
        "    buf.seek(0)\n",
        "    img = Image.open(buf)\n",
        "    return img"
      ]
    },
    {
      "cell_type": "code",
      "execution_count": null,
      "metadata": {
        "id": "K-Z1h8wrQaiB"
      },
      "outputs": [],
      "source": [
        "def clipped_zoom(img, zoom_factor, **kwargs):\n",
        "\n",
        "    h, w = img.shape[:2]\n",
        "\n",
        "    # For multichannel images we don't want to apply the zoom factor to the RGB\n",
        "    # dimension, so instead we create a tuple of zoom factors, one per array\n",
        "    # dimension, with 1's for any trailing dimensions after the width and height.\n",
        "    zoom_tuple = (zoom_factor,) * 2 + (1,) * (img.ndim - 2)\n",
        "\n",
        "    # Zooming out\n",
        "    if zoom_factor < 1:\n",
        "\n",
        "        # Bounding box of the zoomed-out image within the output array\n",
        "        zh = int(np.round(h * zoom_factor))\n",
        "        zw = int(np.round(w * zoom_factor))\n",
        "        top = (h - zh) // 2\n",
        "        left = (w - zw) // 2\n",
        "\n",
        "        # Zero-padding\n",
        "        out = np.zeros_like(img)\n",
        "        out[top:top+zh, left:left+zw] = ndi.zoom(img, zoom_tuple, **kwargs)\n",
        "\n",
        "    # Zooming in\n",
        "    elif zoom_factor > 1:\n",
        "\n",
        "        # Bounding box of the zoomed-in region within the input array\n",
        "        zh = int(np.round(h / zoom_factor))\n",
        "        zw = int(np.round(w / zoom_factor))\n",
        "        top = (h - zh) // 2\n",
        "        left = (w - zw) // 2\n",
        "\n",
        "        out = ndi.zoom(img[top:top+zh, left:left+zw], zoom_tuple, **kwargs)\n",
        "\n",
        "        # `out` might still be slightly larger than `img` due to rounding, so\n",
        "        # trim off any extra pixels at the edges\n",
        "        trim_top = ((out.shape[0] - h) // 2)\n",
        "        trim_left = ((out.shape[1] - w) // 2)\n",
        "        out = out[trim_top:trim_top+h, trim_left:trim_left+w]\n",
        "\n",
        "    # If zoom_factor == 1, just return the input array\n",
        "    else:\n",
        "        out = img\n",
        "    return out"
      ]
    },
    {
      "cell_type": "code",
      "source": [
        "def transformGridImage(sample, angle = None, zoom = None, shiftX = None, shiftY = None, \n",
        "                        angleTransformChance = 0.1, zoomTransformChance = 0.1, shiftTransformChance = 0.1):\n",
        "    brain_vol_data = sample.get_fdata()\n",
        "    fig_rows = 4\n",
        "    fig_cols = 4\n",
        "    n_subplots = fig_rows * fig_cols\n",
        "    n_slice = brain_vol_data.shape[2]\n",
        "\n",
        "    slices_to_eliminate = slicesToCut\n",
        "\n",
        "    n_slice_padding = slices_to_eliminate // 2 # quitamos los primeros y ultimos n slices\n",
        "    n_slice = n_slice - slices_to_eliminate\n",
        "\n",
        "    step_size = n_slice / n_subplots\n",
        "\n",
        "    slice_indices = np.arange(n_slice_padding, n_slice_padding + n_slice, step = step_size)\n",
        "\n",
        "    fig, axs = plt.subplots(fig_rows, fig_cols, figsize=[10, 10], facecolor='black')\n",
        "    \n",
        "    if angle == None or angleTransformChance < random.uniform(0.0, 1.0):\n",
        "        angle = 0.0 # Disable random angle\n",
        "        \n",
        "    if zoom != None and random.uniform(0.0, 1.0) > zoomTransformChance:\n",
        "        zoom = None\n",
        "        \n",
        "    if shiftX != None and random.uniform(0.0, 1.0) > shiftTransformChance:\n",
        "        shiftX = None\n",
        "        \n",
        "    if shiftY != None and random.uniform(0.0, 1.0) > shiftTransformChance:\n",
        "        shiftY = None\n",
        "\n",
        "    idx = 0\n",
        "    for img in slice_indices:\n",
        "        processedImage = ndi.rotate(brain_vol_data[:, :, round(img)], 90.0 + angle)\n",
        "        if zoom != None:\n",
        "            processedImage = clipped_zoom(processedImage, zoom)\n",
        "        if shiftX != None:\n",
        "            processedImage = ndi.shift(processedImage, [0.0, shiftX, 0.0])\n",
        "        if shiftY != None:\n",
        "            processedImage = ndi.shift(processedImage, [shiftY, 0.0, 0.0])\n",
        "        axs.flat[idx].imshow(np.squeeze(processedImage), cmap='gray')\n",
        "        axs.flat[idx].axis('off')\n",
        "        idx += 1\n",
        "        \n",
        "    plt.tight_layout()\n",
        "\n",
        "    image = fig2img(fig)\n",
        "\n",
        "    plt.close(fig) # Para que no muestre la imágen\n",
        "    \n",
        "    return image"
      ],
      "metadata": {
        "id": "2w0W-yXe-GRA"
      },
      "execution_count": null,
      "outputs": []
    },
    {
      "cell_type": "code",
      "execution_count": null,
      "metadata": {
        "id": "vODiu92PQdIL"
      },
      "outputs": [],
      "source": [
        "# CreateGrid transform\n",
        "class CreateGrid(object):\n",
        "    \"\"\"Creates a grid from the image\n",
        "    \"\"\"\n",
        "    def __init__(self, transformArgs = {}):\n",
        "        self.transformArgs = transformArgs\n",
        "\n",
        "    def __call__(self, sample):\n",
        "        return transformGridImage(sample, **self.transformArgs)"
      ]
    },
    {
      "cell_type": "code",
      "execution_count": null,
      "metadata": {
        "id": "TX-5K8GGG-zT"
      },
      "outputs": [],
      "source": [
        "class RemoveTransparency(object):\n",
        "    def __call__(self, sample):\n",
        "      # La imagen se guarda con transparencia, removemos la dimension de indice 3\n",
        "      return sample[0:3, :, :]"
      ]
    },
    {
      "cell_type": "code",
      "execution_count": null,
      "metadata": {
        "id": "UmM3wjZ0Qfa4"
      },
      "outputs": [],
      "source": [
        "class ToLabelOutput(object):\n",
        "    def __call__(self, label):\n",
        "        if label == \"CN\":\n",
        "            return 0\n",
        "        elif label == \"AD\":\n",
        "            return 1\n",
        "        else:\n",
        "            return 2 # MCI, LMCI, EMCI"
      ]
    },
    {
      "cell_type": "code",
      "execution_count": null,
      "metadata": {
        "id": "wxq4R1JOQgyU"
      },
      "outputs": [],
      "source": [
        "class ADNIDataset(Dataset):\n",
        "    \"\"\"ADNI dataset.\"\"\"\n",
        "\n",
        "    def __init__(self, csv_file, root_dir, transform=None, target_transform = None, cacheSize = 200):\n",
        "        \"\"\"\n",
        "        Args:\n",
        "            csv_file (string): Path to the csv file with annotations.\n",
        "            root_dir (string): Directory with all the images.\n",
        "            transform (callable, optional): Optional transform to be applied\n",
        "                on a sample.\n",
        "        \"\"\"\n",
        "        self.csv = pd.read_csv(csv_file)\n",
        "        self.root_dir = root_dir\n",
        "        self.transform = transform\n",
        "        self.target_transform = target_transform\n",
        "        # file cache almacena las rutas a cada item\n",
        "        self.filename_cache = [None] * len(self)\n",
        "        # item_cache directamente almacena los items procesados\n",
        "        self.cacheSize = cacheSize\n",
        "        self.item_cache = [None] * cacheSize\n",
        "\n",
        "    def __len__(self):\n",
        "      return int(len(self.csv))\n",
        "\n",
        "    def __getitem__(self, idx):\n",
        "        if torch.is_tensor(idx):\n",
        "            idx = idx.tolist()\n",
        "\n",
        "        if self.cacheSize > 0 and self.item_cache[idx % self.cacheSize] != None:\n",
        "            item = self.item_cache[idx % self.cacheSize]\n",
        "            if item[\"id\"] == idx:\n",
        "                # item in cache\n",
        "                return item[\"image\"], item[\"label\"]\n",
        "            \n",
        "        studyID = self.csv.iloc[idx, 0]\n",
        "        subjectID = self.csv.iloc[idx, 1]\n",
        "        processFormat = self.csv.iloc[idx, 7]\n",
        "        date = self.csv.iloc[idx, 9]\n",
        "        diagnosis = self.csv.iloc[idx, 2]\n",
        "        \n",
        "        filename = self.filename_cache[idx]\n",
        "        \n",
        "        if filename == None:\n",
        "            rglob = '*'+str(studyID)+'*.nii'\n",
        "            samples = 0\n",
        "\n",
        "            for path in Path(self.root_dir).rglob(rglob):\n",
        "                filename = str(path)\n",
        "                samples =+ 1\n",
        "            \n",
        "            if samples > 1:\n",
        "                raise \"Mas de un sample. Error\"\n",
        "\n",
        "            self.filename_cache[idx] = filename\n",
        "\n",
        "        if not filename:\n",
        "            raise Exception(\"Not found filename for index \" + str(idx) + \" y studyID \" + studyID)\n",
        "            \n",
        "        brain_vol = nib.load(filename)\n",
        "\n",
        "        image = brain_vol\n",
        "        label = diagnosis\n",
        "        \n",
        "        if self.transform:\n",
        "            image = self.transform(image)\n",
        "            \n",
        "        if self.target_transform:\n",
        "            label = self.target_transform(label)\n",
        "\n",
        "        if self.cacheSize > 0 and self.item_cache[idx % self.cacheSize] == None:\n",
        "            # Storing item in cache\n",
        "            self.item_cache[idx % self.cacheSize] = {\n",
        "                \"id\": idx,\n",
        "                \"label\": label,\n",
        "                \"image\": image\n",
        "            }\n",
        "\n",
        "        return image, label"
      ]
    },
    {
      "cell_type": "code",
      "source": [
        "def printFile(text, file):\n",
        "  print(text)\n",
        "  if file != None:\n",
        "      file.write(text + \"\\n\")"
      ],
      "metadata": {
        "id": "tMPKNDmqyALS"
      },
      "execution_count": null,
      "outputs": []
    },
    {
      "cell_type": "markdown",
      "metadata": {
        "id": "zW1D_vQnpzDk"
      },
      "source": [
        "# Modelo"
      ]
    },
    {
      "cell_type": "code",
      "execution_count": null,
      "metadata": {
        "id": "m44_ZbqJvsQ9"
      },
      "outputs": [],
      "source": [
        "def train_model(model, dataloaders, criterion, optimizer, num_epochs=25, is_inception=True, logFile = None):\n",
        "    f = None\n",
        "    if logFile != None:\n",
        "        f = open(logFile, \"w\")\n",
        "\n",
        "    since = time.time()\n",
        "\n",
        "    train_acc_history = []\n",
        "    val_acc_history = []\n",
        "    train_loss_history = []\n",
        "    val_loss_history = []\n",
        "\n",
        "    best_model_wts = copy.deepcopy(model.state_dict())\n",
        "    best_acc = 0.0\n",
        "\n",
        "    for epoch in range(num_epochs):\n",
        "        printFile('Epoch {}/{}'.format(epoch, num_epochs - 1), f)\n",
        "        printFile('-' * 10, f)\n",
        "\n",
        "        # Each epoch has a training and validation phase\n",
        "        for phase in ['train', 'val']:\n",
        "            if phase == 'train':\n",
        "                model.train()  # Set model to training mode\n",
        "            else:\n",
        "                model.eval()   # Set model to evaluate mode\n",
        "\n",
        "            running_loss = 0.0\n",
        "            running_corrects = 0\n",
        "\n",
        "            # Iterate over data.\n",
        "            for inputs, labels in dataloaders[phase]:\n",
        "                inputs = inputs.to(device)\n",
        "                labels = labels.to(device)\n",
        "\n",
        "                # zero the parameter gradients\n",
        "                optimizer.zero_grad()\n",
        "\n",
        "                # forward\n",
        "                # track history if only in train\n",
        "                with torch.set_grad_enabled(phase == 'train'):\n",
        "                    # Get model outputs and calculate loss\n",
        "                    # Special case for inception because in training it has an auxiliary output. In train\n",
        "                    #   mode we calculate the loss by summing the final output and the auxiliary output\n",
        "                    #   but in testing we only consider the final output.\n",
        "                    if is_inception and phase == 'train':\n",
        "                        # From https://discuss.pytorch.org/t/how-to-optimize-inception-model-with-auxiliary-classifiers/7958\n",
        "                        # No usamos el aux\n",
        "                        #outputs, aux_outputs = model(inputs)\n",
        "                        #loss1 = criterion(outputs, labels)\n",
        "                        #loss2 = criterion(aux_outputs, labels)\n",
        "                        #loss = loss1 + 0.4*loss2\n",
        "                        outputs, aux_outputs = model(inputs)\n",
        "                        loss = criterion(outputs, labels)\n",
        "                    else:\n",
        "                        outputs = model(inputs)\n",
        "                        loss = criterion(outputs, labels)\n",
        "\n",
        "                    _, preds = torch.max(outputs, 1)\n",
        "\n",
        "                    # backward + optimize only if in training phase\n",
        "                    if phase == 'train':\n",
        "                        loss.backward()\n",
        "                        optimizer.step()\n",
        "\n",
        "                # statistics\n",
        "                running_loss += loss.item() * inputs.size(0)\n",
        "                running_corrects += torch.sum(preds == labels.data)\n",
        "\n",
        "            epoch_loss = running_loss / len(dataloaders[phase].dataset)\n",
        "            epoch_acc = running_corrects.double() / len(dataloaders[phase].dataset)\n",
        "\n",
        "            printFile('{} Loss: {:.4f} Acc: {:.4f}'.format(phase, epoch_loss, epoch_acc), f)\n",
        "\n",
        "            # deep copy the model\n",
        "            if phase == 'val' and epoch_acc > best_acc:\n",
        "                best_acc = epoch_acc\n",
        "                best_model_wts = copy.deepcopy(model.state_dict())\n",
        "            if phase == 'val':\n",
        "                val_acc_history.append(epoch_acc)\n",
        "                val_loss_history.append(epoch_loss)\n",
        "            if phase == 'train':\n",
        "                train_acc_history.append(epoch_acc)\n",
        "                train_loss_history.append(epoch_loss)\n",
        "            \n",
        "\n",
        "    time_elapsed = time.time() - since\n",
        "    printFile('Training complete in {:.0f}m {:.0f}s'.format(time_elapsed // 60, time_elapsed % 60), f)\n",
        "    printFile('Best val Acc: {:4f}'.format(best_acc), f)\n",
        "\n",
        "    # load best model weights\n",
        "    model.load_state_dict(best_model_wts)\n",
        "    if logFile != None:\n",
        "        f.close()\n",
        "    return model, val_acc_history, val_loss_history, train_acc_history, train_loss_history"
      ]
    },
    {
      "cell_type": "code",
      "execution_count": null,
      "metadata": {
        "id": "Vl-UuMFJv0_S"
      },
      "outputs": [],
      "source": [
        "def set_parameter_requires_grad(model, feature_extracting):\n",
        "    if feature_extracting:\n",
        "        for param in model.parameters():\n",
        "            param.requires_grad = False"
      ]
    },
    {
      "cell_type": "markdown",
      "metadata": {
        "id": "DuMUC0zqwFLw"
      },
      "source": [
        "# Initialize and reshape inception"
      ]
    },
    {
      "cell_type": "code",
      "execution_count": null,
      "metadata": {
        "colab": {
          "base_uri": "https://localhost:8080/",
          "height": 105,
          "referenced_widgets": [
            "e58701268e414ee494812df35b750951",
            "6259ea78745743d0a45ca7229584d68c",
            "539a7687bdd04c20af58658a4ffa8033",
            "180a408371204175a1cedc7102425283",
            "349e6d4f4f3243b1aabc569383bb96b5",
            "00ac5b6fc6f540c8b882bdcb85827b67",
            "249a799f1e0442ea9828c6b96ea9ac12",
            "3d2b03fed95c4480ab44db4571d684ed",
            "9005236086394b57ac7be7480bd6106d",
            "4e7e3926a4814c9b9e93afb967fe28c6",
            "aae9c7b1a5984bbd994229c617c19693"
          ]
        },
        "id": "GqZfuwYwwLw2",
        "outputId": "c6116d48-31e9-41c7-9429-6ab010fcbc80"
      },
      "outputs": [
        {
          "output_type": "stream",
          "name": "stderr",
          "text": [
            "Downloading: \"https://download.pytorch.org/models/inception_v3_google-0cc3c7bd.pth\" to /root/.cache/torch/hub/checkpoints/inception_v3_google-0cc3c7bd.pth\n"
          ]
        },
        {
          "output_type": "display_data",
          "data": {
            "text/plain": [
              "  0%|          | 0.00/104M [00:00<?, ?B/s]"
            ],
            "application/vnd.jupyter.widget-view+json": {
              "version_major": 2,
              "version_minor": 0,
              "model_id": "e58701268e414ee494812df35b750951"
            }
          },
          "metadata": {}
        },
        {
          "output_type": "stream",
          "name": "stdout",
          "text": [
            "num featurs2048\n"
          ]
        }
      ],
      "source": [
        "def initialize_model(model_name, num_classes, feature_extract, use_pretrained=True):\n",
        "    # Initialize these variables which will be set in this if statement. Each of these\n",
        "    #   variables is model specific.\n",
        "    model_ft = None\n",
        "    input_size = 0\n",
        "\n",
        "    if model_name == \"inception\":\n",
        "        \"\"\" Inception v3\n",
        "        Be careful, expects (299,299) sized images and has auxiliary output\n",
        "        \"\"\"\n",
        "        model_ft = models.inception_v3(pretrained=use_pretrained, \n",
        "                                       aux_logits = True)\n",
        "        set_parameter_requires_grad(model_ft, feature_extract)\n",
        "        # Handle the auxilary net\n",
        "        # num_ftrs = model_ft.AuxLogits.fc.in_features\n",
        "        # model_ft.AuxLogits.fc = nn.Linear(num_ftrs, num_classes)\n",
        "        # Handle the primary net\n",
        "        num_ftrs = model_ft.fc.in_features\n",
        "        print(\"num featurs\" + str(num_ftrs))\n",
        "        # Fuente: https://github.com/bdrad/petdementiapub/blob/master/petdementia_source.py\n",
        "        model_ft.fc = nn.Sequential(\n",
        "          nn.Linear(num_ftrs,1024),\n",
        "          nn.ReLU(),\n",
        "          nn.Linear(1024,num_classes),\n",
        "        )\n",
        "          \n",
        "        input_size = 512 \n",
        "\n",
        "    else:\n",
        "        print(\"Invalid model name, exiting...\")\n",
        "        exit()\n",
        "\n",
        "    return model_ft, input_size\n",
        "\n",
        "# Initialize the model for this run\n",
        "model_ft, input_size = initialize_model(model_name, num_classes, feature_extract, use_pretrained=usePretrained)\n",
        "\n",
        "# Print the model we just instantiated\n",
        "# print(model_ft)"
      ]
    },
    {
      "cell_type": "code",
      "execution_count": null,
      "metadata": {
        "colab": {
          "base_uri": "https://localhost:8080/"
        },
        "id": "pfACeWNcwYqY",
        "outputId": "10a1584f-685b-4f4e-e342-6306b720c75a"
      },
      "outputs": [
        {
          "output_type": "stream",
          "name": "stdout",
          "text": [
            "Initializing Datasets and Dataloaders...\n"
          ]
        }
      ],
      "source": [
        "# Data augmentation and normalization for training\n",
        "# Just normalization for validation\n",
        "data_transforms = {\n",
        "    'train': transforms.Compose([\n",
        "        CreateGrid(dataAugmentation),\n",
        "        transforms.ToTensor(),\n",
        "        RemoveTransparency(),\n",
        "        transforms.Normalize([0.485, 0.456, 0.406], [0.229, 0.224, 0.225])\n",
        "    ]),\n",
        "    'val': transforms.Compose([\n",
        "        CreateGrid(),\n",
        "        transforms.ToTensor(),\n",
        "        RemoveTransparency(),\n",
        "        transforms.Normalize([0.485, 0.456, 0.406], [0.229, 0.224, 0.225])\n",
        "    ]),\n",
        "}\n",
        "\n",
        "print(\"Initializing Datasets and Dataloaders...\")\n",
        "\n",
        "# Create training and validation datasets\n",
        "\n",
        "image_datasets = {\n",
        "    'train': ADNIDataset(trainDatasetCSV, imagesFolder, transform = data_transforms['train'], target_transform =ToLabelOutput(), cacheSize = trainCacheSize ),\n",
        "    'val': ADNIDataset(valDatasetCSV, imagesFolder, transform = data_transforms['val'], target_transform =ToLabelOutput(), cacheSize = validationCacheSize )\n",
        "}\n",
        "\n",
        "# Create training and validation dataloaders\n",
        "dataloaders_dict = {x: torch.utils.data.DataLoader(image_datasets[x], batch_size=batch_size, shuffle=True, num_workers=4) for x in ['train', 'val']}\n",
        "\n",
        "# Detect if we have a GPU available\n",
        "device = torch.device(\"cuda:0\" if torch.cuda.is_available() else \"cpu\")"
      ]
    },
    {
      "cell_type": "code",
      "execution_count": null,
      "metadata": {
        "colab": {
          "base_uri": "https://localhost:8080/"
        },
        "id": "XciJ190PwerB",
        "outputId": "0c07aafd-a47f-49ba-c1d0-6f8be2d29d0b"
      },
      "outputs": [
        {
          "output_type": "stream",
          "name": "stdout",
          "text": [
            "Params to learn:\n",
            "\t Conv2d_1a_3x3.conv.weight\n",
            "\t Conv2d_1a_3x3.bn.weight\n",
            "\t Conv2d_1a_3x3.bn.bias\n",
            "\t Conv2d_2a_3x3.conv.weight\n",
            "\t Conv2d_2a_3x3.bn.weight\n",
            "\t Conv2d_2a_3x3.bn.bias\n",
            "\t Conv2d_2b_3x3.conv.weight\n",
            "\t Conv2d_2b_3x3.bn.weight\n",
            "\t Conv2d_2b_3x3.bn.bias\n",
            "\t Conv2d_3b_1x1.conv.weight\n",
            "\t Conv2d_3b_1x1.bn.weight\n",
            "\t Conv2d_3b_1x1.bn.bias\n",
            "\t Conv2d_4a_3x3.conv.weight\n",
            "\t Conv2d_4a_3x3.bn.weight\n",
            "\t Conv2d_4a_3x3.bn.bias\n",
            "\t Mixed_5b.branch1x1.conv.weight\n",
            "\t Mixed_5b.branch1x1.bn.weight\n",
            "\t Mixed_5b.branch1x1.bn.bias\n",
            "\t Mixed_5b.branch5x5_1.conv.weight\n",
            "\t Mixed_5b.branch5x5_1.bn.weight\n",
            "\t Mixed_5b.branch5x5_1.bn.bias\n",
            "\t Mixed_5b.branch5x5_2.conv.weight\n",
            "\t Mixed_5b.branch5x5_2.bn.weight\n",
            "\t Mixed_5b.branch5x5_2.bn.bias\n",
            "\t Mixed_5b.branch3x3dbl_1.conv.weight\n",
            "\t Mixed_5b.branch3x3dbl_1.bn.weight\n",
            "\t Mixed_5b.branch3x3dbl_1.bn.bias\n",
            "\t Mixed_5b.branch3x3dbl_2.conv.weight\n",
            "\t Mixed_5b.branch3x3dbl_2.bn.weight\n",
            "\t Mixed_5b.branch3x3dbl_2.bn.bias\n",
            "\t Mixed_5b.branch3x3dbl_3.conv.weight\n",
            "\t Mixed_5b.branch3x3dbl_3.bn.weight\n",
            "\t Mixed_5b.branch3x3dbl_3.bn.bias\n",
            "\t Mixed_5b.branch_pool.conv.weight\n",
            "\t Mixed_5b.branch_pool.bn.weight\n",
            "\t Mixed_5b.branch_pool.bn.bias\n",
            "\t Mixed_5c.branch1x1.conv.weight\n",
            "\t Mixed_5c.branch1x1.bn.weight\n",
            "\t Mixed_5c.branch1x1.bn.bias\n",
            "\t Mixed_5c.branch5x5_1.conv.weight\n",
            "\t Mixed_5c.branch5x5_1.bn.weight\n",
            "\t Mixed_5c.branch5x5_1.bn.bias\n",
            "\t Mixed_5c.branch5x5_2.conv.weight\n",
            "\t Mixed_5c.branch5x5_2.bn.weight\n",
            "\t Mixed_5c.branch5x5_2.bn.bias\n",
            "\t Mixed_5c.branch3x3dbl_1.conv.weight\n",
            "\t Mixed_5c.branch3x3dbl_1.bn.weight\n",
            "\t Mixed_5c.branch3x3dbl_1.bn.bias\n",
            "\t Mixed_5c.branch3x3dbl_2.conv.weight\n",
            "\t Mixed_5c.branch3x3dbl_2.bn.weight\n",
            "\t Mixed_5c.branch3x3dbl_2.bn.bias\n",
            "\t Mixed_5c.branch3x3dbl_3.conv.weight\n",
            "\t Mixed_5c.branch3x3dbl_3.bn.weight\n",
            "\t Mixed_5c.branch3x3dbl_3.bn.bias\n",
            "\t Mixed_5c.branch_pool.conv.weight\n",
            "\t Mixed_5c.branch_pool.bn.weight\n",
            "\t Mixed_5c.branch_pool.bn.bias\n",
            "\t Mixed_5d.branch1x1.conv.weight\n",
            "\t Mixed_5d.branch1x1.bn.weight\n",
            "\t Mixed_5d.branch1x1.bn.bias\n",
            "\t Mixed_5d.branch5x5_1.conv.weight\n",
            "\t Mixed_5d.branch5x5_1.bn.weight\n",
            "\t Mixed_5d.branch5x5_1.bn.bias\n",
            "\t Mixed_5d.branch5x5_2.conv.weight\n",
            "\t Mixed_5d.branch5x5_2.bn.weight\n",
            "\t Mixed_5d.branch5x5_2.bn.bias\n",
            "\t Mixed_5d.branch3x3dbl_1.conv.weight\n",
            "\t Mixed_5d.branch3x3dbl_1.bn.weight\n",
            "\t Mixed_5d.branch3x3dbl_1.bn.bias\n",
            "\t Mixed_5d.branch3x3dbl_2.conv.weight\n",
            "\t Mixed_5d.branch3x3dbl_2.bn.weight\n",
            "\t Mixed_5d.branch3x3dbl_2.bn.bias\n",
            "\t Mixed_5d.branch3x3dbl_3.conv.weight\n",
            "\t Mixed_5d.branch3x3dbl_3.bn.weight\n",
            "\t Mixed_5d.branch3x3dbl_3.bn.bias\n",
            "\t Mixed_5d.branch_pool.conv.weight\n",
            "\t Mixed_5d.branch_pool.bn.weight\n",
            "\t Mixed_5d.branch_pool.bn.bias\n",
            "\t Mixed_6a.branch3x3.conv.weight\n",
            "\t Mixed_6a.branch3x3.bn.weight\n",
            "\t Mixed_6a.branch3x3.bn.bias\n",
            "\t Mixed_6a.branch3x3dbl_1.conv.weight\n",
            "\t Mixed_6a.branch3x3dbl_1.bn.weight\n",
            "\t Mixed_6a.branch3x3dbl_1.bn.bias\n",
            "\t Mixed_6a.branch3x3dbl_2.conv.weight\n",
            "\t Mixed_6a.branch3x3dbl_2.bn.weight\n",
            "\t Mixed_6a.branch3x3dbl_2.bn.bias\n",
            "\t Mixed_6a.branch3x3dbl_3.conv.weight\n",
            "\t Mixed_6a.branch3x3dbl_3.bn.weight\n",
            "\t Mixed_6a.branch3x3dbl_3.bn.bias\n",
            "\t Mixed_6b.branch1x1.conv.weight\n",
            "\t Mixed_6b.branch1x1.bn.weight\n",
            "\t Mixed_6b.branch1x1.bn.bias\n",
            "\t Mixed_6b.branch7x7_1.conv.weight\n",
            "\t Mixed_6b.branch7x7_1.bn.weight\n",
            "\t Mixed_6b.branch7x7_1.bn.bias\n",
            "\t Mixed_6b.branch7x7_2.conv.weight\n",
            "\t Mixed_6b.branch7x7_2.bn.weight\n",
            "\t Mixed_6b.branch7x7_2.bn.bias\n",
            "\t Mixed_6b.branch7x7_3.conv.weight\n",
            "\t Mixed_6b.branch7x7_3.bn.weight\n",
            "\t Mixed_6b.branch7x7_3.bn.bias\n",
            "\t Mixed_6b.branch7x7dbl_1.conv.weight\n",
            "\t Mixed_6b.branch7x7dbl_1.bn.weight\n",
            "\t Mixed_6b.branch7x7dbl_1.bn.bias\n",
            "\t Mixed_6b.branch7x7dbl_2.conv.weight\n",
            "\t Mixed_6b.branch7x7dbl_2.bn.weight\n",
            "\t Mixed_6b.branch7x7dbl_2.bn.bias\n",
            "\t Mixed_6b.branch7x7dbl_3.conv.weight\n",
            "\t Mixed_6b.branch7x7dbl_3.bn.weight\n",
            "\t Mixed_6b.branch7x7dbl_3.bn.bias\n",
            "\t Mixed_6b.branch7x7dbl_4.conv.weight\n",
            "\t Mixed_6b.branch7x7dbl_4.bn.weight\n",
            "\t Mixed_6b.branch7x7dbl_4.bn.bias\n",
            "\t Mixed_6b.branch7x7dbl_5.conv.weight\n",
            "\t Mixed_6b.branch7x7dbl_5.bn.weight\n",
            "\t Mixed_6b.branch7x7dbl_5.bn.bias\n",
            "\t Mixed_6b.branch_pool.conv.weight\n",
            "\t Mixed_6b.branch_pool.bn.weight\n",
            "\t Mixed_6b.branch_pool.bn.bias\n",
            "\t Mixed_6c.branch1x1.conv.weight\n",
            "\t Mixed_6c.branch1x1.bn.weight\n",
            "\t Mixed_6c.branch1x1.bn.bias\n",
            "\t Mixed_6c.branch7x7_1.conv.weight\n",
            "\t Mixed_6c.branch7x7_1.bn.weight\n",
            "\t Mixed_6c.branch7x7_1.bn.bias\n",
            "\t Mixed_6c.branch7x7_2.conv.weight\n",
            "\t Mixed_6c.branch7x7_2.bn.weight\n",
            "\t Mixed_6c.branch7x7_2.bn.bias\n",
            "\t Mixed_6c.branch7x7_3.conv.weight\n",
            "\t Mixed_6c.branch7x7_3.bn.weight\n",
            "\t Mixed_6c.branch7x7_3.bn.bias\n",
            "\t Mixed_6c.branch7x7dbl_1.conv.weight\n",
            "\t Mixed_6c.branch7x7dbl_1.bn.weight\n",
            "\t Mixed_6c.branch7x7dbl_1.bn.bias\n",
            "\t Mixed_6c.branch7x7dbl_2.conv.weight\n",
            "\t Mixed_6c.branch7x7dbl_2.bn.weight\n",
            "\t Mixed_6c.branch7x7dbl_2.bn.bias\n",
            "\t Mixed_6c.branch7x7dbl_3.conv.weight\n",
            "\t Mixed_6c.branch7x7dbl_3.bn.weight\n",
            "\t Mixed_6c.branch7x7dbl_3.bn.bias\n",
            "\t Mixed_6c.branch7x7dbl_4.conv.weight\n",
            "\t Mixed_6c.branch7x7dbl_4.bn.weight\n",
            "\t Mixed_6c.branch7x7dbl_4.bn.bias\n",
            "\t Mixed_6c.branch7x7dbl_5.conv.weight\n",
            "\t Mixed_6c.branch7x7dbl_5.bn.weight\n",
            "\t Mixed_6c.branch7x7dbl_5.bn.bias\n",
            "\t Mixed_6c.branch_pool.conv.weight\n",
            "\t Mixed_6c.branch_pool.bn.weight\n",
            "\t Mixed_6c.branch_pool.bn.bias\n",
            "\t Mixed_6d.branch1x1.conv.weight\n",
            "\t Mixed_6d.branch1x1.bn.weight\n",
            "\t Mixed_6d.branch1x1.bn.bias\n",
            "\t Mixed_6d.branch7x7_1.conv.weight\n",
            "\t Mixed_6d.branch7x7_1.bn.weight\n",
            "\t Mixed_6d.branch7x7_1.bn.bias\n",
            "\t Mixed_6d.branch7x7_2.conv.weight\n",
            "\t Mixed_6d.branch7x7_2.bn.weight\n",
            "\t Mixed_6d.branch7x7_2.bn.bias\n",
            "\t Mixed_6d.branch7x7_3.conv.weight\n",
            "\t Mixed_6d.branch7x7_3.bn.weight\n",
            "\t Mixed_6d.branch7x7_3.bn.bias\n",
            "\t Mixed_6d.branch7x7dbl_1.conv.weight\n",
            "\t Mixed_6d.branch7x7dbl_1.bn.weight\n",
            "\t Mixed_6d.branch7x7dbl_1.bn.bias\n",
            "\t Mixed_6d.branch7x7dbl_2.conv.weight\n",
            "\t Mixed_6d.branch7x7dbl_2.bn.weight\n",
            "\t Mixed_6d.branch7x7dbl_2.bn.bias\n",
            "\t Mixed_6d.branch7x7dbl_3.conv.weight\n",
            "\t Mixed_6d.branch7x7dbl_3.bn.weight\n",
            "\t Mixed_6d.branch7x7dbl_3.bn.bias\n",
            "\t Mixed_6d.branch7x7dbl_4.conv.weight\n",
            "\t Mixed_6d.branch7x7dbl_4.bn.weight\n",
            "\t Mixed_6d.branch7x7dbl_4.bn.bias\n",
            "\t Mixed_6d.branch7x7dbl_5.conv.weight\n",
            "\t Mixed_6d.branch7x7dbl_5.bn.weight\n",
            "\t Mixed_6d.branch7x7dbl_5.bn.bias\n",
            "\t Mixed_6d.branch_pool.conv.weight\n",
            "\t Mixed_6d.branch_pool.bn.weight\n",
            "\t Mixed_6d.branch_pool.bn.bias\n",
            "\t Mixed_6e.branch1x1.conv.weight\n",
            "\t Mixed_6e.branch1x1.bn.weight\n",
            "\t Mixed_6e.branch1x1.bn.bias\n",
            "\t Mixed_6e.branch7x7_1.conv.weight\n",
            "\t Mixed_6e.branch7x7_1.bn.weight\n",
            "\t Mixed_6e.branch7x7_1.bn.bias\n",
            "\t Mixed_6e.branch7x7_2.conv.weight\n",
            "\t Mixed_6e.branch7x7_2.bn.weight\n",
            "\t Mixed_6e.branch7x7_2.bn.bias\n",
            "\t Mixed_6e.branch7x7_3.conv.weight\n",
            "\t Mixed_6e.branch7x7_3.bn.weight\n",
            "\t Mixed_6e.branch7x7_3.bn.bias\n",
            "\t Mixed_6e.branch7x7dbl_1.conv.weight\n",
            "\t Mixed_6e.branch7x7dbl_1.bn.weight\n",
            "\t Mixed_6e.branch7x7dbl_1.bn.bias\n",
            "\t Mixed_6e.branch7x7dbl_2.conv.weight\n",
            "\t Mixed_6e.branch7x7dbl_2.bn.weight\n",
            "\t Mixed_6e.branch7x7dbl_2.bn.bias\n",
            "\t Mixed_6e.branch7x7dbl_3.conv.weight\n",
            "\t Mixed_6e.branch7x7dbl_3.bn.weight\n",
            "\t Mixed_6e.branch7x7dbl_3.bn.bias\n",
            "\t Mixed_6e.branch7x7dbl_4.conv.weight\n",
            "\t Mixed_6e.branch7x7dbl_4.bn.weight\n",
            "\t Mixed_6e.branch7x7dbl_4.bn.bias\n",
            "\t Mixed_6e.branch7x7dbl_5.conv.weight\n",
            "\t Mixed_6e.branch7x7dbl_5.bn.weight\n",
            "\t Mixed_6e.branch7x7dbl_5.bn.bias\n",
            "\t Mixed_6e.branch_pool.conv.weight\n",
            "\t Mixed_6e.branch_pool.bn.weight\n",
            "\t Mixed_6e.branch_pool.bn.bias\n",
            "\t AuxLogits.conv0.conv.weight\n",
            "\t AuxLogits.conv0.bn.weight\n",
            "\t AuxLogits.conv0.bn.bias\n",
            "\t AuxLogits.conv1.conv.weight\n",
            "\t AuxLogits.conv1.bn.weight\n",
            "\t AuxLogits.conv1.bn.bias\n",
            "\t AuxLogits.fc.weight\n",
            "\t AuxLogits.fc.bias\n",
            "\t Mixed_7a.branch3x3_1.conv.weight\n",
            "\t Mixed_7a.branch3x3_1.bn.weight\n",
            "\t Mixed_7a.branch3x3_1.bn.bias\n",
            "\t Mixed_7a.branch3x3_2.conv.weight\n",
            "\t Mixed_7a.branch3x3_2.bn.weight\n",
            "\t Mixed_7a.branch3x3_2.bn.bias\n",
            "\t Mixed_7a.branch7x7x3_1.conv.weight\n",
            "\t Mixed_7a.branch7x7x3_1.bn.weight\n",
            "\t Mixed_7a.branch7x7x3_1.bn.bias\n",
            "\t Mixed_7a.branch7x7x3_2.conv.weight\n",
            "\t Mixed_7a.branch7x7x3_2.bn.weight\n",
            "\t Mixed_7a.branch7x7x3_2.bn.bias\n",
            "\t Mixed_7a.branch7x7x3_3.conv.weight\n",
            "\t Mixed_7a.branch7x7x3_3.bn.weight\n",
            "\t Mixed_7a.branch7x7x3_3.bn.bias\n",
            "\t Mixed_7a.branch7x7x3_4.conv.weight\n",
            "\t Mixed_7a.branch7x7x3_4.bn.weight\n",
            "\t Mixed_7a.branch7x7x3_4.bn.bias\n",
            "\t Mixed_7b.branch1x1.conv.weight\n",
            "\t Mixed_7b.branch1x1.bn.weight\n",
            "\t Mixed_7b.branch1x1.bn.bias\n",
            "\t Mixed_7b.branch3x3_1.conv.weight\n",
            "\t Mixed_7b.branch3x3_1.bn.weight\n",
            "\t Mixed_7b.branch3x3_1.bn.bias\n",
            "\t Mixed_7b.branch3x3_2a.conv.weight\n",
            "\t Mixed_7b.branch3x3_2a.bn.weight\n",
            "\t Mixed_7b.branch3x3_2a.bn.bias\n",
            "\t Mixed_7b.branch3x3_2b.conv.weight\n",
            "\t Mixed_7b.branch3x3_2b.bn.weight\n",
            "\t Mixed_7b.branch3x3_2b.bn.bias\n",
            "\t Mixed_7b.branch3x3dbl_1.conv.weight\n",
            "\t Mixed_7b.branch3x3dbl_1.bn.weight\n",
            "\t Mixed_7b.branch3x3dbl_1.bn.bias\n",
            "\t Mixed_7b.branch3x3dbl_2.conv.weight\n",
            "\t Mixed_7b.branch3x3dbl_2.bn.weight\n",
            "\t Mixed_7b.branch3x3dbl_2.bn.bias\n",
            "\t Mixed_7b.branch3x3dbl_3a.conv.weight\n",
            "\t Mixed_7b.branch3x3dbl_3a.bn.weight\n",
            "\t Mixed_7b.branch3x3dbl_3a.bn.bias\n",
            "\t Mixed_7b.branch3x3dbl_3b.conv.weight\n",
            "\t Mixed_7b.branch3x3dbl_3b.bn.weight\n",
            "\t Mixed_7b.branch3x3dbl_3b.bn.bias\n",
            "\t Mixed_7b.branch_pool.conv.weight\n",
            "\t Mixed_7b.branch_pool.bn.weight\n",
            "\t Mixed_7b.branch_pool.bn.bias\n",
            "\t Mixed_7c.branch1x1.conv.weight\n",
            "\t Mixed_7c.branch1x1.bn.weight\n",
            "\t Mixed_7c.branch1x1.bn.bias\n",
            "\t Mixed_7c.branch3x3_1.conv.weight\n",
            "\t Mixed_7c.branch3x3_1.bn.weight\n",
            "\t Mixed_7c.branch3x3_1.bn.bias\n",
            "\t Mixed_7c.branch3x3_2a.conv.weight\n",
            "\t Mixed_7c.branch3x3_2a.bn.weight\n",
            "\t Mixed_7c.branch3x3_2a.bn.bias\n",
            "\t Mixed_7c.branch3x3_2b.conv.weight\n",
            "\t Mixed_7c.branch3x3_2b.bn.weight\n",
            "\t Mixed_7c.branch3x3_2b.bn.bias\n",
            "\t Mixed_7c.branch3x3dbl_1.conv.weight\n",
            "\t Mixed_7c.branch3x3dbl_1.bn.weight\n",
            "\t Mixed_7c.branch3x3dbl_1.bn.bias\n",
            "\t Mixed_7c.branch3x3dbl_2.conv.weight\n",
            "\t Mixed_7c.branch3x3dbl_2.bn.weight\n",
            "\t Mixed_7c.branch3x3dbl_2.bn.bias\n",
            "\t Mixed_7c.branch3x3dbl_3a.conv.weight\n",
            "\t Mixed_7c.branch3x3dbl_3a.bn.weight\n",
            "\t Mixed_7c.branch3x3dbl_3a.bn.bias\n",
            "\t Mixed_7c.branch3x3dbl_3b.conv.weight\n",
            "\t Mixed_7c.branch3x3dbl_3b.bn.weight\n",
            "\t Mixed_7c.branch3x3dbl_3b.bn.bias\n",
            "\t Mixed_7c.branch_pool.conv.weight\n",
            "\t Mixed_7c.branch_pool.bn.weight\n",
            "\t Mixed_7c.branch_pool.bn.bias\n",
            "\t fc.0.weight\n",
            "\t fc.0.bias\n",
            "\t fc.2.weight\n",
            "\t fc.2.bias\n"
          ]
        }
      ],
      "source": [
        "# Send the model to GPU\n",
        "model_ft = model_ft.to(device)\n",
        "\n",
        "# Gather the parameters to be optimized/updated in this run. If we are\n",
        "#  finetuning we will be updating all parameters. However, if we are\n",
        "#  doing feature extract method, we will only update the parameters\n",
        "#  that we have just initialized, i.e. the parameters with requires_grad\n",
        "#  is True.\n",
        "params_to_update = model_ft.parameters()\n",
        "print(\"Params to learn:\")\n",
        "if feature_extract:\n",
        "    params_to_update = []\n",
        "    for name,param in model_ft.named_parameters():\n",
        "        if param.requires_grad == True:\n",
        "            params_to_update.append(param)\n",
        "            print(\"\\t\",name)\n",
        "else:\n",
        "    for name,param in model_ft.named_parameters():\n",
        "        if param.requires_grad == True:\n",
        "            print(\"\\t\",name)\n",
        "\n",
        "# Observe that all parameters are being optimized\n",
        "optimizer_ft = optim.Adam(params_to_update, lr=learningRate)\n"
      ]
    },
    {
      "cell_type": "code",
      "execution_count": null,
      "metadata": {
        "id": "CVJl5AvUqK13"
      },
      "outputs": [],
      "source": [
        "def test_model(model,dataloaders,device):\n",
        "    classStats = [{\n",
        "        'fn': 0,\n",
        "        'tn': 0,\n",
        "        'tp': 0,\n",
        "        'fp': 0,\n",
        "        'n': 0,\n",
        "    } for i in range(num_classes)]\n",
        "    correctlyPredicted = 0\n",
        "    n = 0\n",
        "    model.eval()\n",
        "    with torch.no_grad():\n",
        "        for inputs, labels in dataloaders['val']:\n",
        "            inputs = inputs.to(device)\n",
        "            labels = labels.to(device)\n",
        "            outputs = model(inputs)\n",
        "            _, preds = torch.max(outputs, 1)\n",
        "            \n",
        "            # Iteramos para chequear estadisticas\n",
        "            for i, correctClass in enumerate(labels.data):\n",
        "              n += 1\n",
        "              predictedClass = int(preds[i].item())\n",
        "              correctClass = int(correctClass.item())\n",
        "              classStats[correctClass]['n'] += 1\n",
        "              if correctClass == predictedClass:\n",
        "                  correctlyPredicted += 1\n",
        "                  classStats[correctClass]['tp'] += 1\n",
        "                  for i in range(num_classes):\n",
        "                      if i != correctClass:\n",
        "                          classStats[correctClass]['tn'] += 1\n",
        "              else:\n",
        "                  classStats[correctClass]['fn'] += 1\n",
        "                  classStats[predictedClass]['fp'] += 1\n",
        "                  for i in range(num_classes):\n",
        "                      if i != correctClass and i != predictedClass:\n",
        "                          classStats[correctClass]['tn'] += 1\n",
        "    accuracy = correctlyPredicted * 1.0 / n\n",
        "    return classStats, accuracy"
      ]
    },
    {
      "cell_type": "code",
      "source": [
        "def printClassStats(stats):\n",
        "  recall = sensitivity = stats['tp'] / (stats['tp'] + stats['fn']) # prob positive test result\n",
        "  specificity = stats['tn'] / (stats['tn'] + stats['fp'])          # prob negative test result\n",
        "  if stats['tp'] + stats['fp'] > 0:\n",
        "    precision = stats['tp'] / (stats['tp'] + stats['fp'])          # prob of recognized positive actually correct\n",
        "  else:\n",
        "    precision = 1\n",
        "    printFile(\"Setting precision as 1 but no positive value has been reported, so this is placeholder\", f)\n",
        "  if precision + recall == 0:\n",
        "    printFile(\"Setting f1 as 0 because precision + recall is ZERO\", f)\n",
        "    f1 = 0.0\n",
        "  else:\n",
        "    f1 = 2 * (precision * recall) / ( precision + recall )\n",
        "  printFile(\"Sensitivity (%): \" + str(round(sensitivity * 100)), f)\n",
        "  printFile(\"Specificity (%): \" + str(round(specificity * 100)), f)\n",
        "  printFile(\"Precision  (%): \" + str(round(precision * 100)), f)\n",
        "  printFile(\"F1 Score  (%): \" + str(round(f1 * 100)), f)\n",
        "  printFile(\"Number of images: \" + str(stats['n']), f)\n",
        "  return recall, specificity, precision, f1"
      ],
      "metadata": {
        "id": "aK3auwSS05Le"
      },
      "execution_count": null,
      "outputs": []
    },
    {
      "cell_type": "code",
      "execution_count": null,
      "metadata": {
        "colab": {
          "base_uri": "https://localhost:8080/",
          "height": 714
        },
        "id": "D84am68jwlX6",
        "outputId": "cc22de5e-cbba-441e-c43b-68bc7d3b29dc"
      },
      "outputs": [
        {
          "output_type": "stream",
          "name": "stdout",
          "text": [
            "--- Execution 0 begin ---\n",
            "Epoch 0/1\n",
            "----------\n",
            "train Loss: 0.6378 Acc: 0.6016\n",
            "val Loss: 0.6225 Acc: 0.6019\n",
            "Epoch 1/1\n",
            "----------\n",
            "train Loss: 0.5616 Acc: 0.6036\n",
            "val Loss: 0.8363 Acc: 0.6019\n",
            "Training complete in 210m 43s\n",
            "Best val Acc: 0.601852\n",
            "accuracy: 0.6018518518518519\n",
            "CN stats: \n",
            "Setting precision as 1 but no positive value has been reported, so this is placeholder\n",
            "Sensitivity (%): 0\n",
            "Specificity (%): 100\n",
            "Precision  (%): 100\n",
            "F1 Score  (%): 0\n",
            "Number of images: 54\n",
            "\n",
            "AD stats: \n",
            "Setting precision as 1 but no positive value has been reported, so this is placeholder\n",
            "Sensitivity (%): 0\n",
            "Specificity (%): 100\n",
            "Precision  (%): 100\n",
            "F1 Score  (%): 0\n",
            "Number of images: 32\n",
            "\n",
            "MCI stats: \n",
            "Sensitivity (%): 100\n",
            "Specificity (%): 75\n",
            "Precision  (%): 60\n",
            "F1 Score  (%): 75\n",
            "Number of images: 130\n",
            "--- Execution End ---\n"
          ]
        },
        {
          "output_type": "display_data",
          "data": {
            "text/plain": [
              "<Figure size 432x288 with 0 Axes>"
            ]
          },
          "metadata": {}
        },
        {
          "output_type": "display_data",
          "data": {
            "text/plain": [
              "<Figure size 432x288 with 0 Axes>"
            ]
          },
          "metadata": {}
        },
        {
          "output_type": "display_data",
          "data": {
            "text/plain": [
              "<Figure size 432x288 with 0 Axes>"
            ]
          },
          "metadata": {}
        },
        {
          "output_type": "display_data",
          "data": {
            "text/plain": [
              "<Figure size 432x288 with 0 Axes>"
            ]
          },
          "metadata": {}
        }
      ],
      "source": [
        "accuracyValues = []\n",
        "adStatValues = []\n",
        "cnStatValues = []\n",
        "mciStatValues = []\n",
        "for i in range(0, executions):\n",
        "    experimentExecutionName = experimentName + '_' + str(i)\n",
        "    print(\"--- Execution \" + str(i) + \" begin ---\")\n",
        "    # Setup the loss fxn\n",
        "    crossEntrophyWeigths = crossEntrophyWeigths.to(device)\n",
        "    criterion = nn.CrossEntropyLoss(crossEntrophyWeigths)\n",
        "\n",
        "    logFile = os.path.join(experimentOutputFolder, experimentExecutionName + '_train.log')\n",
        "\n",
        "    # Train and evaluate\n",
        "    model_ft, val_acc_hist, val_loss_hist, train_acc_hist, train_loss_hist = train_model(model_ft, dataloaders_dict, criterion, optimizer_ft, num_epochs=num_epochs, is_inception=(model_name==\"inception\"), logFile = logFile)\n",
        "\n",
        "    torch.save(model_ft.state_dict(), os.path.join(experimentOutputFolder, experimentExecutionName + '.pth'))\n",
        "\n",
        "    # validation accuracy\n",
        "    fig = plt.figure()\n",
        "    lst = [ x.cpu().item() for x in val_acc_hist ]\n",
        "    plt.plot(lst)\n",
        "    ax = plt.gca()\n",
        "    plt.text(0.05, 0.9, 'FE = ' + str(feature_extract), transform=ax.transAxes)\n",
        "    plt.text(0.05, 0.8, 'LR = ' + str(learningRate), transform=ax.transAxes)\n",
        "    plt.text(0.05, 0.7, 'batch = ' + str(batch_size), transform=ax.transAxes)\n",
        "    plt.suptitle(experimentExecutionName + ' (acc set de validacion)')\n",
        "    plt.ylabel('Accuracy')\n",
        "    plt.xlabel('Epochs')\n",
        "    plt.savefig(os.path.join(experimentOutputFolder, experimentExecutionName + '_val_acc.png'))\n",
        "    plt.clf()\n",
        "\n",
        "    # validation loss\n",
        "    fig = plt.figure()\n",
        "    plt.plot(val_loss_hist)\n",
        "    ax = plt.gca()\n",
        "    plt.text(0.05, 0.3, 'FE = ' + str(feature_extract), transform=ax.transAxes)\n",
        "    plt.text(0.05, 0.2, 'LR = ' + str(learningRate), transform=ax.transAxes)\n",
        "    plt.text(0.05, 0.1, 'batch = ' + str(batch_size), transform=ax.transAxes)\n",
        "    plt.suptitle(experimentExecutionName + ' (loss set de validacion)')\n",
        "    plt.ylabel('Loss')\n",
        "    plt.xlabel('Epochs')\n",
        "    plt.savefig(os.path.join(experimentOutputFolder, experimentExecutionName + '_val_loss.png'))\n",
        "    plt.clf()\n",
        "\n",
        "    # train accuracy\n",
        "    fig = plt.figure()\n",
        "    lst = [ x.cpu().item() for x in train_acc_hist ]\n",
        "    ax = plt.gca()\n",
        "    plt.text(0.05, 0.9, 'FE = ' + str(feature_extract), transform=ax.transAxes)\n",
        "    plt.text(0.05, 0.8, 'LR = ' + str(learningRate), transform=ax.transAxes)\n",
        "    plt.text(0.05, 0.7, 'batch = ' + str(batch_size), transform=ax.transAxes)\n",
        "    plt.plot(lst)\n",
        "    plt.suptitle(experimentExecutionName + ' (accuracy set de train)')\n",
        "    plt.ylabel('Accuracy')\n",
        "    plt.xlabel('Epochs')\n",
        "    plt.savefig(os.path.join(experimentOutputFolder, experimentExecutionName + '_train_acc.png'))\n",
        "    plt.clf()\n",
        "\n",
        "    # train loss\n",
        "    fig = plt.figure()\n",
        "    ax = plt.gca()\n",
        "    plt.text(0.05, 0.3, 'FE = ' + str(feature_extract), transform=ax.transAxes)\n",
        "    plt.text(0.05, 0.2, 'LR = ' + str(learningRate), transform=ax.transAxes)\n",
        "    plt.text(0.05, 0.1, 'batch = ' + str(batch_size), transform=ax.transAxes)\n",
        "    plt.plot(train_loss_hist)\n",
        "    plt.suptitle(experimentExecutionName + ' (Loss set de train)')\n",
        "    plt.ylabel('Loss')\n",
        "    plt.xlabel('Epochs')\n",
        "    plt.savefig(os.path.join(experimentOutputFolder, experimentExecutionName + '_train_loss.png'))\n",
        "    plt.clf()\n",
        "\n",
        "    stats, accuracy = test_model(model_ft, dataloaders_dict, device)\n",
        "\n",
        "    print(\"accuracy: \" + str(accuracy))\n",
        "    accuracyValues.append(accuracy)\n",
        "\n",
        "    f = open(os.path.join(experimentOutputFolder, experimentExecutionName + \"_stats.txt\"), \"w\")\n",
        "    printFile(\"CN stats: \", f)\n",
        "    recall, specificity, precision, f1 = printClassStats(stats[0])\n",
        "    cnStatValues.append({\n",
        "        \"recall\": recall,\n",
        "        \"specificity\": specificity,\n",
        "        \"precision\": precision,\n",
        "        \"f1\": f1\n",
        "    })\n",
        "    # AD\n",
        "    printFile(\"\\nAD stats: \", f)\n",
        "    recall, specificity, precision, f1 = printClassStats(stats[1])\n",
        "    adStatValues.append({\n",
        "        \"recall\": recall,\n",
        "        \"specificity\": specificity,\n",
        "        \"precision\": precision,\n",
        "        \"f1\": f1\n",
        "    })\n",
        "    # MCI\n",
        "    printFile(\"\\nMCI stats: \", f)\n",
        "    recall, specificity, precision, f1 = printClassStats(stats[2])\n",
        "    mciStatValues.append({\n",
        "        \"recall\": recall,\n",
        "        \"specificity\": specificity,\n",
        "        \"precision\": precision,\n",
        "        \"f1\": f1\n",
        "    })\n",
        "    f.close()\n",
        "\n",
        "    print(\"--- Execution End ---\")"
      ]
    },
    {
      "cell_type": "code",
      "source": [
        "accuracyValues = torch.tensor(accuracyValues)\n",
        "std, mean = torch.std_mean(accuracyValues)\n",
        "f = open(os.path.join(\n",
        "    os.path.join(experimentOutputFolder, experimentName + '_results.txt')), \"w\")\n",
        "printFile(\"Final stats: \", f)\n",
        "printFile(\"Executions: \" + str(executions), f)\n",
        "printFile(\"Accuracy mean: \" + str(mean.item()), f)\n",
        "printFile(\"Accuracy std: \" + str(std.item()), f)\n",
        "printFile(\"Best accuracy: \" + str(accuracyValues.max().item()), f)\n",
        "printFile(\"Worst accuracy: \" + str(accuracyValues.min().item()), f)\n",
        "f.close()"
      ],
      "metadata": {
        "id": "WuiTfuCMd8j4",
        "colab": {
          "base_uri": "https://localhost:8080/"
        },
        "outputId": "70661545-cb8b-4666-a150-90e4d9e1213f"
      },
      "execution_count": null,
      "outputs": [
        {
          "output_type": "stream",
          "name": "stdout",
          "text": [
            "Final stats: \n",
            "Executions: 1\n",
            "Accuracy mean: 0.6018518805503845\n",
            "Accuracy std: nan\n",
            "Best accuracy: 0.6018518805503845\n",
            "Worst accuracy: 0.6018518805503845\n"
          ]
        }
      ]
    },
    {
      "cell_type": "markdown",
      "source": [
        "# ROC - AUC"
      ],
      "metadata": {
        "id": "xA-ShjPRUYxP"
      }
    },
    {
      "cell_type": "code",
      "source": [
        "def sortByX(point):\n",
        "  return point[0]\n",
        "\n",
        "# Se necesita ordenar los puntos para llamar a torch.trapezoid con los puntos ordenados por la coordenada X\n",
        "def sortListsByX(x, y):\n",
        "    points = zip(x, y)\n",
        "    points = list(points)\n",
        "    points.sort(key=sortByX)\n",
        "    x, y = ([ a for a,b in points ], [ b for a,b in points ])\n",
        "    return x, y\n",
        "\n",
        "fig = plt.figure()\n",
        "ad_y = ad_tpr = [ x[\"recall\"] for x in adStatValues ]\n",
        "ad_x = ad_fpr = [ 1.0 - x[\"specificity\"] for x in adStatValues ]\n",
        "ad_x, ad_y = sortListsByX(ad_x, ad_y)\n",
        "\n",
        "cn_y = cn_tpr = [ x[\"recall\"] for x in cnStatValues ]\n",
        "cn_x = cn_fpr = [ 1.0 - x[\"specificity\"] for x in cnStatValues ]\n",
        "cn_x, cn_y = sortListsByX(cn_x, cn_y)\n",
        "\n",
        "mci_y = mci_tpr = [ x[\"recall\"] for x in mciStatValues ]\n",
        "mci_x = mci_fpr = [ 1.0 - x[\"specificity\"] for x in mciStatValues ]\n",
        "mci_x, mci_y = sortListsByX(mci_x, mci_y)\n",
        "\n",
        "decimals = 3\n",
        "ad_auc = round(torch.trapezoid(torch.tensor(ad_y), torch.tensor(ad_x)).item(), decimals)\n",
        "cn_auc = round(torch.trapezoid(torch.tensor(cn_y), torch.tensor(cn_x)).item(), decimals)\n",
        "mci_auc = round(torch.trapezoid(torch.tensor(mci_y), torch.tensor(mci_x)).item(), decimals)\n",
        "\n",
        "plt.title(experimentName + \" ROC\")\n",
        "\n",
        "plt.plot(ad_fpr, ad_tpr)\n",
        "plt.plot(cn_fpr, cn_tpr)\n",
        "plt.plot(mci_fpr, mci_tpr)\n",
        "\n",
        "plt.legend([\"AD (\"+str(ad_auc)+\")\", \"CN (\"+str(cn_auc)+\")\", \"MCI (\"+str(mci_auc)+\")\"], loc =\"lower right\")\n",
        "plt.savefig(os.path.join(experimentOutputFolder, experimentExecutionName + '_auc_roc.png'))\n",
        "    \n",
        "plt.show()"
      ],
      "metadata": {
        "id": "mmKtfcWNUOIR",
        "colab": {
          "base_uri": "https://localhost:8080/",
          "height": 281
        },
        "outputId": "68c3bcc5-c89b-476a-f55c-f612d9c756b7"
      },
      "execution_count": null,
      "outputs": [
        {
          "output_type": "display_data",
          "data": {
            "text/plain": [
              "<Figure size 432x288 with 1 Axes>"
            ],
            "image/png": "[encoded data removed]"
          },
          "metadata": {
            "needs_background": "light"
          }
        }
      ]
    },
    {
      "cell_type": "code",
      "source": [
        "fig = plt.figure()\n",
        "ad_y = ad_tpr = [ x[\"recall\"] for x in adStatValues ]\n",
        "ad_x = ad_fpr = [ 1.0 - x[\"specificity\"] for x in adStatValues ]\n",
        "ad_x, ad_y = sortListsByX(ad_x, ad_y)\n",
        "\n",
        "decimals = 3\n",
        "ad_auc = round(torch.trapezoid(torch.tensor(ad_y), torch.tensor(ad_x)).item(), decimals)\n",
        "\n",
        "plt.title(experimentName + \" AD ROC\")\n",
        "\n",
        "plt.plot(ad_fpr, ad_tpr)\n",
        "\n",
        "plt.legend([\"AD (\"+str(ad_auc)+\")\"], loc =\"lower right\")\n",
        "plt.savefig(os.path.join(experimentOutputFolder, experimentExecutionName + '_auc_roc_ad.png'))\n",
        "\n",
        "plt.show()"
      ],
      "metadata": {
        "colab": {
          "base_uri": "https://localhost:8080/",
          "height": 281
        },
        "id": "yUUyX_2fpMSX",
        "outputId": "fc7e4094-7365-4cfc-82c0-81ab7fde3aed"
      },
      "execution_count": null,
      "outputs": [
        {
          "output_type": "display_data",
          "data": {
            "text/plain": [
              "<Figure size 432x288 with 1 Axes>"
            ],
            "image/png": "[encoded data removed]"
          },
          "metadata": {
            "needs_background": "light"
          }
        }
      ]
    },
    {
      "cell_type": "code",
      "source": [
        "fig = plt.figure()\n",
        "\n",
        "cn_y = cn_tpr = [ x[\"recall\"] for x in cnStatValues ]\n",
        "cn_x = cn_fpr = [ 1.0 - x[\"specificity\"] for x in cnStatValues ]\n",
        "cn_x, cn_y = sortListsByX(cn_x, cn_y)\n",
        "\n",
        "decimals = 3\n",
        "cn_auc = round(torch.trapezoid(torch.tensor(cn_y), torch.tensor(cn_x)).item(), decimals)\n",
        "\n",
        "plt.title(experimentName + \" CN ROC\")\n",
        "\n",
        "plt.plot(cn_fpr, cn_tpr)\n",
        "\n",
        "plt.legend([\"CN (\"+str(cn_auc)+\")\"], loc =\"lower right\")\n",
        "plt.savefig(os.path.join(experimentOutputFolder, experimentExecutionName + '_auc_roc_cn.png'))\n",
        "\n",
        "plt.show()"
      ],
      "metadata": {
        "colab": {
          "base_uri": "https://localhost:8080/",
          "height": 281
        },
        "id": "8hxzslmopMju",
        "outputId": "7ceb9737-459c-4729-ffb2-59d4efc7b9df"
      },
      "execution_count": null,
      "outputs": [
        {
          "output_type": "display_data",
          "data": {
            "text/plain": [
              "<Figure size 432x288 with 1 Axes>"
            ],
            "image/png": "[encoded data removed]"
          },
          "metadata": {
            "needs_background": "light"
          }
        }
      ]
    },
    {
      "cell_type": "code",
      "source": [
        "fig = plt.figure()\n",
        "\n",
        "mci_y = mci_tpr = [ x[\"recall\"] for x in mciStatValues ]\n",
        "mci_x = mci_fpr = [ 1.0 - x[\"specificity\"] for x in mciStatValues ]\n",
        "mci_x, mci_y = sortListsByX(mci_x, mci_y)\n",
        "\n",
        "decimals = 3\n",
        "mci_auc = round(torch.trapezoid(torch.tensor(mci_y), torch.tensor(mci_x)).item(), decimals)\n",
        "\n",
        "plt.title(experimentName + \" MCI ROC\")\n",
        "\n",
        "plt.plot(mci_fpr, mci_tpr)\n",
        "\n",
        "plt.legend([\"MCI (\"+str(mci_auc)+\")\"], loc =\"lower right\")\n",
        "plt.savefig(os.path.join(experimentOutputFolder, experimentExecutionName + '_auc_roc_mci.png'))\n",
        "\n",
        "plt.show()"
      ],
      "metadata": {
        "colab": {
          "base_uri": "https://localhost:8080/",
          "height": 281
        },
        "id": "E9Z0TN2RpMzv",
        "outputId": "cce85a42-da16-4dc1-d5b9-3146f274d3a9"
      },
      "execution_count": null,
      "outputs": [
        {
          "output_type": "display_data",
          "data": {
            "text/plain": [
              "<Figure size 432x288 with 1 Axes>"
            ],
            "image/png": "[encoded data removed]"
          },
          "metadata": {
            "needs_background": "light"
          }
        }
      ]
    }
  ],
  "metadata": {
    "accelerator": "GPU",
    "colab": {
      "provenance": []
    },
    "gpuClass": "premium",
    "kernelspec": {
      "display_name": "Python 3",
      "name": "python3"
    },
    "language_info": {
      "name": "python"
    },
    "widgets": {
      "application/vnd.jupyter.widget-state+json": {
        "e58701268e414ee494812df35b750951": {
          "model_module": "@jupyter-widgets/controls",
          "model_name": "HBoxModel",
          "model_module_version": "1.5.0",
          "state": {
            "_dom_classes": [],
            "_model_module": "@jupyter-widgets/controls",
            "_model_module_version": "1.5.0",
            "_model_name": "HBoxModel",
            "_view_count": null,
            "_view_module": "@jupyter-widgets/controls",
            "_view_module_version": "1.5.0",
            "_view_name": "HBoxView",
            "box_style": "",
            "children": [
              "IPY_MODEL_6259ea78745743d0a45ca7229584d68c",
              "IPY_MODEL_539a7687bdd04c20af58658a4ffa8033",
              "IPY_MODEL_180a408371204175a1cedc7102425283"
            ],
            "layout": "IPY_MODEL_349e6d4f4f3243b1aabc569383bb96b5"
          }
        },
        "6259ea78745743d0a45ca7229584d68c": {
          "model_module": "@jupyter-widgets/controls",
          "model_name": "HTMLModel",
          "model_module_version": "1.5.0",
          "state": {
            "_dom_classes": [],
            "_model_module": "@jupyter-widgets/controls",
            "_model_module_version": "1.5.0",
            "_model_name": "HTMLModel",
            "_view_count": null,
            "_view_module": "@jupyter-widgets/controls",
            "_view_module_version": "1.5.0",
            "_view_name": "HTMLView",
            "description": "",
            "description_tooltip": null,
            "layout": "IPY_MODEL_00ac5b6fc6f540c8b882bdcb85827b67",
            "placeholder": "​",
            "style": "IPY_MODEL_249a799f1e0442ea9828c6b96ea9ac12",
            "value": "100%"
          }
        },
        "539a7687bdd04c20af58658a4ffa8033": {
          "model_module": "@jupyter-widgets/controls",
          "model_name": "FloatProgressModel",
          "model_module_version": "1.5.0",
          "state": {
            "_dom_classes": [],
            "_model_module": "@jupyter-widgets/controls",
            "_model_module_version": "1.5.0",
            "_model_name": "FloatProgressModel",
            "_view_count": null,
            "_view_module": "@jupyter-widgets/controls",
            "_view_module_version": "1.5.0",
            "_view_name": "ProgressView",
            "bar_style": "success",
            "description": "",
            "description_tooltip": null,
            "layout": "IPY_MODEL_3d2b03fed95c4480ab44db4571d684ed",
            "max": 108949747,
            "min": 0,
            "orientation": "horizontal",
            "style": "IPY_MODEL_9005236086394b57ac7be7480bd6106d",
            "value": 108949747
          }
        },
        "180a408371204175a1cedc7102425283": {
          "model_module": "@jupyter-widgets/controls",
          "model_name": "HTMLModel",
          "model_module_version": "1.5.0",
          "state": {
            "_dom_classes": [],
            "_model_module": "@jupyter-widgets/controls",
            "_model_module_version": "1.5.0",
            "_model_name": "HTMLModel",
            "_view_count": null,
            "_view_module": "@jupyter-widgets/controls",
            "_view_module_version": "1.5.0",
            "_view_name": "HTMLView",
            "description": "",
            "description_tooltip": null,
            "layout": "IPY_MODEL_4e7e3926a4814c9b9e93afb967fe28c6",
            "placeholder": "​",
            "style": "IPY_MODEL_aae9c7b1a5984bbd994229c617c19693",
            "value": " 104M/104M [00:00&lt;00:00, 238MB/s]"
          }
        },
        "349e6d4f4f3243b1aabc569383bb96b5": {
          "model_module": "@jupyter-widgets/base",
          "model_name": "LayoutModel",
          "model_module_version": "1.2.0",
          "state": {
            "_model_module": "@jupyter-widgets/base",
            "_model_module_version": "1.2.0",
            "_model_name": "LayoutModel",
            "_view_count": null,
            "_view_module": "@jupyter-widgets/base",
            "_view_module_version": "1.2.0",
            "_view_name": "LayoutView",
            "align_content": null,
            "align_items": null,
            "align_self": null,
            "border": null,
            "bottom": null,
            "display": null,
            "flex": null,
            "flex_flow": null,
            "grid_area": null,
            "grid_auto_columns": null,
            "grid_auto_flow": null,
            "grid_auto_rows": null,
            "grid_column": null,
            "grid_gap": null,
            "grid_row": null,
            "grid_template_areas": null,
            "grid_template_columns": null,
            "grid_template_rows": null,
            "height": null,
            "justify_content": null,
            "justify_items": null,
            "left": null,
            "margin": null,
            "max_height": null,
            "max_width": null,
            "min_height": null,
            "min_width": null,
            "object_fit": null,
            "object_position": null,
            "order": null,
            "overflow": null,
            "overflow_x": null,
            "overflow_y": null,
            "padding": null,
            "right": null,
            "top": null,
            "visibility": null,
            "width": null
          }
        },
        "00ac5b6fc6f540c8b882bdcb85827b67": {
          "model_module": "@jupyter-widgets/base",
          "model_name": "LayoutModel",
          "model_module_version": "1.2.0",
          "state": {
            "_model_module": "@jupyter-widgets/base",
            "_model_module_version": "1.2.0",
            "_model_name": "LayoutModel",
            "_view_count": null,
            "_view_module": "@jupyter-widgets/base",
            "_view_module_version": "1.2.0",
            "_view_name": "LayoutView",
            "align_content": null,
            "align_items": null,
            "align_self": null,
            "border": null,
            "bottom": null,
            "display": null,
            "flex": null,
            "flex_flow": null,
            "grid_area": null,
            "grid_auto_columns": null,
            "grid_auto_flow": null,
            "grid_auto_rows": null,
            "grid_column": null,
            "grid_gap": null,
            "grid_row": null,
            "grid_template_areas": null,
            "grid_template_columns": null,
            "grid_template_rows": null,
            "height": null,
            "justify_content": null,
            "justify_items": null,
            "left": null,
            "margin": null,
            "max_height": null,
            "max_width": null,
            "min_height": null,
            "min_width": null,
            "object_fit": null,
            "object_position": null,
            "order": null,
            "overflow": null,
            "overflow_x": null,
            "overflow_y": null,
            "padding": null,
            "right": null,
            "top": null,
            "visibility": null,
            "width": null
          }
        },
        "249a799f1e0442ea9828c6b96ea9ac12": {
          "model_module": "@jupyter-widgets/controls",
          "model_name": "DescriptionStyleModel",
          "model_module_version": "1.5.0",
          "state": {
            "_model_module": "@jupyter-widgets/controls",
            "_model_module_version": "1.5.0",
            "_model_name": "DescriptionStyleModel",
            "_view_count": null,
            "_view_module": "@jupyter-widgets/base",
            "_view_module_version": "1.2.0",
            "_view_name": "StyleView",
            "description_width": ""
          }
        },
        "3d2b03fed95c4480ab44db4571d684ed": {
          "model_module": "@jupyter-widgets/base",
          "model_name": "LayoutModel",
          "model_module_version": "1.2.0",
          "state": {
            "_model_module": "@jupyter-widgets/base",
            "_model_module_version": "1.2.0",
            "_model_name": "LayoutModel",
            "_view_count": null,
            "_view_module": "@jupyter-widgets/base",
            "_view_module_version": "1.2.0",
            "_view_name": "LayoutView",
            "align_content": null,
            "align_items": null,
            "align_self": null,
            "border": null,
            "bottom": null,
            "display": null,
            "flex": null,
            "flex_flow": null,
            "grid_area": null,
            "grid_auto_columns": null,
            "grid_auto_flow": null,
            "grid_auto_rows": null,
            "grid_column": null,
            "grid_gap": null,
            "grid_row": null,
            "grid_template_areas": null,
            "grid_template_columns": null,
            "grid_template_rows": null,
            "height": null,
            "justify_content": null,
            "justify_items": null,
            "left": null,
            "margin": null,
            "max_height": null,
            "max_width": null,
            "min_height": null,
            "min_width": null,
            "object_fit": null,
            "object_position": null,
            "order": null,
            "overflow": null,
            "overflow_x": null,
            "overflow_y": null,
            "padding": null,
            "right": null,
            "top": null,
            "visibility": null,
            "width": null
          }
        },
        "9005236086394b57ac7be7480bd6106d": {
          "model_module": "@jupyter-widgets/controls",
          "model_name": "ProgressStyleModel",
          "model_module_version": "1.5.0",
          "state": {
            "_model_module": "@jupyter-widgets/controls",
            "_model_module_version": "1.5.0",
            "_model_name": "ProgressStyleModel",
            "_view_count": null,
            "_view_module": "@jupyter-widgets/base",
            "_view_module_version": "1.2.0",
            "_view_name": "StyleView",
            "bar_color": null,
            "description_width": ""
          }
        },
        "4e7e3926a4814c9b9e93afb967fe28c6": {
          "model_module": "@jupyter-widgets/base",
          "model_name": "LayoutModel",
          "model_module_version": "1.2.0",
          "state": {
            "_model_module": "@jupyter-widgets/base",
            "_model_module_version": "1.2.0",
            "_model_name": "LayoutModel",
            "_view_count": null,
            "_view_module": "@jupyter-widgets/base",
            "_view_module_version": "1.2.0",
            "_view_name": "LayoutView",
            "align_content": null,
            "align_items": null,
            "align_self": null,
            "border": null,
            "bottom": null,
            "display": null,
            "flex": null,
            "flex_flow": null,
            "grid_area": null,
            "grid_auto_columns": null,
            "grid_auto_flow": null,
            "grid_auto_rows": null,
            "grid_column": null,
            "grid_gap": null,
            "grid_row": null,
            "grid_template_areas": null,
            "grid_template_columns": null,
            "grid_template_rows": null,
            "height": null,
            "justify_content": null,
            "justify_items": null,
            "left": null,
            "margin": null,
            "max_height": null,
            "max_width": null,
            "min_height": null,
            "min_width": null,
            "object_fit": null,
            "object_position": null,
            "order": null,
            "overflow": null,
            "overflow_x": null,
            "overflow_y": null,
            "padding": null,
            "right": null,
            "top": null,
            "visibility": null,
            "width": null
          }
        },
        "aae9c7b1a5984bbd994229c617c19693": {
          "model_module": "@jupyter-widgets/controls",
          "model_name": "DescriptionStyleModel",
          "model_module_version": "1.5.0",
          "state": {
            "_model_module": "@jupyter-widgets/controls",
            "_model_module_version": "1.5.0",
            "_model_name": "DescriptionStyleModel",
            "_view_count": null,
            "_view_module": "@jupyter-widgets/base",
            "_view_module_version": "1.2.0",
            "_view_name": "StyleView",
            "description_width": ""
          }
        }
      }
    }
  },
  "nbformat": 4,
  "nbformat_minor": 0
}